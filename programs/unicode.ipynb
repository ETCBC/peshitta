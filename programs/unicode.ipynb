{
 "cells": [
  {
   "cell_type": "code",
   "execution_count": 3,
   "metadata": {},
   "outputs": [],
   "source": [
    "from unicodedata import name"
   ]
  },
  {
   "cell_type": "markdown",
   "metadata": {},
   "source": [
    "# Rahta\n",
    "\n",
    "Is there a rahta in Isaiah 35:3?\n",
    "\n",
    "No. As you see below, the `\"` is translated to the combining diaeresis u0308.\n",
    "\n",
    "According to the WIT table, `\"` is seyame."
   ]
  },
  {
   "cell_type": "code",
   "execution_count": 8,
   "metadata": {},
   "outputs": [],
   "source": [
    "isa35_3_wit = '>TX\"JLJN >\"JDJ>\" DMR\"PJN WBWR\"K> DR\"<LN >CTR\"RJN'\n",
    "isa35_3 = \"ܐܬܚ̈ܝܠܝܢ ܐ̈ܝܕܝܐ̈ ܕܡܪ̈ܦܝܢ ܘܒܘܪ̈ܟܐ ܕܪ̈ܥܠܢ ܐܫܬܪ̈ܪܝܢ\""
   ]
  },
  {
   "cell_type": "code",
   "execution_count": 9,
   "metadata": {},
   "outputs": [
    {
     "name": "stdout",
     "output_type": "stream",
     "text": [
      "710 = SYRIAC LETTER ALAPH\n",
      "72c = SYRIAC LETTER TAW\n",
      "71a = SYRIAC LETTER HETH\n",
      "308 = COMBINING DIAERESIS\n",
      "71d = SYRIAC LETTER YUDH\n",
      "720 = SYRIAC LETTER LAMADH\n",
      "71d = SYRIAC LETTER YUDH\n",
      "722 = SYRIAC LETTER NUN\n",
      "20 = SPACE\n",
      "710 = SYRIAC LETTER ALAPH\n",
      "308 = COMBINING DIAERESIS\n",
      "71d = SYRIAC LETTER YUDH\n",
      "715 = SYRIAC LETTER DALATH\n",
      "71d = SYRIAC LETTER YUDH\n",
      "710 = SYRIAC LETTER ALAPH\n",
      "308 = COMBINING DIAERESIS\n",
      "20 = SPACE\n",
      "715 = SYRIAC LETTER DALATH\n",
      "721 = SYRIAC LETTER MIM\n",
      "72a = SYRIAC LETTER RISH\n",
      "308 = COMBINING DIAERESIS\n",
      "726 = SYRIAC LETTER PE\n",
      "71d = SYRIAC LETTER YUDH\n",
      "722 = SYRIAC LETTER NUN\n",
      "20 = SPACE\n",
      "718 = SYRIAC LETTER WAW\n",
      "712 = SYRIAC LETTER BETH\n",
      "718 = SYRIAC LETTER WAW\n",
      "72a = SYRIAC LETTER RISH\n",
      "308 = COMBINING DIAERESIS\n",
      "71f = SYRIAC LETTER KAPH\n",
      "710 = SYRIAC LETTER ALAPH\n",
      "20 = SPACE\n",
      "715 = SYRIAC LETTER DALATH\n",
      "72a = SYRIAC LETTER RISH\n",
      "308 = COMBINING DIAERESIS\n",
      "725 = SYRIAC LETTER E\n",
      "720 = SYRIAC LETTER LAMADH\n",
      "722 = SYRIAC LETTER NUN\n",
      "20 = SPACE\n",
      "710 = SYRIAC LETTER ALAPH\n",
      "72b = SYRIAC LETTER SHIN\n",
      "72c = SYRIAC LETTER TAW\n",
      "72a = SYRIAC LETTER RISH\n",
      "308 = COMBINING DIAERESIS\n",
      "72a = SYRIAC LETTER RISH\n",
      "71d = SYRIAC LETTER YUDH\n",
      "722 = SYRIAC LETTER NUN\n"
     ]
    }
   ],
   "source": [
    "for uch in isa35_3:\n",
    "    print(f\"{str(hex(ord(uch)))[2:]} = {name(uch)}\")"
   ]
  }
 ],
 "metadata": {
  "jupytext": {
   "encoding": "# -*- coding: utf-8 -*-"
  },
  "kernelspec": {
   "display_name": "Python 3",
   "language": "python",
   "name": "python3"
  },
  "language_info": {
   "codemirror_mode": {
    "name": "ipython",
    "version": 3
   },
   "file_extension": ".py",
   "mimetype": "text/x-python",
   "name": "python",
   "nbconvert_exporter": "python",
   "pygments_lexer": "ipython3",
   "version": "3.7.1"
  }
 },
 "nbformat": 4,
 "nbformat_minor": 2
}
