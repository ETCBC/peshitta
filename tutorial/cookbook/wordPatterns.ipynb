{
 "cells": [
  {
   "cell_type": "markdown",
   "metadata": {},
   "source": [
    "# Use Text-Fabric search to find word patterns\n",
    "\n",
    "Prompted by [Paul Noorlander](https://cambridge.academia.edu/PaulNoorlander), answered by Dirk Roorda"
   ]
  },
  {
   "cell_type": "markdown",
   "metadata": {},
   "source": [
    "# Getting data and using the TF browser\n",
    "\n",
    "It is convenient to have the Text-Fabric browser on the side to make quick excursions through the data.\n",
    "\n",
    "So, go off to a terminal and give the command\n",
    "\n",
    "```text-fabric peshitta:latest --checkout=latest```\n",
    "\n",
    "This fetches the latest version of the Peshitta app and data.\n",
    "\n",
    "After that, you can just say\n",
    "\n",
    "```text-fabric peshitta```\n",
    "\n",
    "until you got word that a new version of app and/or data has become available."
   ]
  },
  {
   "cell_type": "code",
   "execution_count": 1,
   "metadata": {},
   "outputs": [],
   "source": [
    "from tf.app import use"
   ]
  },
  {
   "cell_type": "code",
   "execution_count": 2,
   "metadata": {},
   "outputs": [
    {
     "data": {
      "text/html": [
       "<b title=\"local release\">TF-app:</b> <span title=\"rv2.3.0=#f160832332addae927db08be537272dc7f232f00 offline under ~/text-fabric-data\">~/text-fabric-data/annotation/app-peshitta/code</span>"
      ],
      "text/plain": [
       "<IPython.core.display.HTML object>"
      ]
     },
     "metadata": {},
     "output_type": "display_data"
    },
    {
     "data": {
      "text/html": [
       "<b title=\"local release\">data:</b> <span title=\"r0.4 offline under ~/text-fabric-data\">~/text-fabric-data/etcbc/peshitta/tf/0.1</span>"
      ],
      "text/plain": [
       "<IPython.core.display.HTML object>"
      ]
     },
     "metadata": {},
     "output_type": "display_data"
    },
    {
     "data": {
      "text/html": [
       "<b>Text-Fabric:</b> <a target=\"_blank\" href=\"https://annotation.github.io/text-fabric/cheatsheet.html\" title=\"text-fabric-api\">Text-Fabric API 8.4.2</a>, <a target=\"_blank\" href=\"https://github.com/annotation/app-peshitta\" title=\"peshitta TF-app\">app-peshitta</a>, <a target=\"_blank\" href=\"https://annotation.github.io/text-fabric/about/searchusage.html\" title=\"Search Templates Introduction and Reference\">Search Reference</a><br><b>Data:</b> <a target=\"_blank\" href=\"https://github.com/etcbc/peshitta/blob/master/docs/transcription.md\" title=\"provenance of Peshitta (Old Testament)\">PESHITTA</a>, <a target=\"_blank\" href=\"https://annotation.github.io/text-fabric/writing/syriac.html\" title=\"How TF features represent text\">Character table</a>, <a target=\"_blank\" href=\"https://github.com/etcbc/peshitta/blob/master/docs/transcription-0.1.md#\" title=\"PESHITTA feature documentation\">Feature docs</a><br><b>Features:</b><br><details><summary><b>Peshitta (Old Testament)</b></summary><a target=\"_blank\" href=\"https://github.com/etcbc/peshitta/blob/master/docs/transcription-0.1.md#book\" title=\"~/text-fabric-data/etcbc/peshitta/tf/0.1/book.tf\">book</a><br><a target=\"_blank\" href=\"https://github.com/etcbc/peshitta/blob/master/docs/transcription-0.1.md#book@ll\" title=\"~/text-fabric-data/etcbc/peshitta/tf/0.1/book@en.tf\">book@ll</a><br><a target=\"_blank\" href=\"https://github.com/etcbc/peshitta/blob/master/docs/transcription-0.1.md#chapter\" title=\"~/text-fabric-data/etcbc/peshitta/tf/0.1/chapter.tf\">chapter</a><br><a target=\"_blank\" href=\"https://github.com/etcbc/peshitta/blob/master/docs/transcription-0.1.md#otype\" title=\"~/text-fabric-data/etcbc/peshitta/tf/0.1/otype.tf\">otype</a><br><a target=\"_blank\" href=\"https://github.com/etcbc/peshitta/blob/master/docs/transcription-0.1.md#trailer\" title=\"~/text-fabric-data/etcbc/peshitta/tf/0.1/trailer.tf\">trailer</a><br><a target=\"_blank\" href=\"https://github.com/etcbc/peshitta/blob/master/docs/transcription-0.1.md#trailer_etcbc\" title=\"~/text-fabric-data/etcbc/peshitta/tf/0.1/trailer_etcbc.tf\">trailer_etcbc</a><br><a target=\"_blank\" href=\"https://github.com/etcbc/peshitta/blob/master/docs/transcription-0.1.md#verse\" title=\"~/text-fabric-data/etcbc/peshitta/tf/0.1/verse.tf\">verse</a><br><a target=\"_blank\" href=\"https://github.com/etcbc/peshitta/blob/master/docs/transcription-0.1.md#witness\" title=\"~/text-fabric-data/etcbc/peshitta/tf/0.1/witness.tf\">witness</a><br><a target=\"_blank\" href=\"https://github.com/etcbc/peshitta/blob/master/docs/transcription-0.1.md#word\" title=\"~/text-fabric-data/etcbc/peshitta/tf/0.1/word.tf\">word</a><br><a target=\"_blank\" href=\"https://github.com/etcbc/peshitta/blob/master/docs/transcription-0.1.md#word_etcbc\" title=\"~/text-fabric-data/etcbc/peshitta/tf/0.1/word_etcbc.tf\">word_etcbc</a><br><b><i><a target=\"_blank\" href=\"https://github.com/etcbc/peshitta/blob/master/docs/transcription-0.1.md#oslots\" title=\"~/text-fabric-data/etcbc/peshitta/tf/0.1/oslots.tf\">oslots</a></i></b><br></details>"
      ],
      "text/plain": [
       "<IPython.core.display.HTML object>"
      ]
     },
     "metadata": {},
     "output_type": "display_data"
    },
    {
     "data": {
      "text/html": [
       "<style>tr.tf.ltr, td.tf.ltr, th.tf.ltr { text-align: left ! important;}\n",
       "tr.tf.rtl, td.tf.rtl, th.tf.rtl { text-align: right ! important;}\n",
       "@font-face {\n",
       "  font-family: \"Gentium Plus\";\n",
       "  src: local('Gentium Plus'), local('GentiumPlus'),\n",
       "    url('/server/static/fonts/GentiumPlus-R.woff') format('woff'),\n",
       "    url('https://github.com/annotation/text-fabric/blob/master/tf/server/static/fonts/GentiumPlus-R.woff?raw=true') format('woff');\n",
       "}\n",
       "\n",
       "@font-face {\n",
       "  font-family: \"Ezra SIL\";\n",
       "  src: local('Ezra SIL'), local('EzraSIL'),\n",
       "    url('/server/static/fonts/SILEOT.woff') format('woff'),\n",
       "    url('https://github.com/annotation/text-fabric/blob/master/tf/server/static/fonts/SILEOT.woff?raw=true') format('woff');\n",
       "}\n",
       "\n",
       "@font-face {\n",
       "  font-family: \"SBL Hebrew\";\n",
       "  src: local('SBL Hebrew'), local('SBLHebrew'),\n",
       "    url('/server/static/fonts/SBL_Hbrw.woff') format('woff'),\n",
       "    url('https://github.com/annotation/text-fabric/blob/master/tf/server/static/fonts/SBL_Hbrw.woff?raw=true') format('woff');\n",
       "}\n",
       "\n",
       "@font-face {\n",
       "  font-family: \"Estrangelo Edessa\";\n",
       "  src: local('Estrangelo Edessa'), local('EstrangeloEdessa');\n",
       "    url('/server/static/fonts/SyrCOMEdessa.woff') format('woff'),\n",
       "    url('https://github.com/annotation/text-fabric/blob/master/tf/server/static/fonts/SyrCOMEdessa.woff?raw=true') format('woff');\n",
       "}\n",
       "\n",
       "@font-face {\n",
       "  font-family: AmiriQuran;\n",
       "  font-style: normal;\n",
       "  font-weight: 400;\n",
       "  src: local('Amiri Quran'), local('AmiriQuran'),\n",
       "    url('/server/static/fonts/AmiriQuran.woff') format('woff'),\n",
       "    url('https://github.com/annotation/text-fabric/blob/master/tf/server/static/fonts/AmiriQuran.woff?raw=true') format('woff');\n",
       "}\n",
       "\n",
       "@font-face {\n",
       "  font-family: AmiriQuranColored;\n",
       "  font-style: normal;\n",
       "  font-weight: 400;\n",
       "  src: local('Amiri Quran Colored'), local('AmiriQuranColored'),\n",
       "    url('/server/static/fonts/AmiriQuranColored.woff') format('woff'),\n",
       "    url('https://github.com/annotation/text-fabric/blob/master/tf/server/static/fonts/AmiriQuranColored.woff?raw=true') format('woff');\n",
       "}\n",
       "\n",
       "@font-face {\n",
       "  font-family: \"Santakku\";\n",
       "  src: local('Santakku'),\n",
       "    url('/server/static/fonts/Santakku.woff') format('woff'),\n",
       "    url('https://github.com/annotation/text-fabric/blob/master/tf/server/static/fonts/Santakku.woff?raw=true') format('woff');\n",
       "}\n",
       "\n",
       "@font-face {\n",
       "  font-family: \"SantakkuM\";\n",
       "  src: local('SantakkuM'),\n",
       "    url('/server/static/fonts/SantakkuM.woff') format('woff'),\n",
       "    url('https://github.com/annotation/text-fabric/blob/master/tf/server/static/fonts/SantakkuM.woff?raw=true') format('woff');\n",
       "}\n",
       "/* bypassing some classical notebook settings */\n",
       "div#notebook {\n",
       "  line-height: unset;\n",
       "}\n",
       "/* neutral text */\n",
       ".txtn,.txtn a:visited,.txtn a:link {\n",
       "    font-family: sans-serif;\n",
       "    font-size: medium;\n",
       "    direction: ltr;\n",
       "    text-decoration: none;\n",
       "    color: var(--text-color);\n",
       "}\n",
       "/* transcription text */\n",
       ".txtt,.txtt a:visited,.txtt a:link {\n",
       "    font-family: monospace;\n",
       "    font-size: medium;\n",
       "    direction: ltr;\n",
       "    text-decoration: none;\n",
       "    color: var(--text-color);\n",
       "}\n",
       "/* source text */\n",
       ".txto,.txto a:visited,.txto a:link {\n",
       "    font-family: serif;\n",
       "    font-size: medium;\n",
       "    direction: ltr;\n",
       "    text-decoration: none;\n",
       "    color: var(--text-color);\n",
       "}\n",
       "/* phonetic text */\n",
       ".txtp,.txtp a:visited,.txtp a:link {\n",
       "    font-family: Gentium, sans-serif;\n",
       "    font-size: medium;\n",
       "    direction: ltr;\n",
       "    text-decoration: none;\n",
       "    color: var(--text-color);\n",
       "}\n",
       "/* original script text */\n",
       ".txtu,.txtu a:visited,.txtu a:link {\n",
       "    font-family: Gentium, sans-serif;\n",
       "    font-size: medium;\n",
       "    text-decoration: none;\n",
       "    color: var(--text-color);\n",
       "}\n",
       "/* hebrew */\n",
       ".txtu.hbo,.lex.hbo {\n",
       "    font-family: \"Ezra SIL\", \"SBL Hebrew\", sans-serif;\n",
       "    font-size: large;\n",
       "    direction: rtl ! important;\n",
       "    unicode-bidi: embed;\n",
       "}\n",
       "/* syriac */\n",
       ".txtu.syc,.lex.syc {\n",
       "    font-family: \"Estrangelo Edessa\", sans-serif;\n",
       "    font-size: medium;\n",
       "    direction: rtl ! important;\n",
       "    unicode-bidi: embed;\n",
       "}\n",
       "/* neo aramaic */\n",
       ".txtu.cld,.lex.cld {\n",
       "    font-family: \"CharisSIL-R\", sans-serif;\n",
       "    font-size: medium;\n",
       "    direction: ltr ! important;\n",
       "    unicode-bidi: embed;\n",
       "}\n",
       "/* standard arabic */\n",
       ".txtu.ara,.lex.ara {\n",
       "    font-family: \"AmiriQuran\", sans-serif;\n",
       "    font-size: large;\n",
       "    direction: rtl ! important;\n",
       "    unicode-bidi: embed;\n",
       "}\n",
       "/* cuneiform */\n",
       ".txtu.akk,.lex.akk {\n",
       "    font-family: Santakku, sans-serif;\n",
       "    font-size: large;\n",
       "    direction: ltr ! important;\n",
       "    unicode-bidi: embed;\n",
       "}\n",
       "/* greek */\n",
       ".txtu.grc,.lex.grc a:link {\n",
       "    font-family: Gentium, sans-serif;\n",
       "    font-size: medium;\n",
       "    direction: ltr ! important;\n",
       "    unicode-bidi: embed;\n",
       "}\n",
       "a:hover {\n",
       "    text-decoration: underline | important;\n",
       "    color: #0000ff | important;\n",
       "}\n",
       ".ltr {\n",
       "    direction: ltr ! important;\n",
       "}\n",
       ".rtl {\n",
       "    direction: rtl ! important;\n",
       "}\n",
       ".ubd {\n",
       "    unicode-bidi: embed;\n",
       "}\n",
       ".col {\n",
       "   display: inline-block;\n",
       "}\n",
       ".features {\n",
       "    font-family: monospace;\n",
       "    font-size: medium;\n",
       "    font-weight: bold;\n",
       "    color: var(--features);\n",
       "    display: flex;\n",
       "    flex-flow: column nowrap;\n",
       "    justify-content: flex-start;\n",
       "    align-items: flex-start;\n",
       "    align-content: flex-start;\n",
       "    padding: 2px;\n",
       "    margin: 2px;\n",
       "    direction: ltr;\n",
       "    border: var(--meta-width) solid var(--meta-color);\n",
       "    border-radius: var(--meta-width);\n",
       "}\n",
       ".features div,.features span {\n",
       "    padding: 0;\n",
       "    margin: -2px 0;\n",
       "}\n",
       ".features .f {\n",
       "    font-family: sans-serif;\n",
       "    font-size: small;\n",
       "    font-weight: normal;\n",
       "    color: #5555bb;\n",
       "}\n",
       ".features .xft {\n",
       "  color: #000000;\n",
       "  background-color: #eeeeee;\n",
       "  font-size: medium;\n",
       "  margin: 2px 0px;\n",
       "}\n",
       ".features .xft .f {\n",
       "  color: #000000;\n",
       "  background-color: #eeeeee;\n",
       "  font-size: small;\n",
       "  font-weight: normal;\n",
       "}\n",
       ".section {\n",
       "    font-family: sans-serif;\n",
       "    font-size: small;\n",
       "    font-weight: bold;\n",
       "    color: var(--section);\n",
       "    unicode-bidi: embed;\n",
       "    text-align: start;\n",
       "}\n",
       ".structure {\n",
       "    font-family: sans-serif;\n",
       "    font-size: small;\n",
       "    font-weight: bold;\n",
       "    color: var(--structure);\n",
       "    unicode-bidi: embed;\n",
       "    text-align: start;\n",
       "}\n",
       ".comments {\n",
       "    display: flex;\n",
       "    justify-content: flex-start;\n",
       "    align-items: flex-start;\n",
       "    align-content: flex-start;\n",
       "    flex-flow: column nowrap;\n",
       "}\n",
       ".nd, a:link.nd {\n",
       "    font-family: sans-serif;\n",
       "    font-size: small;\n",
       "    color: var(--node);\n",
       "    vertical-align: super;\n",
       "    direction: ltr ! important;\n",
       "    unicode-bidi: embed;\n",
       "}\n",
       ".lex {\n",
       "  color: var(--lex-color);;\n",
       "}\n",
       ".children,.children.ltr {\n",
       "    display: flex;\n",
       "    border: 0;\n",
       "    background-color: #ffffff;\n",
       "    justify-content: flex-start;\n",
       "    align-items: flex-start;\n",
       "    align-content: flex-start;\n",
       "}\n",
       ".children.stretch {\n",
       "    align-items: stretch;\n",
       "}\n",
       ".children.hor {\n",
       "    flex-flow: row nowrap;\n",
       "}\n",
       ".children.hor.wrap {\n",
       "    flex-flow: row wrap;\n",
       "}\n",
       ".children.ver {\n",
       "    flex-flow: column nowrap;\n",
       "}\n",
       ".children.ver.wrap {\n",
       "    flex-flow: column wrap;\n",
       "}\n",
       ".contnr {\n",
       "    width: fit-content;\n",
       "    display: flex;\n",
       "    justify-content: flex-start;\n",
       "    align-items: flex-start;\n",
       "    align-content: flex-start;\n",
       "    flex-flow: column nowrap;\n",
       "    background: #ffffff none repeat scroll 0 0;\n",
       "    padding:  10px 2px 2px 2px;\n",
       "    margin: 16px 2px 2px 2px;\n",
       "    border-style: solid;\n",
       "    font-size: small;\n",
       "}\n",
       ".contnr.trm {\n",
       "    background-attachment: local;\n",
       "}\n",
       ".contnr.cnul {\n",
       "    padding:  0;\n",
       "    margin: 0;\n",
       "    border-style: solid;\n",
       "    font-size: xx-small;\n",
       "}\n",
       ".contnr.cnul,.lbl.cnul {\n",
       "    border-color: var(--border-color-nul);\n",
       "    border-width: var(--border-width-nul);\n",
       "    border-radius: var(--border-width-nul);\n",
       "}\n",
       ".contnr.c0,.lbl.c0 {\n",
       "    border-color: var(--border-color0);\n",
       "    border-width: var(--border-width0);\n",
       "    border-radius: var(--border-width0);\n",
       "}\n",
       ".contnr.c1,.lbl.c1 {\n",
       "    border-color: var(--border-color1);\n",
       "    border-width: var(--border-width1);\n",
       "    border-radius: var(--border-width1);\n",
       "}\n",
       ".contnr.c2,.lbl.c2 {\n",
       "    border-color: var(--border-color2);\n",
       "    border-width: var(--border-width2);\n",
       "    border-radius: var(--border-width2);\n",
       "}\n",
       ".contnr.c3,.lbl.c3 {\n",
       "    border-color: var(--border-color3);\n",
       "    border-width: var(--border-width3);\n",
       "    border-radius: var(--border-width3);\n",
       "}\n",
       ".contnr.c4,.lbl.c4 {\n",
       "    border-color: var(--border-color4);\n",
       "    border-width: var(--border-width4);\n",
       "    border-radius: var(--border-width4);\n",
       "}\n",
       "span.plain {\n",
       "    display: inline-block;\n",
       "    white-space: pre-wrap;\n",
       "}\n",
       ".plain {\n",
       "    background-color: #ffffff;\n",
       "}\n",
       ".plain.l,.contnr.l,.contnr.l>.lbl {\n",
       "    border-left-style: dotted\n",
       "}\n",
       ".plain.r,.contnr.r,.contnr.r>.lbl {\n",
       "    border-right-style: dotted\n",
       "}\n",
       ".plain.lno,.contnr.lno,.contnr.lno>.lbl {\n",
       "    border-left-style: none\n",
       "}\n",
       ".plain.rno,.contnr.rno,.contnr.rno>.lbl {\n",
       "    border-right-style: none\n",
       "}\n",
       ".plain.l {\n",
       "    padding-left: 4px;\n",
       "    margin-left: 2px;\n",
       "    border-width: var(--border-width-plain);\n",
       "}\n",
       ".plain.r {\n",
       "    padding-right: 4px;\n",
       "    margin-right: 2px;\n",
       "    border-width: var(--border-width-plain);\n",
       "}\n",
       ".lbl {\n",
       "    font-family: monospace;\n",
       "    margin-top: -24px;\n",
       "    margin-left: 20px;\n",
       "    background: #ffffff none repeat scroll 0 0;\n",
       "    padding: 0 6px;\n",
       "    border-style: solid;\n",
       "    display: block;\n",
       "    color: var(--label)\n",
       "}\n",
       ".lbl.trm {\n",
       "    background-attachment: local;\n",
       "    margin-top: 2px;\n",
       "    margin-left: 2px;\n",
       "    padding: 2px 2px;\n",
       "    border-style: none;\n",
       "}\n",
       ".lbl.cnul {\n",
       "    font-size: xx-small;\n",
       "}\n",
       ".lbl.c0 {\n",
       "    font-size: small;\n",
       "}\n",
       ".lbl.c1 {\n",
       "    font-size: small;\n",
       "}\n",
       ".lbl.c2 {\n",
       "    font-size: medium;\n",
       "}\n",
       ".lbl.c3 {\n",
       "    font-size: medium;\n",
       "}\n",
       ".lbl.c4 {\n",
       "    font-size: large;\n",
       "}\n",
       ".occs, a:link.occs {\n",
       "    font-size: small;\n",
       "}\n",
       "\n",
       "/* PROVENANCE */\n",
       "\n",
       "div.prov {\n",
       "\tmargin: 40px;\n",
       "\tpadding: 20px;\n",
       "\tborder: 2px solid var(--fog-rim);\n",
       "}\n",
       "div.pline {\n",
       "\tdisplay: flex;\n",
       "\tflex-flow: row nowrap;\n",
       "\tjustify-content: stretch;\n",
       "\talign-items: baseline;\n",
       "}\n",
       "div.p2line {\n",
       "\tmargin-left: 2em;\n",
       "\tdisplay: flex;\n",
       "\tflex-flow: row nowrap;\n",
       "\tjustify-content: stretch;\n",
       "\talign-items: baseline;\n",
       "}\n",
       "div.psline {\n",
       "\tdisplay: flex;\n",
       "\tflex-flow: row nowrap;\n",
       "\tjustify-content: stretch;\n",
       "\talign-items: baseline;\n",
       "\tbackground-color: var(--gold-mist-back);\n",
       "}\n",
       "div.pname {\n",
       "\tflex: 0 0 5rem;\n",
       "\tfont-weight: bold;\n",
       "}\n",
       "div.pval {\n",
       "    flex: 1 1 auto;\n",
       "}\n",
       "\n",
       ":root {\n",
       "\t--node:               hsla(120, 100%,  20%, 1.0  );\n",
       "\t--label:              hsla(  0, 100%,  20%, 1.0  );\n",
       "\t--section:            hsla(  0, 100%,  25%, 1.0  );\n",
       "\t--structure:          hsla(120, 100%,  25%, 1.0  );\n",
       "\t--features:           hsla(  0,   0%,  30%, 1.0  );\n",
       "  --text-color:         hsla( 60,  80%,  10%, 1.0  );\n",
       "  --lex-color:          hsla(220,  90%,  60%, 1.0  );\n",
       "  --meta-color:         hsla(  0,   0%,  90%, 0.7  );\n",
       "  --meta-width:         3px;\n",
       "  --border-color-nul:   hsla(  0,   0%,  90%, 0.5  );\n",
       "  --border-color0:      hsla(  0,   0%,  90%, 0.9  );\n",
       "  --border-color1:      hsla(  0,   0%,  80%, 0.9  );\n",
       "  --border-color2:      hsla(  0,   0%,  70%, 0.9  );\n",
       "  --border-color3:      hsla(  0,   0%,  80%, 0.8  );\n",
       "  --border-color4:      hsla(  0,   0%,  60%, 0.9  );\n",
       "  --border-width-nul:   2px;\n",
       "  --border-width0:      2px;\n",
       "  --border-width1:      3px;\n",
       "  --border-width2:      4px;\n",
       "  --border-width3:      6px;\n",
       "  --border-width4:      5px;\n",
       "  --border-width-plain: 2px;\n",
       "}\n",
       ".hl {\n",
       "  background-color: var(--hl-strong);\n",
       "}\n",
       "span.hl {\n",
       "\tbackground-color: var(--hl-strong);\n",
       "\tborder-width: 0;\n",
       "\tborder-radius: 2px;\n",
       "\tborder-style: solid;\n",
       "}\n",
       "div.contnr.hl,div.lbl.hl {\n",
       "  background-color: var(--hl-strong);\n",
       "}\n",
       "div.contnr.hl {\n",
       "  border-color: var(--hl-rim) ! important;\n",
       "\tborder-width: 4px ! important;\n",
       "}\n",
       "\n",
       "span.hlbx {\n",
       "\tborder-color: var(--hl-rim);\n",
       "\tborder-width: 4px ! important;\n",
       "\tborder-style: solid;\n",
       "\tborder-radius: 6px;\n",
       "  padding: 4px;\n",
       "  margin: 4px;\n",
       "}\n",
       "\n",
       "span.plain {\n",
       "  display: inline-block;\n",
       "  white-space: pre-wrap;\n",
       "}\n",
       "\n",
       ":root {\n",
       "\t--hl-strong:        hsla( 60, 100%,  70%, 0.9  );\n",
       "\t--hl-rim:           hsla( 55,  80%,  50%, 1.0  );\n",
       "}\n",
       "</style>"
      ],
      "text/plain": [
       "<IPython.core.display.HTML object>"
      ]
     },
     "metadata": {},
     "output_type": "display_data"
    },
    {
     "data": {
      "text/html": [
       "<div><b>Text-Fabric API:</b> names <a target=\"_blank\" href=\"https://annotation.github.io/text-fabric/cheatsheet.html\" title=\"doc\">N F E L T S C TF</a> directly usable</div><hr>"
      ],
      "text/plain": [
       "<IPython.core.display.HTML object>"
      ]
     },
     "metadata": {},
     "output_type": "display_data"
    }
   ],
   "source": [
    "A = use(\"peshitta\", hoist=globals())"
   ]
  },
  {
   "cell_type": "markdown",
   "metadata": {},
   "source": [
    "## string `JBW L` in the text"
   ]
  },
  {
   "cell_type": "markdown",
   "metadata": {},
   "source": [
    "Assuming `JBW` is a single word and L is a single word:"
   ]
  },
  {
   "cell_type": "code",
   "execution_count": 3,
   "metadata": {},
   "outputs": [],
   "source": [
    "query = \"\"\"\n",
    "word word_etcbc=JBW\n",
    "<: word word_etcbc=L\n",
    "\"\"\""
   ]
  },
  {
   "cell_type": "code",
   "execution_count": 4,
   "metadata": {},
   "outputs": [
    {
     "name": "stdout",
     "output_type": "stream",
     "text": [
      "  0.75s 0 results\n"
     ]
    }
   ],
   "source": [
    "results = A.search(query)"
   ]
  },
  {
   "cell_type": "markdown",
   "metadata": {},
   "source": [
    "That does not help. At least one of the assumptions leads to nowhere.\n",
    "At this point it might help to use the TF browser to conduct some experiments on the side line.\n",
    "\n",
    "Running `word word_etcbc=L|JBW` shows that there are no words whose full text is either `L` or `JBW`.\n",
    "\n",
    "But there are plenty of words starting with a `L`.\n",
    "\n",
    "```\n",
    "text-fabric peshitta\n",
    "```\n",
    "\n",
    "You get something like this\n",
    "\n",
    "![tfb](images/start-l.png)\n",
    "\n",
    "\n",
    "See\n",
    "[search with regular expressions](https://annotation.github.io/text-fabric/tf/about/searchusage.html#feature-specifications)\n",
    "for how you can use search patterns to look within feature values."
   ]
  },
  {
   "cell_type": "markdown",
   "metadata": {},
   "source": [
    "The query is `word word_etcbc~^L`, the anatomy of which reads:\n",
    "\n",
    "* look for a word with a constraint on its feature `word_etcbc`.\n",
    "* the constraint is that it should match the regular expression `^L`:\n",
    "* the `^` matches the beginning of the string, the `L` matches just an `L`,\n",
    "* resulting in the condition: `word_etcbc` starts with an `L`.\n",
    "\n",
    "Likewise, `$` matches the end of the string, so `word word_etcbc~JBW$` matches each word whose etcbc-transcription ends in `JBW`.\n",
    "\n",
    "If you try that, you get 58 results:\n",
    "\n",
    "![tfb](images/end-jbw.png)\n",
    "\n",
    "Good. Let's see whether there are combined results.\n",
    "\n",
    "We do that here, in the notebook."
   ]
  },
  {
   "cell_type": "code",
   "execution_count": 5,
   "metadata": {},
   "outputs": [],
   "source": [
    "query = \"\"\"\n",
    "word word_etcbc~JBW$\n",
    "<: word word_etcbc~^L\n",
    "\"\"\""
   ]
  },
  {
   "cell_type": "code",
   "execution_count": 6,
   "metadata": {},
   "outputs": [
    {
     "name": "stdout",
     "output_type": "stream",
     "text": [
      "  0.91s 17 results\n"
     ]
    }
   ],
   "source": [
    "results = A.search(query)"
   ]
  },
  {
   "cell_type": "markdown",
   "metadata": {},
   "source": [
    "Lo and behold:"
   ]
  },
  {
   "cell_type": "code",
   "execution_count": 7,
   "metadata": {},
   "outputs": [
    {
     "data": {
      "text/html": [
       "<table><tr class=\"tf ltr\"><th class=\"tf ltr\">n</th><th class=\"tf ltr\">p</th><th class=\"tf ltr\">word</th><th class=\"tf\">word</th></tr>\n",
       "<tr class=\"tf ltr\"><td class=\"tf ltr\">1</td><td class=\"tf ltr\"><span class=\"section ltr\"><a target=\"_blank\" href=\"https://github.com/etcbc/peshitta/blob/master/source/0.1/Numbers\" title=\"Show this document in the Peshitta repository\" sec=\"Numbers 35:11\">Numbers 35:11</a></span></td><td class=\"tf ltr\"><span class=\"ltr ubd\"><span class=\"plain ltr  hl\" ><span class=\"txtt\">VJBW </span></span></span></td><td class=\"tf ltr\"><span class=\"ltr ubd\"><span class=\"plain ltr  hl\" ><span class=\"txtt\">LKWN </span></span></span></td></tr>\n",
       "<tr class=\"tf ltr\"><td class=\"tf ltr\">2</td><td class=\"tf ltr\"><span class=\"section ltr\"><a target=\"_blank\" href=\"https://github.com/etcbc/peshitta/blob/master/source/0.1/Job\" title=\"Show this document in the Peshitta repository\" sec=\"Job 17:1\">Job 17:1</a></span></td><td class=\"tf ltr\"><span class=\"ltr ubd\"><span class=\"plain ltr  hl\" ><span class=\"txtt\">VJBW </span></span></span></td><td class=\"tf ltr\"><span class=\"ltr ubd\"><span class=\"plain ltr  hl\" ><span class=\"txtt\">LJ </span></span></span></td></tr>\n",
       "<tr class=\"tf ltr\"><td class=\"tf ltr\">3</td><td class=\"tf ltr\"><span class=\"section ltr\"><a target=\"_blank\" href=\"https://github.com/etcbc/peshitta/blob/master/source/0.1/Joshua\" title=\"Show this document in the Peshitta repository\" sec=\"Joshua 1:11\">Joshua 1:11</a></span></td><td class=\"tf ltr\"><span class=\"ltr ubd\"><span class=\"plain ltr  hl\" ><span class=\"txtt\">VJBW </span></span></span></td><td class=\"tf ltr\"><span class=\"ltr ubd\"><span class=\"plain ltr  hl\" ><span class=\"txtt\">LKWN </span></span></span></td></tr>\n",
       "<tr class=\"tf ltr\"><td class=\"tf ltr\">4</td><td class=\"tf ltr\"><span class=\"section ltr\"><a target=\"_blank\" href=\"https://github.com/etcbc/peshitta/blob/master/source/0.1/Joshua\" title=\"Show this document in the Peshitta repository\" sec=\"Joshua 11:5\">Joshua 11:5</a></span></td><td class=\"tf ltr\"><span class=\"ltr ubd\"><span class=\"plain ltr  hl\" ><span class=\"txtt\">W>TVJBW </span></span></span></td><td class=\"tf ltr\"><span class=\"ltr ubd\"><span class=\"plain ltr  hl\" ><span class=\"txtt\">LM&lt;BD </span></span></span></td></tr>\n",
       "<tr class=\"tf ltr\"><td class=\"tf ltr\">5</td><td class=\"tf ltr\"><span class=\"section ltr\"><a target=\"_blank\" href=\"https://github.com/etcbc/peshitta/blob/master/source/0.1/Kings_1\" title=\"Show this document in the Peshitta repository\" sec=\"Kings_1 8:32\">Kings_1 8:32</a></span></td><td class=\"tf ltr\"><span class=\"ltr ubd\"><span class=\"plain ltr  hl\" ><span class=\"txtt\">LMXJBW </span></span></span></td><td class=\"tf ltr\"><span class=\"ltr ubd\"><span class=\"plain ltr  hl\" ><span class=\"txtt\">LXJB> </span></span></span></td></tr>\n",
       "<tr class=\"tf ltr\"><td class=\"tf ltr\">6</td><td class=\"tf ltr\"><span class=\"section ltr\"><a target=\"_blank\" href=\"https://github.com/etcbc/peshitta/blob/master/source/0.1/Kings_2\" title=\"Show this document in the Peshitta repository\" sec=\"Kings_2 22:20\">Kings_2 22:20</a></span></td><td class=\"tf ltr\"><span class=\"ltr ubd\"><span class=\"plain ltr  hl\" ><span class=\"txtt\">W>TJBW </span></span></span></td><td class=\"tf ltr\"><span class=\"ltr ubd\"><span class=\"plain ltr  hl\" ><span class=\"txtt\">LMLK> </span></span></span></td></tr>\n",
       "<tr class=\"tf ltr\"><td class=\"tf ltr\">7</td><td class=\"tf ltr\"><span class=\"section ltr\"><a target=\"_blank\" href=\"https://github.com/etcbc/peshitta/blob/master/source/0.1/Jeremiah\" title=\"Show this document in the Peshitta repository\" sec=\"Jeremiah 51:20\">Jeremiah 51:20</a></span></td><td class=\"tf ltr\"><span class=\"ltr ubd\"><span class=\"plain ltr  hl\" ><span class=\"txtt\">VJBW </span></span></span></td><td class=\"tf ltr\"><span class=\"ltr ubd\"><span class=\"plain ltr  hl\" ><span class=\"txtt\">LJ </span></span></span></td></tr>\n",
       "<tr class=\"tf ltr\"><td class=\"tf ltr\">8</td><td class=\"tf ltr\"><span class=\"section ltr\"><a target=\"_blank\" href=\"https://github.com/etcbc/peshitta/blob/master/source/0.1/Sirach\" title=\"Show this document in the Peshitta repository\" sec=\"Sirach 12:1\">Sirach 12:1</a></span></td><td class=\"tf ltr\"><span class=\"ltr ubd\"><span class=\"plain ltr  hl\" ><span class=\"txtt\">VJBW </span></span></span></td><td class=\"tf ltr\"><span class=\"ltr ubd\"><span class=\"plain ltr  hl\" ><span class=\"txtt\">LVJBWTK </span></span></span></td></tr>\n",
       "<tr class=\"tf ltr\"><td class=\"tf ltr\">9</td><td class=\"tf ltr\"><span class=\"section ltr\"><a target=\"_blank\" href=\"https://github.com/etcbc/peshitta/blob/master/source/0.1/Chronicles_2\" title=\"Show this document in the Peshitta repository\" sec=\"Chronicles_2 6:23\">Chronicles_2 6:23</a></span></td><td class=\"tf ltr\"><span class=\"ltr ubd\"><span class=\"plain ltr  hl\" ><span class=\"txtt\">LMXJBW </span></span></span></td><td class=\"tf ltr\"><span class=\"ltr ubd\"><span class=\"plain ltr  hl\" ><span class=\"txtt\">LXJB> </span></span></span></td></tr>\n",
       "<tr class=\"tf ltr\"><td class=\"tf ltr\">10</td><td class=\"tf ltr\"><span class=\"section ltr\"><a target=\"_blank\" href=\"https://github.com/etcbc/peshitta/blob/master/source/0.1/Chronicles_2\" title=\"Show this document in the Peshitta repository\" sec=\"Chronicles_2 35:14\">Chronicles_2 35:14</a></span></td><td class=\"tf ltr\"><span class=\"ltr ubd\"><span class=\"plain ltr  hl\" ><span class=\"txtt\">VJBW </span></span></span></td><td class=\"tf ltr\"><span class=\"ltr ubd\"><span class=\"plain ltr  hl\" ><span class=\"txtt\">LHWN </span></span></span></td></tr>\n",
       "<tr class=\"tf ltr\"><td class=\"tf ltr\">11</td><td class=\"tf ltr\"><span class=\"section ltr\"><a target=\"_blank\" href=\"https://github.com/etcbc/peshitta/blob/master/source/0.1/Chronicles_2\" title=\"Show this document in the Peshitta repository\" sec=\"Chronicles_2 35:15\">Chronicles_2 35:15</a></span></td><td class=\"tf ltr\"><span class=\"ltr ubd\"><span class=\"plain ltr  hl\" ><span class=\"txtt\">VJBW </span></span></span></td><td class=\"tf ltr\"><span class=\"ltr ubd\"><span class=\"plain ltr  hl\" ><span class=\"txtt\">LHWN </span></span></span></td></tr>\n",
       "<tr class=\"tf ltr\"><td class=\"tf ltr\">12</td><td class=\"tf ltr\"><span class=\"section ltr\"><a target=\"_blank\" href=\"https://github.com/etcbc/peshitta/blob/master/source/0.1/Apocalypse_of_Baruch\" title=\"Show this document in the Peshitta repository\" sec=\"Apocalypse_of_Baruch 46:5\">Apocalypse_of_Baruch 46:5</a></span></td><td class=\"tf ltr\"><span class=\"ltr ubd\"><span class=\"plain ltr  hl\" ><span class=\"txtt\">V^JBW </span></span></span></td><td class=\"tf ltr\"><span class=\"ltr ubd\"><span class=\"plain ltr  hl\" ><span class=\"txtt\">LBW\"TKWN </span></span></span></td></tr>\n",
       "<tr class=\"tf ltr\"><td class=\"tf ltr\">13</td><td class=\"tf ltr\"><span class=\"section ltr\"><a target=\"_blank\" href=\"https://github.com/etcbc/peshitta/blob/master/source/0.1/Psalms_of_Solomon\" title=\"Show this document in the Peshitta repository\" sec=\"Psalms_of_Solomon 4:2\">Psalms_of_Solomon 4:2</a></span></td><td class=\"tf ltr\"><span class=\"ltr ubd\"><span class=\"plain ltr  hl\" ><span class=\"txtt\">LMXJBW </span></span></span></td><td class=\"tf ltr\"><span class=\"ltr ubd\"><span class=\"plain ltr  hl\" ><span class=\"txtt\">LX\"VJ> </span></span></span></td></tr>\n",
       "<tr class=\"tf ltr\"><td class=\"tf ltr\">14</td><td class=\"tf ltr\"><span class=\"section ltr\"><a target=\"_blank\" href=\"https://github.com/etcbc/peshitta/blob/master/source/0.1/Esdras_3\" title=\"Show this document in the Peshitta repository\" sec=\"Esdras_3 1:4\">Esdras_3 1:4</a></span></td><td class=\"tf ltr\"><span class=\"ltr ubd\"><span class=\"plain ltr  hl\" ><span class=\"txtt\">WVJBW </span></span></span></td><td class=\"tf ltr\"><span class=\"ltr ubd\"><span class=\"plain ltr  hl\" ><span class=\"txtt\">LBJT> </span></span></span></td></tr>\n",
       "<tr class=\"tf ltr\"><td class=\"tf ltr\">15</td><td class=\"tf ltr\"><span class=\"section ltr\"><a target=\"_blank\" href=\"https://github.com/etcbc/peshitta/blob/master/source/0.1/Esdras_3\" title=\"Show this document in the Peshitta repository\" sec=\"Esdras_3 1:6\">Esdras_3 1:6</a></span></td><td class=\"tf ltr\"><span class=\"ltr ubd\"><span class=\"plain ltr  hl\" ><span class=\"txtt\">VJBW </span></span></span></td><td class=\"tf ltr\"><span class=\"ltr ubd\"><span class=\"plain ltr  hl\" ><span class=\"txtt\">L>X\"> </span></span></span></td></tr>\n",
       "<tr class=\"tf ltr\"><td class=\"tf ltr\">16</td><td class=\"tf ltr\"><span class=\"section ltr\"><a target=\"_blank\" href=\"https://github.com/etcbc/peshitta/blob/master/source/0.1/Esdras_3\" title=\"Show this document in the Peshitta repository\" sec=\"Esdras_3 1:15\">Esdras_3 1:15</a></span></td><td class=\"tf ltr\"><span class=\"ltr ubd\"><span class=\"plain ltr  hl\" ><span class=\"txtt\">VJBW </span></span></span></td><td class=\"tf ltr\"><span class=\"ltr ubd\"><span class=\"plain ltr  hl\" ><span class=\"txtt\">LHWN </span></span></span></td></tr>\n",
       "<tr class=\"tf ltr\"><td class=\"tf ltr\">17</td><td class=\"tf ltr\"><span class=\"section ltr\"><a target=\"_blank\" href=\"https://github.com/etcbc/peshitta/blob/master/source/0.1/Esdras_3\" title=\"Show this document in the Peshitta repository\" sec=\"Esdras_3 1:47\">Esdras_3 1:47</a></span></td><td class=\"tf ltr\"><span class=\"ltr ubd\"><span class=\"plain ltr  hl\" ><span class=\"txtt\">WSJBW </span></span></span></td><td class=\"tf ltr\"><span class=\"ltr ubd\"><span class=\"plain ltr  hl\" ><span class=\"txtt\">LHJKLH </span></span></span></td></tr></table>"
      ],
      "text/plain": [
       "<IPython.core.display.HTML object>"
      ]
     },
     "metadata": {},
     "output_type": "display_data"
    }
   ],
   "source": [
    "A.table(results, fmt=\"text-trans-full\")"
   ]
  },
  {
   "cell_type": "markdown",
   "metadata": {},
   "source": [
    "We get the transcription by asking for text format `text-trans-full`.\n",
    "\n",
    "The available text formats can be found in the TF browser, under options (see screenshot above)."
   ]
  },
  {
   "cell_type": "markdown",
   "metadata": {},
   "source": [
    "## word starting with '<:L' followed by an other word starting with `<:L`"
   ]
  },
  {
   "cell_type": "code",
   "execution_count": 8,
   "metadata": {},
   "outputs": [],
   "source": [
    "query = \"\"\"\n",
    "word word_etcbc~^<:L\n",
    "<: word word_etcbc~<:L\n",
    "\"\"\""
   ]
  },
  {
   "cell_type": "code",
   "execution_count": 9,
   "metadata": {},
   "outputs": [
    {
     "name": "stdout",
     "output_type": "stream",
     "text": [
      "  0.90s 0 results\n"
     ]
    }
   ],
   "source": [
    "results = A.search(query)"
   ]
  },
  {
   "cell_type": "markdown",
   "metadata": {},
   "source": [
    "I suspect the `:` spoils things. How many words contain `:`?\n",
    "\n",
    "Fire `word word_etcbc~:` and you get only 6.\n",
    "\n",
    "Let's leave out the `:`:"
   ]
  },
  {
   "cell_type": "code",
   "execution_count": 10,
   "metadata": {},
   "outputs": [],
   "source": [
    "query = \"\"\"\n",
    "word word_etcbc~^<L\n",
    "<: word word_etcbc~<L\n",
    "\"\"\""
   ]
  },
  {
   "cell_type": "code",
   "execution_count": 11,
   "metadata": {},
   "outputs": [
    {
     "name": "stdout",
     "output_type": "stream",
     "text": [
      "  0.95s 158 results\n"
     ]
    }
   ],
   "source": [
    "results = A.search(query)"
   ]
  },
  {
   "cell_type": "code",
   "execution_count": 12,
   "metadata": {},
   "outputs": [
    {
     "data": {
      "text/html": [
       "<table><tr class=\"tf ltr\"><th class=\"tf ltr\">n</th><th class=\"tf ltr\">p</th><th class=\"tf ltr\">word</th><th class=\"tf\">word</th></tr>\n",
       "<tr class=\"tf ltr\"><td class=\"tf ltr\">0</td><td class=\"tf ltr\"><span class=\"section ltr\"><a target=\"_blank\" href=\"https://github.com/etcbc/peshitta/blob/master/source/0.1/Esdras_3\" title=\"Show this document in the Peshitta repository\" sec=\"Esdras_3 2:15\">Esdras_3 2:15</a></span></td><td class=\"tf ltr\"><span class=\"ltr ubd\"><span class=\"plain ltr  hl\" ><span class=\"txtt\">&lt;LJHWN </span></span></span></td><td class=\"tf ltr\"><span class=\"ltr ubd\"><span class=\"plain ltr  hl\" ><span class=\"txtt\">&lt;L </span></span></span></td></tr>\n",
       "<tr class=\"tf ltr\"><td class=\"tf ltr\">1</td><td class=\"tf ltr\"><span class=\"section ltr\"><a target=\"_blank\" href=\"https://github.com/etcbc/peshitta/blob/master/source/0.1/Genesis\" title=\"Show this document in the Peshitta repository\" sec=\"Genesis 20:9\">Genesis 20:9</a></span></td><td class=\"tf ltr\"><span class=\"ltr ubd\"><span class=\"plain ltr  hl\" ><span class=\"txtt\">&lt;LJ </span></span></span></td><td class=\"tf ltr\"><span class=\"ltr ubd\"><span class=\"plain ltr  hl\" ><span class=\"txtt\">W&lt;L </span></span></span></td></tr>\n",
       "<tr class=\"tf ltr\"><td class=\"tf ltr\">2</td><td class=\"tf ltr\"><span class=\"section ltr\"><a target=\"_blank\" href=\"https://github.com/etcbc/peshitta/blob/master/source/0.1/Genesis\" title=\"Show this document in the Peshitta repository\" sec=\"Genesis 34:27\">Genesis 34:27</a></span></td><td class=\"tf ltr\"><span class=\"ltr ubd\"><span class=\"plain ltr  hl\" ><span class=\"txtt\">&lt;LW </span></span></span></td><td class=\"tf ltr\"><span class=\"ltr ubd\"><span class=\"plain ltr  hl\" ><span class=\"txtt\">&lt;L </span></span></span></td></tr>\n",
       "<tr class=\"tf ltr\"><td class=\"tf ltr\">3</td><td class=\"tf ltr\"><span class=\"section ltr\"><a target=\"_blank\" href=\"https://github.com/etcbc/peshitta/blob/master/source/0.1/Genesis\" title=\"Show this document in the Peshitta repository\" sec=\"Genesis 39:14\">Genesis 39:14</a></span></td><td class=\"tf ltr\"><span class=\"ltr ubd\"><span class=\"plain ltr  hl\" ><span class=\"txtt\">&lt;LJN=. </span></span></span></td><td class=\"tf ltr\"><span class=\"ltr ubd\"><span class=\"plain ltr  hl\" ><span class=\"txtt\">&lt;L </span></span></span></td></tr>\n",
       "<tr class=\"tf ltr\"><td class=\"tf ltr\">4</td><td class=\"tf ltr\"><span class=\"section ltr\"><a target=\"_blank\" href=\"https://github.com/etcbc/peshitta/blob/master/source/0.1/Genesis\" title=\"Show this document in the Peshitta repository\" sec=\"Genesis 39:14\">Genesis 39:14</a></span></td><td class=\"tf ltr\"><span class=\"ltr ubd\"><span class=\"plain ltr  hl\" ><span class=\"txtt\">&lt;L </span></span></span></td><td class=\"tf ltr\"><span class=\"ltr ubd\"><span class=\"plain ltr  hl\" ><span class=\"txtt\">&lt;LJ </span></span></span></td></tr>\n",
       "<tr class=\"tf ltr\"><td class=\"tf ltr\">5</td><td class=\"tf ltr\"><span class=\"section ltr\"><a target=\"_blank\" href=\"https://github.com/etcbc/peshitta/blob/master/source/0.1/Genesis\" title=\"Show this document in the Peshitta repository\" sec=\"Genesis 39:17\">Genesis 39:17</a></span></td><td class=\"tf ltr\"><span class=\"ltr ubd\"><span class=\"plain ltr  hl\" ><span class=\"txtt\">&lt;L </span></span></span></td><td class=\"tf ltr\"><span class=\"ltr ubd\"><span class=\"plain ltr  hl\" ><span class=\"txtt\">&lt;LJ </span></span></span></td></tr>\n",
       "<tr class=\"tf ltr\"><td class=\"tf ltr\">6</td><td class=\"tf ltr\"><span class=\"section ltr\"><a target=\"_blank\" href=\"https://github.com/etcbc/peshitta/blob/master/source/0.1/Genesis\" title=\"Show this document in the Peshitta repository\" sec=\"Genesis 43:7\">Genesis 43:7</a></span></td><td class=\"tf ltr\"><span class=\"ltr ubd\"><span class=\"plain ltr  hl\" ><span class=\"txtt\">&lt;LJN </span></span></span></td><td class=\"tf ltr\"><span class=\"ltr ubd\"><span class=\"plain ltr  hl\" ><span class=\"txtt\">W&lt;L </span></span></span></td></tr>\n",
       "<tr class=\"tf ltr\"><td class=\"tf ltr\">7</td><td class=\"tf ltr\"><span class=\"section ltr\"><a target=\"_blank\" href=\"https://github.com/etcbc/peshitta/blob/master/source/0.1/Exodus\" title=\"Show this document in the Peshitta repository\" sec=\"Exodus 8:5\">Exodus 8:5</a></span></td><td class=\"tf ltr\"><span class=\"ltr ubd\"><span class=\"plain ltr  hl\" ><span class=\"txtt\">&lt;LJK^=. </span></span></span></td><td class=\"tf ltr\"><span class=\"ltr ubd\"><span class=\"plain ltr  hl\" ><span class=\"txtt\">W&lt;L </span></span></span></td></tr>\n",
       "<tr class=\"tf ltr\"><td class=\"tf ltr\">8</td><td class=\"tf ltr\"><span class=\"section ltr\"><a target=\"_blank\" href=\"https://github.com/etcbc/peshitta/blob/master/source/0.1/Exodus\" title=\"Show this document in the Peshitta repository\" sec=\"Exodus 8:17\">Exodus 8:17</a></span></td><td class=\"tf ltr\"><span class=\"ltr ubd\"><span class=\"plain ltr  hl\" ><span class=\"txtt\">&lt;LJK </span></span></span></td><td class=\"tf ltr\"><span class=\"ltr ubd\"><span class=\"plain ltr  hl\" ><span class=\"txtt\">W&lt;L </span></span></span></td></tr>\n",
       "<tr class=\"tf ltr\"><td class=\"tf ltr\">9</td><td class=\"tf ltr\"><span class=\"section ltr\"><a target=\"_blank\" href=\"https://github.com/etcbc/peshitta/blob/master/source/0.1/Exodus\" title=\"Show this document in the Peshitta repository\" sec=\"Exodus 20:24\">Exodus 20:24</a></span></td><td class=\"tf ltr\"><span class=\"ltr ubd\"><span class=\"plain ltr  hl\" ><span class=\"txtt\">&lt;LWHJ </span></span></span></td><td class=\"tf ltr\"><span class=\"ltr ubd\"><span class=\"plain ltr  hl\" ><span class=\"txtt\">&lt;LW\"TK </span></span></span></td></tr>\n",
       "<tr class=\"tf ltr\"><td class=\"tf ltr\">10</td><td class=\"tf ltr\"><span class=\"section ltr\"><a target=\"_blank\" href=\"https://github.com/etcbc/peshitta/blob/master/source/0.1/Exodus\" title=\"Show this document in the Peshitta repository\" sec=\"Exodus 21:22\">Exodus 21:22</a></span></td><td class=\"tf ltr\"><span class=\"ltr ubd\"><span class=\"plain ltr  hl\" ><span class=\"txtt\">&lt;LWHJ </span></span></span></td><td class=\"tf ltr\"><span class=\"ltr ubd\"><span class=\"plain ltr  hl\" ><span class=\"txtt\">B&lt;LH^ </span></span></span></td></tr>\n",
       "<tr class=\"tf ltr\"><td class=\"tf ltr\">11</td><td class=\"tf ltr\"><span class=\"section ltr\"><a target=\"_blank\" href=\"https://github.com/etcbc/peshitta/blob/master/source/0.1/Exodus\" title=\"Show this document in the Peshitta repository\" sec=\"Exodus 40:29\">Exodus 40:29</a></span></td><td class=\"tf ltr\"><span class=\"ltr ubd\"><span class=\"plain ltr  hl\" ><span class=\"txtt\">&lt;LWHJ </span></span></span></td><td class=\"tf ltr\"><span class=\"ltr ubd\"><span class=\"plain ltr  hl\" ><span class=\"txtt\">&lt;LT> </span></span></span></td></tr>\n",
       "<tr class=\"tf ltr\"><td class=\"tf ltr\">12</td><td class=\"tf ltr\"><span class=\"section ltr\"><a target=\"_blank\" href=\"https://github.com/etcbc/peshitta/blob/master/source/0.1/Leviticus\" title=\"Show this document in the Peshitta repository\" sec=\"Leviticus 3:5\">Leviticus 3:5</a></span></td><td class=\"tf ltr\"><span class=\"ltr ubd\"><span class=\"plain ltr  hl\" ><span class=\"txtt\">&lt;L </span></span></span></td><td class=\"tf ltr\"><span class=\"ltr ubd\"><span class=\"plain ltr  hl\" ><span class=\"txtt\">&lt;LT> </span></span></span></td></tr>\n",
       "<tr class=\"tf ltr\"><td class=\"tf ltr\">13</td><td class=\"tf ltr\"><span class=\"section ltr\"><a target=\"_blank\" href=\"https://github.com/etcbc/peshitta/blob/master/source/0.1/Leviticus\" title=\"Show this document in the Peshitta repository\" sec=\"Leviticus 3:5\">Leviticus 3:5</a></span></td><td class=\"tf ltr\"><span class=\"ltr ubd\"><span class=\"plain ltr  hl\" ><span class=\"txtt\">&lt;LT> </span></span></span></td><td class=\"tf ltr\"><span class=\"ltr ubd\"><span class=\"plain ltr  hl\" ><span class=\"txtt\">W&lt;L </span></span></span></td></tr>\n",
       "<tr class=\"tf ltr\"><td class=\"tf ltr\">14</td><td class=\"tf ltr\"><span class=\"section ltr\"><a target=\"_blank\" href=\"https://github.com/etcbc/peshitta/blob/master/source/0.1/Leviticus\" title=\"Show this document in the Peshitta repository\" sec=\"Leviticus 6:5\">Leviticus 6:5</a></span></td><td class=\"tf ltr\"><span class=\"ltr ubd\"><span class=\"plain ltr  hl\" ><span class=\"txtt\">&lt;LWHJ </span></span></span></td><td class=\"tf ltr\"><span class=\"ltr ubd\"><span class=\"plain ltr  hl\" ><span class=\"txtt\">&lt;LT>=. </span></span></span></td></tr>\n",
       "<tr class=\"tf ltr\"><td class=\"tf ltr\">15</td><td class=\"tf ltr\"><span class=\"section ltr\"><a target=\"_blank\" href=\"https://github.com/etcbc/peshitta/blob/master/source/0.1/Leviticus\" title=\"Show this document in the Peshitta repository\" sec=\"Leviticus 9:7\">Leviticus 9:7</a></span></td><td class=\"tf ltr\"><span class=\"ltr ubd\"><span class=\"plain ltr  hl\" ><span class=\"txtt\">&lt;LJK </span></span></span></td><td class=\"tf ltr\"><span class=\"ltr ubd\"><span class=\"plain ltr  hl\" ><span class=\"txtt\">W&lt;L </span></span></span></td></tr>\n",
       "<tr class=\"tf ltr\"><td class=\"tf ltr\">16</td><td class=\"tf ltr\"><span class=\"section ltr\"><a target=\"_blank\" href=\"https://github.com/etcbc/peshitta/blob/master/source/0.1/Leviticus\" title=\"Show this document in the Peshitta repository\" sec=\"Leviticus 26:32\">Leviticus 26:32</a></span></td><td class=\"tf ltr\"><span class=\"ltr ubd\"><span class=\"plain ltr  hl\" ><span class=\"txtt\">&lt;LJH^ </span></span></span></td><td class=\"tf ltr\"><span class=\"ltr ubd\"><span class=\"plain ltr  hl\" ><span class=\"txtt\">B\"&lt;LDBBJKWN </span></span></span></td></tr>\n",
       "<tr class=\"tf ltr\"><td class=\"tf ltr\">17</td><td class=\"tf ltr\"><span class=\"section ltr\"><a target=\"_blank\" href=\"https://github.com/etcbc/peshitta/blob/master/source/0.1/Numbers\" title=\"Show this document in the Peshitta repository\" sec=\"Numbers 5:14\">Numbers 5:14</a></span></td><td class=\"tf ltr\"><span class=\"ltr ubd\"><span class=\"plain ltr  hl\" ><span class=\"txtt\">&lt;L </span></span></span></td><td class=\"tf ltr\"><span class=\"ltr ubd\"><span class=\"plain ltr  hl\" ><span class=\"txtt\">B&lt;LH^ </span></span></span></td></tr>\n",
       "<tr class=\"tf ltr\"><td class=\"tf ltr\">18</td><td class=\"tf ltr\"><span class=\"section ltr\"><a target=\"_blank\" href=\"https://github.com/etcbc/peshitta/blob/master/source/0.1/Numbers\" title=\"Show this document in the Peshitta repository\" sec=\"Numbers 6:11\">Numbers 6:11</a></span></td><td class=\"tf ltr\"><span class=\"ltr ubd\"><span class=\"plain ltr  hl\" ><span class=\"txtt\">&lt;LWHJ </span></span></span></td><td class=\"tf ltr\"><span class=\"ltr ubd\"><span class=\"plain ltr  hl\" ><span class=\"txtt\">&lt;L </span></span></span></td></tr>\n",
       "<tr class=\"tf ltr\"><td class=\"tf ltr\">19</td><td class=\"tf ltr\"><span class=\"section ltr\"><a target=\"_blank\" href=\"https://github.com/etcbc/peshitta/blob/master/source/0.1/Numbers\" title=\"Show this document in the Peshitta repository\" sec=\"Numbers 11:29\">Numbers 11:29</a></span></td><td class=\"tf ltr\"><span class=\"ltr ubd\"><span class=\"plain ltr  hl\" ><span class=\"txtt\">&lt;LJHWN=. </span></span></span></td><td class=\"tf ltr\"><span class=\"ltr ubd\"><span class=\"plain ltr  hl\" ><span class=\"txtt\">W&lt;L </span></span></span></td></tr>\n",
       "<tr class=\"tf ltr\"><td class=\"tf ltr\">20</td><td class=\"tf ltr\"><span class=\"section ltr\"><a target=\"_blank\" href=\"https://github.com/etcbc/peshitta/blob/master/source/0.1/Numbers\" title=\"Show this document in the Peshitta repository\" sec=\"Numbers 15:5\">Numbers 15:5</a></span></td><td class=\"tf ltr\"><span class=\"ltr ubd\"><span class=\"plain ltr  hl\" ><span class=\"txtt\">&lt;L </span></span></span></td><td class=\"tf ltr\"><span class=\"ltr ubd\"><span class=\"plain ltr  hl\" ><span class=\"txtt\">&lt;LT>=. </span></span></span></td></tr></table>"
      ],
      "text/plain": [
       "<IPython.core.display.HTML object>"
      ]
     },
     "metadata": {},
     "output_type": "display_data"
    }
   ],
   "source": [
    "A.table(results, fmt=\"text-trans-full\", start=0, end=20)"
   ]
  },
  {
   "cell_type": "markdown",
   "metadata": {},
   "source": [
    "## word containing root `HWY`"
   ]
  },
  {
   "cell_type": "markdown",
   "metadata": {},
   "source": [
    "The current Peshitta data set is not up to this question, because lemma's and roots are not marked.\n",
    "The best we can do is to try for a set of surface patterns.\n",
    "\n",
    "Playing around (in the TF browser) yields this:\n",
    "\n",
    "* `word word_etcbc~HWY` 0 results! Could it be that you meant `HWJ`?\n",
    "* `word word_etcbc~HWJ` 673 results! Business."
   ]
  },
  {
   "cell_type": "code",
   "execution_count": 13,
   "metadata": {},
   "outputs": [],
   "source": [
    "query = \"\"\"\n",
    "word word_etcbc~HWJ\n",
    "\"\"\""
   ]
  },
  {
   "cell_type": "code",
   "execution_count": 14,
   "metadata": {},
   "outputs": [
    {
     "name": "stdout",
     "output_type": "stream",
     "text": [
      "  0.44s 673 results\n"
     ]
    }
   ],
   "source": [
    "results = A.search(query)"
   ]
  },
  {
   "cell_type": "code",
   "execution_count": 15,
   "metadata": {},
   "outputs": [
    {
     "data": {
      "text/html": [
       "<table><tr class=\"tf ltr\"><th class=\"tf ltr\">n</th><th class=\"tf ltr\">p</th><th class=\"tf ltr\">word</th></tr>\n",
       "<tr class=\"tf ltr\"><td class=\"tf ltr\">0</td><td class=\"tf ltr\"><span class=\"section ltr\"><a target=\"_blank\" href=\"https://github.com/etcbc/peshitta/blob/master/source/0.1/Esdras_3\" title=\"Show this document in the Peshitta repository\" sec=\"Esdras_3 8:69\">Esdras_3 8:69</a></span></td><td class=\"tf ltr\"><span class=\"ltr ubd\"><span class=\"plain ltr  hl\" ><span class=\"txtt\">HWJT </span></span></span></td></tr>\n",
       "<tr class=\"tf ltr\"><td class=\"tf ltr\">1</td><td class=\"tf ltr\"><span class=\"section ltr\"><a target=\"_blank\" href=\"https://github.com/etcbc/peshitta/blob/master/source/0.1/Genesis\" title=\"Show this document in the Peshitta repository\" sec=\"Genesis 3:5\">Genesis 3:5</a></span></td><td class=\"tf ltr\"><span class=\"ltr ubd\"><span class=\"plain ltr  hl\" ><span class=\"txtt\">WHWJTWN </span></span></span></td></tr>\n",
       "<tr class=\"tf ltr\"><td class=\"tf ltr\">2</td><td class=\"tf ltr\"><span class=\"section ltr\"><a target=\"_blank\" href=\"https://github.com/etcbc/peshitta/blob/master/source/0.1/Genesis\" title=\"Show this document in the Peshitta repository\" sec=\"Genesis 11:3\">Genesis 11:3</a></span></td><td class=\"tf ltr\"><span class=\"ltr ubd\"><span class=\"plain ltr  hl\" ><span class=\"txtt\">WHWJ> </span></span></span></td></tr>\n",
       "<tr class=\"tf ltr\"><td class=\"tf ltr\">3</td><td class=\"tf ltr\"><span class=\"section ltr\"><a target=\"_blank\" href=\"https://github.com/etcbc/peshitta/blob/master/source/0.1/Genesis\" title=\"Show this document in the Peshitta repository\" sec=\"Genesis 12:2\">Genesis 12:2</a></span></td><td class=\"tf ltr\"><span class=\"ltr ubd\"><span class=\"plain ltr  hl\" ><span class=\"txtt\">WHWJ </span></span></span></td></tr>\n",
       "<tr class=\"tf ltr\"><td class=\"tf ltr\">4</td><td class=\"tf ltr\"><span class=\"section ltr\"><a target=\"_blank\" href=\"https://github.com/etcbc/peshitta/blob/master/source/0.1/Genesis\" title=\"Show this document in the Peshitta repository\" sec=\"Genesis 17:1\">Genesis 17:1</a></span></td><td class=\"tf ltr\"><span class=\"ltr ubd\"><span class=\"plain ltr  hl\" ><span class=\"txtt\">WHWJ </span></span></span></td></tr>\n",
       "<tr class=\"tf ltr\"><td class=\"tf ltr\">5</td><td class=\"tf ltr\"><span class=\"section ltr\"><a target=\"_blank\" href=\"https://github.com/etcbc/peshitta/blob/master/source/0.1/Genesis\" title=\"Show this document in the Peshitta repository\" sec=\"Genesis 18:12\">Genesis 18:12</a></span></td><td class=\"tf ltr\"><span class=\"ltr ubd\"><span class=\"plain ltr  hl\" ><span class=\"txtt\">HWJ> </span></span></span></td></tr>\n",
       "<tr class=\"tf ltr\"><td class=\"tf ltr\">6</td><td class=\"tf ltr\"><span class=\"section ltr\"><a target=\"_blank\" href=\"https://github.com/etcbc/peshitta/blob/master/source/0.1/Genesis\" title=\"Show this document in the Peshitta repository\" sec=\"Genesis 19:37\">Genesis 19:37</a></span></td><td class=\"tf ltr\"><span class=\"ltr ubd\"><span class=\"plain ltr  hl\" ><span class=\"txtt\">HWJW </span></span></span></td></tr>\n",
       "<tr class=\"tf ltr\"><td class=\"tf ltr\">7</td><td class=\"tf ltr\"><span class=\"section ltr\"><a target=\"_blank\" href=\"https://github.com/etcbc/peshitta/blob/master/source/0.1/Genesis\" title=\"Show this document in the Peshitta repository\" sec=\"Genesis 19:38\">Genesis 19:38</a></span></td><td class=\"tf ltr\"><span class=\"ltr ubd\"><span class=\"plain ltr  hl\" ><span class=\"txtt\">HWJW </span></span></span></td></tr>\n",
       "<tr class=\"tf ltr\"><td class=\"tf ltr\">8</td><td class=\"tf ltr\"><span class=\"section ltr\"><a target=\"_blank\" href=\"https://github.com/etcbc/peshitta/blob/master/source/0.1/Genesis\" title=\"Show this document in the Peshitta repository\" sec=\"Genesis 24:41\">Genesis 24:41</a></span></td><td class=\"tf ltr\"><span class=\"ltr ubd\"><span class=\"plain ltr  hl\" ><span class=\"txtt\">HWJT </span></span></span></td></tr>\n",
       "<tr class=\"tf ltr\"><td class=\"tf ltr\">9</td><td class=\"tf ltr\"><span class=\"section ltr\"><a target=\"_blank\" href=\"https://github.com/etcbc/peshitta/blob/master/source/0.1/Genesis\" title=\"Show this document in the Peshitta repository\" sec=\"Genesis 24:60\">Genesis 24:60</a></span></td><td class=\"tf ltr\"><span class=\"ltr ubd\"><span class=\"plain ltr  hl\" ><span class=\"txtt\">HWJ </span></span></span></td></tr>\n",
       "<tr class=\"tf ltr\"><td class=\"tf ltr\">10</td><td class=\"tf ltr\"><span class=\"section ltr\"><a target=\"_blank\" href=\"https://github.com/etcbc/peshitta/blob/master/source/0.1/Genesis\" title=\"Show this document in the Peshitta repository\" sec=\"Genesis 24:65\">Genesis 24:65</a></span></td><td class=\"tf ltr\"><span class=\"ltr ubd\"><span class=\"plain ltr  hl\" ><span class=\"txtt\">HWJW </span></span></span></td></tr>\n",
       "<tr class=\"tf ltr\"><td class=\"tf ltr\">11</td><td class=\"tf ltr\"><span class=\"section ltr\"><a target=\"_blank\" href=\"https://github.com/etcbc/peshitta/blob/master/source/0.1/Genesis\" title=\"Show this document in the Peshitta repository\" sec=\"Genesis 26:9\">Genesis 26:9</a></span></td><td class=\"tf ltr\"><span class=\"ltr ubd\"><span class=\"plain ltr  hl\" ><span class=\"txtt\">HWJ#T </span></span></span></td></tr>\n",
       "<tr class=\"tf ltr\"><td class=\"tf ltr\">12</td><td class=\"tf ltr\"><span class=\"section ltr\"><a target=\"_blank\" href=\"https://github.com/etcbc/peshitta/blob/master/source/0.1/Genesis\" title=\"Show this document in the Peshitta repository\" sec=\"Genesis 26:10\">Genesis 26:10</a></span></td><td class=\"tf ltr\"><span class=\"ltr ubd\"><span class=\"plain ltr  hl\" ><span class=\"txtt\">HWJ#T </span></span></span></td></tr>\n",
       "<tr class=\"tf ltr\"><td class=\"tf ltr\">13</td><td class=\"tf ltr\"><span class=\"section ltr\"><a target=\"_blank\" href=\"https://github.com/etcbc/peshitta/blob/master/source/0.1/Genesis\" title=\"Show this document in the Peshitta repository\" sec=\"Genesis 27:29\">Genesis 27:29</a></span></td><td class=\"tf ltr\"><span class=\"ltr ubd\"><span class=\"plain ltr  hl\" ><span class=\"txtt\">HWJ </span></span></span></td></tr>\n",
       "<tr class=\"tf ltr\"><td class=\"tf ltr\">14</td><td class=\"tf ltr\"><span class=\"section ltr\"><a target=\"_blank\" href=\"https://github.com/etcbc/peshitta/blob/master/source/0.1/Genesis\" title=\"Show this document in the Peshitta repository\" sec=\"Genesis 30:42\">Genesis 30:42</a></span></td><td class=\"tf ltr\"><span class=\"ltr ubd\"><span class=\"plain ltr  hl\" ><span class=\"txtt\">WHWJN </span></span></span></td></tr>\n",
       "<tr class=\"tf ltr\"><td class=\"tf ltr\">15</td><td class=\"tf ltr\"><span class=\"section ltr\"><a target=\"_blank\" href=\"https://github.com/etcbc/peshitta/blob/master/source/0.1/Genesis\" title=\"Show this document in the Peshitta repository\" sec=\"Genesis 31:40\">Genesis 31:40</a></span></td><td class=\"tf ltr\"><span class=\"ltr ubd\"><span class=\"plain ltr  hl\" ><span class=\"txtt\">HWJT </span></span></span></td></tr>\n",
       "<tr class=\"tf ltr\"><td class=\"tf ltr\">16</td><td class=\"tf ltr\"><span class=\"section ltr\"><a target=\"_blank\" href=\"https://github.com/etcbc/peshitta/blob/master/source/0.1/Genesis\" title=\"Show this document in the Peshitta repository\" sec=\"Genesis 31:42\">Genesis 31:42</a></span></td><td class=\"tf ltr\"><span class=\"ltr ubd\"><span class=\"plain ltr  hl\" ><span class=\"txtt\">HWJT </span></span></span></td></tr>\n",
       "<tr class=\"tf ltr\"><td class=\"tf ltr\">17</td><td class=\"tf ltr\"><span class=\"section ltr\"><a target=\"_blank\" href=\"https://github.com/etcbc/peshitta/blob/master/source/0.1/Genesis\" title=\"Show this document in the Peshitta repository\" sec=\"Genesis 32:11\">Genesis 32:11</a></span></td><td class=\"tf ltr\"><span class=\"ltr ubd\"><span class=\"plain ltr  hl\" ><span class=\"txtt\">HWJT </span></span></span></td></tr>\n",
       "<tr class=\"tf ltr\"><td class=\"tf ltr\">18</td><td class=\"tf ltr\"><span class=\"section ltr\"><a target=\"_blank\" href=\"https://github.com/etcbc/peshitta/blob/master/source/0.1/Genesis\" title=\"Show this document in the Peshitta repository\" sec=\"Genesis 36:1\">Genesis 36:1</a></span></td><td class=\"tf ltr\"><span class=\"ltr ubd\"><span class=\"plain ltr  hl\" ><span class=\"txtt\">HWJW </span></span></span></td></tr>\n",
       "<tr class=\"tf ltr\"><td class=\"tf ltr\">19</td><td class=\"tf ltr\"><span class=\"section ltr\"><a target=\"_blank\" href=\"https://github.com/etcbc/peshitta/blob/master/source/0.1/Genesis\" title=\"Show this document in the Peshitta repository\" sec=\"Genesis 36:8\">Genesis 36:8</a></span></td><td class=\"tf ltr\"><span class=\"ltr ubd\"><span class=\"plain ltr  hl\" ><span class=\"txtt\">HWJW </span></span></span></td></tr>\n",
       "<tr class=\"tf ltr\"><td class=\"tf ltr\">20</td><td class=\"tf ltr\"><span class=\"section ltr\"><a target=\"_blank\" href=\"https://github.com/etcbc/peshitta/blob/master/source/0.1/Genesis\" title=\"Show this document in the Peshitta repository\" sec=\"Genesis 36:19\">Genesis 36:19</a></span></td><td class=\"tf ltr\"><span class=\"ltr ubd\"><span class=\"plain ltr  hl\" ><span class=\"txtt\">HWJW </span></span></span></td></tr></table>"
      ],
      "text/plain": [
       "<IPython.core.display.HTML object>"
      ]
     },
     "metadata": {},
     "output_type": "display_data"
    }
   ],
   "source": [
    "A.table(results, fmt=\"text-trans-full\", start=0, end=20)"
   ]
  },
  {
   "cell_type": "markdown",
   "metadata": {},
   "source": [
    "We can look for the *bare* occurrences of `HWJ`:\n",
    "\n",
    "* `word word_etcbc~^HWJ$` 42 occurrences, or simpler:\n",
    "* `word word_etcbc=HWJ` idem"
   ]
  },
  {
   "cell_type": "markdown",
   "metadata": {},
   "source": [
    "## word containing several roots\n",
    "\n",
    "You can look for several roots at the same time, e.g. `HWJ` and `RHV`:\n",
    "\n",
    "* `word word_etcbc=HWJ|RHV` 54 occurrences\n",
    "\n",
    "If you want the non-bare occurrences also, we are helped by the fact that you can use `|` inside regular expressions as well:\n",
    "\n",
    "* `word word_etcbc~HWJ|RHV` 791 results\n",
    "\n",
    "We show results 4 and 5 here, not as table but in pretty display, by using the function `show()` instead of\n",
    "`table()`:"
   ]
  },
  {
   "cell_type": "code",
   "execution_count": 16,
   "metadata": {},
   "outputs": [],
   "source": [
    "query = \"\"\"\n",
    "word word_etcbc~HWJ|RHV\n",
    "\"\"\""
   ]
  },
  {
   "cell_type": "code",
   "execution_count": 17,
   "metadata": {},
   "outputs": [
    {
     "name": "stdout",
     "output_type": "stream",
     "text": [
      "  0.47s 791 results\n"
     ]
    }
   ],
   "source": [
    "results = A.search(query)"
   ]
  },
  {
   "cell_type": "code",
   "execution_count": 18,
   "metadata": {},
   "outputs": [
    {
     "data": {
      "text/html": [
       "<p><b>result</b> <i>4</i></p>"
      ],
      "text/plain": [
       "<IPython.core.display.HTML object>"
      ]
     },
     "metadata": {},
     "output_type": "display_data"
    },
    {
     "data": {
      "text/html": [
       "<div class=\"section ltr\"><a target=\"_blank\" href=\"https://github.com/etcbc/peshitta/blob/master/source/0.1/Genesis\" title=\"Show this document in the Peshitta repository\" sec=\"Genesis 17:1\">Genesis 17:1</a></div><div class=\"ltr children\"><div class=\"contnr c3  ltr  \" ><div class=\"lbl c3  \" ><span class=\"nd\">verse</span></div><div class=\"children hor wrap ltr\"><div class=\"contnr c0 trm ltr  \" ><div class=\"lbl c0 trm \" ><span class=\"txtt\">WHW#> </span></div><div class='features'><span class=\"word_etcbc xft\" ><span class=\"f\">word_etcbc=</span>WHW#></span></div></div><div class=\"contnr c0 trm ltr  \" ><div class=\"lbl c0 trm \" ><span class=\"txtt\">>BRM </span></div><div class='features'><span class=\"word_etcbc xft\" ><span class=\"f\">word_etcbc=</span>>BRM</span></div></div><div class=\"contnr c0 trm ltr  \" ><div class=\"lbl c0 trm \" ><span class=\"txtt\">BR </span></div><div class='features'><span class=\"word_etcbc xft\" ><span class=\"f\">word_etcbc=</span>BR</span></div></div><div class=\"contnr c0 trm ltr  \" ><div class=\"lbl c0 trm \" ><span class=\"txtt\">TC&lt;JN </span></div><div class='features'><span class=\"word_etcbc xft\" ><span class=\"f\">word_etcbc=</span>TC&lt;JN</span></div></div><div class=\"contnr c0 trm ltr  \" ><div class=\"lbl c0 trm \" ><span class=\"txtt\">WTC&lt; </span></div><div class='features'><span class=\"word_etcbc xft\" ><span class=\"f\">word_etcbc=</span>WTC&lt;</span></div></div><div class=\"contnr c0 trm ltr  \" ><div class=\"lbl c0 trm \" ><span class=\"txtt\">C\"NJN=. </span></div><div class='features'><span class=\"word_etcbc xft\" ><span class=\"f\">word_etcbc=</span>C\"NJN</span></div></div><div class=\"contnr c0 trm ltr  \" ><div class=\"lbl c0 trm \" ><span class=\"txtt\">W>TGLJ </span></div><div class='features'><span class=\"word_etcbc xft\" ><span class=\"f\">word_etcbc=</span>W>TGLJ</span></div></div><div class=\"contnr c0 trm ltr  \" ><div class=\"lbl c0 trm \" ><span class=\"txtt\">MRJ> </span></div><div class='features'><span class=\"word_etcbc xft\" ><span class=\"f\">word_etcbc=</span>MRJ></span></div></div><div class=\"contnr c0 trm ltr  \" ><div class=\"lbl c0 trm \" ><span class=\"txtt\">&lt;L </span></div><div class='features'><span class=\"word_etcbc xft\" ><span class=\"f\">word_etcbc=</span>&lt;L</span></div></div><div class=\"contnr c0 trm ltr  \" ><div class=\"lbl c0 trm \" ><span class=\"txtt\">>BRM </span></div><div class='features'><span class=\"word_etcbc xft\" ><span class=\"f\">word_etcbc=</span>>BRM</span></div></div><div class=\"contnr c0 trm ltr  \" ><div class=\"lbl c0 trm \" ><span class=\"txtt\">W>M#R </span></div><div class='features'><span class=\"word_etcbc xft\" ><span class=\"f\">word_etcbc=</span>W>M#R</span></div></div><div class=\"contnr c0 trm ltr  \" ><div class=\"lbl c0 trm \" ><span class=\"txtt\">LH=. </span></div><div class='features'><span class=\"word_etcbc xft\" ><span class=\"f\">word_etcbc=</span>LH</span></div></div><div class=\"contnr c0 trm ltr  \" ><div class=\"lbl c0 trm \" ><span class=\"txtt\">>N> </span></div><div class='features'><span class=\"word_etcbc xft\" ><span class=\"f\">word_etcbc=</span>>N></span></div></div><div class=\"contnr c0 trm ltr  \" ><div class=\"lbl c0 trm \" ><span class=\"txtt\">>N> </span></div><div class='features'><span class=\"word_etcbc xft\" ><span class=\"f\">word_etcbc=</span>>N></span></div></div><div class=\"contnr c0 trm ltr  \" ><div class=\"lbl c0 trm \" ><span class=\"txtt\">>LCDJ </span></div><div class='features'><span class=\"word_etcbc xft\" ><span class=\"f\">word_etcbc=</span>>LCDJ</span></div></div><div class=\"contnr c0 trm ltr  \" ><div class=\"lbl c0 trm \" ><span class=\"txtt\">>LH>=. </span></div><div class='features'><span class=\"word_etcbc xft\" ><span class=\"f\">word_etcbc=</span>>LH></span></div></div><div class=\"contnr c0 trm ltr  \" ><div class=\"lbl c0 trm \" ><span class=\"txtt\">CP#R </span></div><div class='features'><span class=\"word_etcbc xft\" ><span class=\"f\">word_etcbc=</span>CP#R</span></div></div><div class=\"contnr c0 trm ltr  \" ><div class=\"lbl c0 trm \" ><span class=\"txtt\">QDMJ </span></div><div class='features'><span class=\"word_etcbc xft\" ><span class=\"f\">word_etcbc=</span>QDMJ</span></div></div><div class=\"contnr c0 trm ltr  hl\" ><div class=\"lbl c0 trm hl\" ><span class=\"txtt\">WHWJ </span></div><div class='features'><span class=\"word_etcbc xft\" ><span class=\"f\">word_etcbc=</span>WHWJ</span></div></div><div class=\"contnr c0 trm ltr  \" ><div class=\"lbl c0 trm \" ><span class=\"txtt\">DL> </span></div><div class='features'><span class=\"word_etcbc xft\" ><span class=\"f\">word_etcbc=</span>DL></span></div></div><div class=\"contnr c0 trm ltr  \" ><div class=\"lbl c0 trm \" ><span class=\"txtt\">MWM=. </span></div><div class='features'><span class=\"word_etcbc xft\" ><span class=\"f\">word_etcbc=</span>MWM</span></div></div></div></div></div>"
      ],
      "text/plain": [
       "<IPython.core.display.HTML object>"
      ]
     },
     "metadata": {},
     "output_type": "display_data"
    },
    {
     "data": {
      "text/html": [
       "<p><b>result</b> <i>5</i></p>"
      ],
      "text/plain": [
       "<IPython.core.display.HTML object>"
      ]
     },
     "metadata": {},
     "output_type": "display_data"
    },
    {
     "data": {
      "text/html": [
       "<div class=\"section ltr\"><a target=\"_blank\" href=\"https://github.com/etcbc/peshitta/blob/master/source/0.1/Genesis\" title=\"Show this document in the Peshitta repository\" sec=\"Genesis 18:2\">Genesis 18:2</a></div><div class=\"ltr children\"><div class=\"contnr c3  ltr  \" ><div class=\"lbl c3  \" ><span class=\"nd\">verse</span></div><div class=\"children hor wrap ltr\"><div class=\"contnr c0 trm ltr  \" ><div class=\"lbl c0 trm \" ><span class=\"txtt\">W>RJM </span></div><div class='features'><span class=\"word_etcbc xft\" ><span class=\"f\">word_etcbc=</span>W>RJM</span></div></div><div class=\"contnr c0 trm ltr  \" ><div class=\"lbl c0 trm \" ><span class=\"txtt\">&lt;JN\"WHJ </span></div><div class='features'><span class=\"word_etcbc xft\" ><span class=\"f\">word_etcbc=</span>&lt;JN\"WHJ</span></div></div><div class=\"contnr c0 trm ltr  \" ><div class=\"lbl c0 trm \" ><span class=\"txtt\">WX#Z>=. </span></div><div class='features'><span class=\"word_etcbc xft\" ><span class=\"f\">word_etcbc=</span>WX#Z></span></div></div><div class=\"contnr c0 trm ltr  \" ><div class=\"lbl c0 trm \" ><span class=\"txtt\">WH> </span></div><div class='features'><span class=\"word_etcbc xft\" ><span class=\"f\">word_etcbc=</span>WH></span></div></div><div class=\"contnr c0 trm ltr  \" ><div class=\"lbl c0 trm \" ><span class=\"txtt\">TLT> </span></div><div class='features'><span class=\"word_etcbc xft\" ><span class=\"f\">word_etcbc=</span>TLT></span></div></div><div class=\"contnr c0 trm ltr  \" ><div class=\"lbl c0 trm \" ><span class=\"txtt\">GBR\"JN </span></div><div class='features'><span class=\"word_etcbc xft\" ><span class=\"f\">word_etcbc=</span>GBR\"JN</span></div></div><div class=\"contnr c0 trm ltr  \" ><div class=\"lbl c0 trm \" ><span class=\"txtt\">QJMJN </span></div><div class='features'><span class=\"word_etcbc xft\" ><span class=\"f\">word_etcbc=</span>QJMJN</span></div></div><div class=\"contnr c0 trm ltr  \" ><div class=\"lbl c0 trm \" ><span class=\"txtt\">L&lt;L </span></div><div class='features'><span class=\"word_etcbc xft\" ><span class=\"f\">word_etcbc=</span>L&lt;L</span></div></div><div class=\"contnr c0 trm ltr  \" ><div class=\"lbl c0 trm \" ><span class=\"txtt\">MNH=. </span></div><div class='features'><span class=\"word_etcbc xft\" ><span class=\"f\">word_etcbc=</span>MNH</span></div></div><div class=\"contnr c0 trm ltr  \" ><div class=\"lbl c0 trm \" ><span class=\"txtt\">WX#Z> </span></div><div class='features'><span class=\"word_etcbc xft\" ><span class=\"f\">word_etcbc=</span>WX#Z></span></div></div><div class=\"contnr c0 trm ltr  \" ><div class=\"lbl c0 trm \" ><span class=\"txtt\">>NWN </span></div><div class='features'><span class=\"word_etcbc xft\" ><span class=\"f\">word_etcbc=</span>>NWN</span></div></div><div class=\"contnr c0 trm ltr  hl\" ><div class=\"lbl c0 trm hl\" ><span class=\"txtt\">WRHV </span></div><div class='features'><span class=\"word_etcbc xft\" ><span class=\"f\">word_etcbc=</span>WRHV</span></div></div><div class=\"contnr c0 trm ltr  \" ><div class=\"lbl c0 trm \" ><span class=\"txtt\">L>WR&lt;HWN </span></div><div class='features'><span class=\"word_etcbc xft\" ><span class=\"f\">word_etcbc=</span>L>WR&lt;HWN</span></div></div><div class=\"contnr c0 trm ltr  \" ><div class=\"lbl c0 trm \" ><span class=\"txtt\">MN </span></div><div class='features'><span class=\"word_etcbc xft\" ><span class=\"f\">word_etcbc=</span>MN</span></div></div><div class=\"contnr c0 trm ltr  \" ><div class=\"lbl c0 trm \" ><span class=\"txtt\">TR&lt;> </span></div><div class='features'><span class=\"word_etcbc xft\" ><span class=\"f\">word_etcbc=</span>TR&lt;></span></div></div><div class=\"contnr c0 trm ltr  \" ><div class=\"lbl c0 trm \" ><span class=\"txtt\">DMCKN>=. </span></div><div class='features'><span class=\"word_etcbc xft\" ><span class=\"f\">word_etcbc=</span>DMCKN></span></div></div><div class=\"contnr c0 trm ltr  \" ><div class=\"lbl c0 trm \" ><span class=\"txtt\">WSG#D </span></div><div class='features'><span class=\"word_etcbc xft\" ><span class=\"f\">word_etcbc=</span>WSG#D</span></div></div><div class=\"contnr c0 trm ltr  \" ><div class=\"lbl c0 trm \" ><span class=\"txtt\">&lt;L </span></div><div class='features'><span class=\"word_etcbc xft\" ><span class=\"f\">word_etcbc=</span>&lt;L</span></div></div><div class=\"contnr c0 trm ltr  \" ><div class=\"lbl c0 trm \" ><span class=\"txtt\">>R&lt;>=. </span></div><div class='features'><span class=\"word_etcbc xft\" ><span class=\"f\">word_etcbc=</span>>R&lt;></span></div></div></div></div></div>"
      ],
      "text/plain": [
       "<IPython.core.display.HTML object>"
      ]
     },
     "metadata": {},
     "output_type": "display_data"
    }
   ],
   "source": [
    "A.show(results, fmt=\"text-trans-full\", start=4, end=5)"
   ]
  },
  {
   "cell_type": "markdown",
   "metadata": {},
   "source": [
    "If you want all results in an Excel table, do this"
   ]
  },
  {
   "cell_type": "code",
   "execution_count": 19,
   "metadata": {},
   "outputs": [],
   "source": [
    "A.export(results)"
   ]
  },
  {
   "cell_type": "markdown",
   "metadata": {},
   "source": [
    "Find it in your downloads folder:\n",
    "\n",
    "![tsv](images/results.png)\n",
    "\n",
    "You can open it directly in Excel:\n",
    "\n",
    "\n",
    "![xls](images/resultsx.png)\n",
    "\n",
    "See also the\n",
    "[documentation of export()](https://annotation.github.io/text-fabric/tf/advanced/display.html#tf.advanced.display.export)\n",
    "\n",
    "You can also make these exports directly from the TF browser:\n",
    "\n",
    "![export](images/export.png)\n",
    "\n",
    "Look for a file with a name like `peshitta-default.zip` in your Downloads folder.\n",
    "In it is a file `resultsx.tsv` with the same content."
   ]
  }
 ],
 "metadata": {
  "kernelspec": {
   "display_name": "Python 3",
   "language": "python",
   "name": "python3"
  },
  "language_info": {
   "codemirror_mode": {
    "name": "ipython",
    "version": 3
   },
   "file_extension": ".py",
   "mimetype": "text/x-python",
   "name": "python",
   "nbconvert_exporter": "python",
   "pygments_lexer": "ipython3",
   "version": "3.8.5"
  }
 },
 "nbformat": 4,
 "nbformat_minor": 4
}
