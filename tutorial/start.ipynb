{
 "cells": [
  {
   "cell_type": "markdown",
   "metadata": {},
   "source": [
    "<img align=\"right\" src=\"images/tf.png\" width=\"150\"/>\n",
    "<img align=\"right\" src=\"images/etcbc.png\" width=\"150\"/>\n",
    "<img align=\"left\" src=\"images/logo.png\" width=\"300\"/>\n",
    "\n",
    "# Tutorial\n",
    "\n",
    "This notebook gets you started with using\n",
    "[Text-Fabric](https://annotation.github.io/text-fabric/) for coding in the Peshitta,\n",
    "the Syriac Old Testament.\n",
    "\n",
    "Familiarity with the underlying\n",
    "[data model](https://annotation.github.io/text-fabric/tf/about/datamodel.html)\n",
    "is recommended."
   ]
  },
  {
   "cell_type": "markdown",
   "metadata": {},
   "source": [
    "## Installing Text-Fabric\n",
    "\n",
    "### Python\n",
    "\n",
    "You need to have Python on your system. Most systems have it out of the box,\n",
    "but alas, that is python2 and we need at least python **3.6**.\n",
    "\n",
    "Install it from [python.org](https://www.python.org) or from\n",
    "[Anaconda](https://www.anaconda.com/download).\n",
    "\n",
    "### TF itself\n",
    "\n",
    "```\n",
    "pip3 install text-fabric\n",
    "```\n",
    "\n",
    "### Jupyter notebook\n",
    "\n",
    "You need [Jupyter](http://jupyter.org).\n",
    "\n",
    "If it is not already installed:\n",
    "\n",
    "```\n",
    "pip3 install jupyter\n",
    "```"
   ]
  },
  {
   "cell_type": "markdown",
   "metadata": {},
   "source": [
    "## Tip\n",
    "If you start computing with this tutorial, first copy its parent directory to somewhere else,\n",
    "outside your `peshitta` directory.\n",
    "If you pull changes from the `peshitta` repository later, your work will not be overwritten.\n",
    "Where you put your tutorial directory is up till you.\n",
    "It will work from any directory."
   ]
  },
  {
   "cell_type": "code",
   "execution_count": 1,
   "metadata": {},
   "outputs": [],
   "source": [
    "%load_ext autoreload\n",
    "%autoreload 2"
   ]
  },
  {
   "cell_type": "code",
   "execution_count": 2,
   "metadata": {},
   "outputs": [],
   "source": [
    "import os\n",
    "import collections"
   ]
  },
  {
   "cell_type": "code",
   "execution_count": 3,
   "metadata": {},
   "outputs": [],
   "source": [
    "from tf.app import use"
   ]
  },
  {
   "cell_type": "markdown",
   "metadata": {},
   "source": [
    "# Load Features\n",
    "The data of the corpus is organized in features.\n",
    "They are *columns* of data.\n",
    "Think of the text as a gigantic spreadsheet, where row 1 corresponds to the\n",
    "first word, row 2 to the second word, and so on, for all 400,000+ words.\n",
    "\n",
    "The letters of each word is a column `form` in that spreadsheet.\n",
    "\n",
    "The corpus contains ca. 10 columns, not only for the words, but also for\n",
    "textual objects, such as *books*, *chapters*, and *verses*.\n",
    "\n",
    "Instead of putting that information in one big table, the data is organized in separate columns.\n",
    "We call those columns **features**."
   ]
  },
  {
   "cell_type": "markdown",
   "metadata": {},
   "source": [
    "For the very last version, use `hot`.\n",
    "\n",
    "For the latest release, use `latest`.\n",
    "\n",
    "If you have cloned the repos (TF app and data), use `clone`.\n",
    "\n",
    "If you do not want/need to upgrade, leave out the checkout specifiers."
   ]
  },
  {
   "cell_type": "code",
   "execution_count": 5,
   "metadata": {
    "ExecuteTime": {
     "end_time": "2018-03-08T10:12:57.329202Z",
     "start_time": "2018-03-08T10:12:56.923478Z"
    }
   },
   "outputs": [
    {
     "name": "stdout",
     "output_type": "stream",
     "text": [
      "rate limit is 5000 requests per hour, with 4724 left for this hour\n",
      "\tconnecting to online GitHub repo etcbc/peshitta ... connected\n"
     ]
    },
    {
     "data": {
      "text/html": [
       "<b title=\"latest commit\">TF-app:</b> <span title=\"#98e6cf97447c2a8304f9e5494714c91aa6d04396\">~/text-fabric-data/etcbc/peshitta/app</span>"
      ],
      "text/plain": [
       "<IPython.core.display.HTML object>"
      ]
     },
     "metadata": {},
     "output_type": "display_data"
    },
    {
     "data": {
      "text/html": [
       "<b title=\"local release\">data:</b> <span title=\"rv0.5=#8dd63b6e3a7fa2df47b6a5938f7048b361d9fffe offline under ~/text-fabric-data\">~/text-fabric-data/etcbc/peshitta/tf/0.2</span>"
      ],
      "text/plain": [
       "<IPython.core.display.HTML object>"
      ]
     },
     "metadata": {},
     "output_type": "display_data"
    },
    {
     "name": "stdout",
     "output_type": "stream",
     "text": [
      "This is Text-Fabric 9.2.0\n",
      "Api reference : https://annotation.github.io/text-fabric/tf/cheatsheet.html\n",
      "\n",
      "12 features found and 0 ignored\n"
     ]
    },
    {
     "data": {
      "text/html": [
       "<b>Text-Fabric:</b> <a target=\"_blank\" href=\"https://annotation.github.io/text-fabric/tf/cheatsheet.html\" title=\"text-fabric-api\">Text-Fabric API 9.2.0</a>, <a target=\"_blank\" href=\"https://github.com/etcbc/peshitta/blob/master/app\" title=\"etcbc/peshitta TF-app\">etcbc/peshitta/app  v3</a>, <a target=\"_blank\" href=\"https://annotation.github.io/text-fabric/tf/about/searchusage.html\" title=\"Search Templates Introduction and Reference\">Search Reference</a><br><b>Data:</b> <a target=\"_blank\" href=\"https://github.com/etcbc/peshitta/blob/master/docs/transcription.md\" title=\"provenance of Peshitta (Old Testament)\">PESHITTA</a>, <a target=\"_blank\" href=\"https://annotation.github.io/text-fabric/tf/writing/syriac.html\" title=\"How TF features represent text\">Character table</a>, <a target=\"_blank\" href=\"https://github.com/etcbc/peshitta/blob/master/docs/transcription-0.2.md#\" title=\"PESHITTA feature documentation\">Feature docs</a><br><b>Features:</b><br>\n",
       "<details><summary><b>Peshitta (Old Testament)</b></summary>\n",
       "    <div class=\"fcorpus\">\n",
       "\n",
       "<div class=\"frow\">\n",
       "    <div class=\"fnamecat \">\n",
       "<a target=\"_blank\" href=\"https://github.com/etcbc/peshitta/blob/master/docs/transcription-0.2.md#book\" title=\"~/text-fabric-data/etcbc/peshitta/tf/0.2/book.tf\">book</a>\n",
       "</div>\n",
       "<div class=\"fmono\">str</div>\n",
       "<details>\n",
       "    <summary>book name</summary>\n",
       "    <div class=\"fmeta\">\n",
       "\n",
       "<div class=\"fmetarow\">\n",
       "    <div class=\"fmetakey\">dataset:</div>\n",
       "    <div>peshitta</div>\n",
       "</div>\n",
       "\n",
       "<div class=\"fmetarow\">\n",
       "    <div class=\"fmetakey\">datasetName:</div>\n",
       "    <div>Peshitta</div>\n",
       "</div>\n",
       "\n",
       "<div class=\"fmetarow\">\n",
       "    <div class=\"fmetakey\">dateWritten:</div>\n",
       "    <div>2021-03-11T13:29:19Z</div>\n",
       "</div>\n",
       "\n",
       "<div class=\"fmetarow\">\n",
       "    <div class=\"fmetakey\">email1:</div>\n",
       "    <div>dirk.roorda@dans.knaw.nl</div>\n",
       "</div>\n",
       "\n",
       "<div class=\"fmetarow\">\n",
       "    <div class=\"fmetakey\">encoders:</div>\n",
       "    <div>Eep Talstra Centre for Bible and Computer. LinkSyr project (CLARIAH research pilot). Hannes Vlaardingerbroek, Constantijn Sikkel (PIL) and Dirk Roorda (TF)</div>\n",
       "</div>\n",
       "\n",
       "<div class=\"fmetarow\">\n",
       "    <div class=\"fmetakey\">source:</div>\n",
       "    <div>SEDRA</div>\n",
       "</div>\n",
       "\n",
       "<div class=\"fmetarow\">\n",
       "    <div class=\"fmetakey\">sourceUrl:</div>\n",
       "    <div>https://sedra.bethmardutho.org/about/contributors</div>\n",
       "</div>\n",
       "\n",
       "<div class=\"fmetarow\">\n",
       "    <div class=\"fmetakey\">writtenBy:</div>\n",
       "    <div>Text-Fabric</div>\n",
       "</div>\n",
       "\n",
       "        </div>\n",
       "    </details>\n",
       "</div>\n",
       "\n",
       "<div class=\"frow\">\n",
       "    <div class=\"fnamecat \">\n",
       "<a target=\"_blank\" href=\"https://github.com/etcbc/peshitta/blob/master/docs/transcription-0.2.md#book@ll\" title=\"~/text-fabric-data/etcbc/peshitta/tf/0.2/book@en.tf\">book@ll</a>\n",
       "</div>\n",
       "<div class=\"fmono\">str</div>\n",
       "<details>\n",
       "    <summary>?</summary>\n",
       "    <div class=\"fmeta\">\n",
       "\n",
       "<div class=\"fmetarow\">\n",
       "    <div class=\"fmetakey\">dataset:</div>\n",
       "    <div>peshitta</div>\n",
       "</div>\n",
       "\n",
       "<div class=\"fmetarow\">\n",
       "    <div class=\"fmetakey\">datasetName:</div>\n",
       "    <div>Peshitta</div>\n",
       "</div>\n",
       "\n",
       "<div class=\"fmetarow\">\n",
       "    <div class=\"fmetakey\">dateWritten:</div>\n",
       "    <div>2021-03-11T13:29:19Z</div>\n",
       "</div>\n",
       "\n",
       "<div class=\"fmetarow\">\n",
       "    <div class=\"fmetakey\">email1:</div>\n",
       "    <div>dirk.roorda@dans.knaw.nl</div>\n",
       "</div>\n",
       "\n",
       "<div class=\"fmetarow\">\n",
       "    <div class=\"fmetakey\">encoders:</div>\n",
       "    <div>Eep Talstra Centre for Bible and Computer. LinkSyr project (CLARIAH research pilot). Hannes Vlaardingerbroek, Constantijn Sikkel (PIL) and Dirk Roorda (TF)</div>\n",
       "</div>\n",
       "\n",
       "<div class=\"fmetarow\">\n",
       "    <div class=\"fmetakey\">language:</div>\n",
       "    <div>English</div>\n",
       "</div>\n",
       "\n",
       "<div class=\"fmetarow\">\n",
       "    <div class=\"fmetakey\">languageCode:</div>\n",
       "    <div>en</div>\n",
       "</div>\n",
       "\n",
       "<div class=\"fmetarow\">\n",
       "    <div class=\"fmetakey\">languageEnglish:</div>\n",
       "    <div>English</div>\n",
       "</div>\n",
       "\n",
       "<div class=\"fmetarow\">\n",
       "    <div class=\"fmetakey\">source:</div>\n",
       "    <div>SEDRA</div>\n",
       "</div>\n",
       "\n",
       "<div class=\"fmetarow\">\n",
       "    <div class=\"fmetakey\">sourceUrl:</div>\n",
       "    <div>https://sedra.bethmardutho.org/about/contributors</div>\n",
       "</div>\n",
       "\n",
       "<div class=\"fmetarow\">\n",
       "    <div class=\"fmetakey\">writtenBy:</div>\n",
       "    <div>Text-Fabric</div>\n",
       "</div>\n",
       "\n",
       "        </div>\n",
       "    </details>\n",
       "</div>\n",
       "\n",
       "<div class=\"frow\">\n",
       "    <div class=\"fnamecat \">\n",
       "<a target=\"_blank\" href=\"https://github.com/etcbc/peshitta/blob/master/docs/transcription-0.2.md#chapter\" title=\"~/text-fabric-data/etcbc/peshitta/tf/0.2/chapter.tf\">chapter</a>\n",
       "</div>\n",
       "<div class=\"fmono\">int</div>\n",
       "<details>\n",
       "    <summary>chapter number</summary>\n",
       "    <div class=\"fmeta\">\n",
       "\n",
       "<div class=\"fmetarow\">\n",
       "    <div class=\"fmetakey\">dataset:</div>\n",
       "    <div>peshitta</div>\n",
       "</div>\n",
       "\n",
       "<div class=\"fmetarow\">\n",
       "    <div class=\"fmetakey\">datasetName:</div>\n",
       "    <div>Peshitta</div>\n",
       "</div>\n",
       "\n",
       "<div class=\"fmetarow\">\n",
       "    <div class=\"fmetakey\">dateWritten:</div>\n",
       "    <div>2021-03-11T13:29:19Z</div>\n",
       "</div>\n",
       "\n",
       "<div class=\"fmetarow\">\n",
       "    <div class=\"fmetakey\">email1:</div>\n",
       "    <div>dirk.roorda@dans.knaw.nl</div>\n",
       "</div>\n",
       "\n",
       "<div class=\"fmetarow\">\n",
       "    <div class=\"fmetakey\">encoders:</div>\n",
       "    <div>Eep Talstra Centre for Bible and Computer. LinkSyr project (CLARIAH research pilot). Hannes Vlaardingerbroek, Constantijn Sikkel (PIL) and Dirk Roorda (TF)</div>\n",
       "</div>\n",
       "\n",
       "<div class=\"fmetarow\">\n",
       "    <div class=\"fmetakey\">source:</div>\n",
       "    <div>SEDRA</div>\n",
       "</div>\n",
       "\n",
       "<div class=\"fmetarow\">\n",
       "    <div class=\"fmetakey\">sourceUrl:</div>\n",
       "    <div>https://sedra.bethmardutho.org/about/contributors</div>\n",
       "</div>\n",
       "\n",
       "<div class=\"fmetarow\">\n",
       "    <div class=\"fmetakey\">writtenBy:</div>\n",
       "    <div>Text-Fabric</div>\n",
       "</div>\n",
       "\n",
       "        </div>\n",
       "    </details>\n",
       "</div>\n",
       "\n",
       "<div class=\"frow\">\n",
       "    <div class=\"fnamecat \">\n",
       "<a target=\"_blank\" href=\"https://github.com/etcbc/peshitta/blob/master/docs/transcription-0.2.md#otype\" title=\"~/text-fabric-data/etcbc/peshitta/tf/0.2/otype.tf\">otype</a>\n",
       "</div>\n",
       "<div class=\"fmono\">str</div>\n",
       "<details>\n",
       "    <summary>?</summary>\n",
       "    <div class=\"fmeta\">\n",
       "\n",
       "<div class=\"fmetarow\">\n",
       "    <div class=\"fmetakey\">dataset:</div>\n",
       "    <div>peshitta</div>\n",
       "</div>\n",
       "\n",
       "<div class=\"fmetarow\">\n",
       "    <div class=\"fmetakey\">datasetName:</div>\n",
       "    <div>Peshitta</div>\n",
       "</div>\n",
       "\n",
       "<div class=\"fmetarow\">\n",
       "    <div class=\"fmetakey\">dateWritten:</div>\n",
       "    <div>2021-03-11T13:29:19Z</div>\n",
       "</div>\n",
       "\n",
       "<div class=\"fmetarow\">\n",
       "    <div class=\"fmetakey\">email1:</div>\n",
       "    <div>dirk.roorda@dans.knaw.nl</div>\n",
       "</div>\n",
       "\n",
       "<div class=\"fmetarow\">\n",
       "    <div class=\"fmetakey\">encoders:</div>\n",
       "    <div>Eep Talstra Centre for Bible and Computer. LinkSyr project (CLARIAH research pilot). Hannes Vlaardingerbroek, Constantijn Sikkel (PIL) and Dirk Roorda (TF)</div>\n",
       "</div>\n",
       "\n",
       "<div class=\"fmetarow\">\n",
       "    <div class=\"fmetakey\">source:</div>\n",
       "    <div>SEDRA</div>\n",
       "</div>\n",
       "\n",
       "<div class=\"fmetarow\">\n",
       "    <div class=\"fmetakey\">sourceUrl:</div>\n",
       "    <div>https://sedra.bethmardutho.org/about/contributors</div>\n",
       "</div>\n",
       "\n",
       "<div class=\"fmetarow\">\n",
       "    <div class=\"fmetakey\">writtenBy:</div>\n",
       "    <div>Text-Fabric</div>\n",
       "</div>\n",
       "\n",
       "        </div>\n",
       "    </details>\n",
       "</div>\n",
       "\n",
       "<div class=\"frow\">\n",
       "    <div class=\"fnamecat \">\n",
       "<a target=\"_blank\" href=\"https://github.com/etcbc/peshitta/blob/master/docs/transcription-0.2.md#trailer\" title=\"~/text-fabric-data/etcbc/peshitta/tf/0.2/trailer.tf\">trailer</a>\n",
       "</div>\n",
       "<div class=\"fmono\">str</div>\n",
       "<details>\n",
       "    <summary>after-word material in syriac script</summary>\n",
       "    <div class=\"fmeta\">\n",
       "\n",
       "<div class=\"fmetarow\">\n",
       "    <div class=\"fmetakey\">dataset:</div>\n",
       "    <div>peshitta</div>\n",
       "</div>\n",
       "\n",
       "<div class=\"fmetarow\">\n",
       "    <div class=\"fmetakey\">datasetName:</div>\n",
       "    <div>Peshitta</div>\n",
       "</div>\n",
       "\n",
       "<div class=\"fmetarow\">\n",
       "    <div class=\"fmetakey\">dateWritten:</div>\n",
       "    <div>2021-03-11T13:29:19Z</div>\n",
       "</div>\n",
       "\n",
       "<div class=\"fmetarow\">\n",
       "    <div class=\"fmetakey\">email1:</div>\n",
       "    <div>dirk.roorda@dans.knaw.nl</div>\n",
       "</div>\n",
       "\n",
       "<div class=\"fmetarow\">\n",
       "    <div class=\"fmetakey\">encoders:</div>\n",
       "    <div>Eep Talstra Centre for Bible and Computer. LinkSyr project (CLARIAH research pilot). Hannes Vlaardingerbroek, Constantijn Sikkel (PIL) and Dirk Roorda (TF)</div>\n",
       "</div>\n",
       "\n",
       "<div class=\"fmetarow\">\n",
       "    <div class=\"fmetakey\">source:</div>\n",
       "    <div>SEDRA</div>\n",
       "</div>\n",
       "\n",
       "<div class=\"fmetarow\">\n",
       "    <div class=\"fmetakey\">sourceUrl:</div>\n",
       "    <div>https://sedra.bethmardutho.org/about/contributors</div>\n",
       "</div>\n",
       "\n",
       "<div class=\"fmetarow\">\n",
       "    <div class=\"fmetakey\">writtenBy:</div>\n",
       "    <div>Text-Fabric</div>\n",
       "</div>\n",
       "\n",
       "        </div>\n",
       "    </details>\n",
       "</div>\n",
       "\n",
       "<div class=\"frow\">\n",
       "    <div class=\"fnamecat \">\n",
       "<a target=\"_blank\" href=\"https://github.com/etcbc/peshitta/blob/master/docs/transcription-0.2.md#trailer_etcbc\" title=\"~/text-fabric-data/etcbc/peshitta/tf/0.2/trailer_etcbc.tf\">trailer_etcbc</a>\n",
       "</div>\n",
       "<div class=\"fmono\">str</div>\n",
       "<details>\n",
       "    <summary>after-word material in ETCBC transcription</summary>\n",
       "    <div class=\"fmeta\">\n",
       "\n",
       "<div class=\"fmetarow\">\n",
       "    <div class=\"fmetakey\">dataset:</div>\n",
       "    <div>peshitta</div>\n",
       "</div>\n",
       "\n",
       "<div class=\"fmetarow\">\n",
       "    <div class=\"fmetakey\">datasetName:</div>\n",
       "    <div>Peshitta</div>\n",
       "</div>\n",
       "\n",
       "<div class=\"fmetarow\">\n",
       "    <div class=\"fmetakey\">dateWritten:</div>\n",
       "    <div>2021-03-11T13:29:20Z</div>\n",
       "</div>\n",
       "\n",
       "<div class=\"fmetarow\">\n",
       "    <div class=\"fmetakey\">email1:</div>\n",
       "    <div>dirk.roorda@dans.knaw.nl</div>\n",
       "</div>\n",
       "\n",
       "<div class=\"fmetarow\">\n",
       "    <div class=\"fmetakey\">encoders:</div>\n",
       "    <div>Eep Talstra Centre for Bible and Computer. LinkSyr project (CLARIAH research pilot). Hannes Vlaardingerbroek, Constantijn Sikkel (PIL) and Dirk Roorda (TF)</div>\n",
       "</div>\n",
       "\n",
       "<div class=\"fmetarow\">\n",
       "    <div class=\"fmetakey\">source:</div>\n",
       "    <div>SEDRA</div>\n",
       "</div>\n",
       "\n",
       "<div class=\"fmetarow\">\n",
       "    <div class=\"fmetakey\">sourceUrl:</div>\n",
       "    <div>https://sedra.bethmardutho.org/about/contributors</div>\n",
       "</div>\n",
       "\n",
       "<div class=\"fmetarow\">\n",
       "    <div class=\"fmetakey\">writtenBy:</div>\n",
       "    <div>Text-Fabric</div>\n",
       "</div>\n",
       "\n",
       "        </div>\n",
       "    </details>\n",
       "</div>\n",
       "\n",
       "<div class=\"frow\">\n",
       "    <div class=\"fnamecat \">\n",
       "<a target=\"_blank\" href=\"https://github.com/etcbc/peshitta/blob/master/docs/transcription-0.2.md#verse\" title=\"~/text-fabric-data/etcbc/peshitta/tf/0.2/verse.tf\">verse</a>\n",
       "</div>\n",
       "<div class=\"fmono\">int</div>\n",
       "<details>\n",
       "    <summary>verse number</summary>\n",
       "    <div class=\"fmeta\">\n",
       "\n",
       "<div class=\"fmetarow\">\n",
       "    <div class=\"fmetakey\">dataset:</div>\n",
       "    <div>peshitta</div>\n",
       "</div>\n",
       "\n",
       "<div class=\"fmetarow\">\n",
       "    <div class=\"fmetakey\">datasetName:</div>\n",
       "    <div>Peshitta</div>\n",
       "</div>\n",
       "\n",
       "<div class=\"fmetarow\">\n",
       "    <div class=\"fmetakey\">dateWritten:</div>\n",
       "    <div>2021-03-11T13:29:20Z</div>\n",
       "</div>\n",
       "\n",
       "<div class=\"fmetarow\">\n",
       "    <div class=\"fmetakey\">email1:</div>\n",
       "    <div>dirk.roorda@dans.knaw.nl</div>\n",
       "</div>\n",
       "\n",
       "<div class=\"fmetarow\">\n",
       "    <div class=\"fmetakey\">encoders:</div>\n",
       "    <div>Eep Talstra Centre for Bible and Computer. LinkSyr project (CLARIAH research pilot). Hannes Vlaardingerbroek, Constantijn Sikkel (PIL) and Dirk Roorda (TF)</div>\n",
       "</div>\n",
       "\n",
       "<div class=\"fmetarow\">\n",
       "    <div class=\"fmetakey\">source:</div>\n",
       "    <div>SEDRA</div>\n",
       "</div>\n",
       "\n",
       "<div class=\"fmetarow\">\n",
       "    <div class=\"fmetakey\">sourceUrl:</div>\n",
       "    <div>https://sedra.bethmardutho.org/about/contributors</div>\n",
       "</div>\n",
       "\n",
       "<div class=\"fmetarow\">\n",
       "    <div class=\"fmetakey\">writtenBy:</div>\n",
       "    <div>Text-Fabric</div>\n",
       "</div>\n",
       "\n",
       "        </div>\n",
       "    </details>\n",
       "</div>\n",
       "\n",
       "<div class=\"frow\">\n",
       "    <div class=\"fnamecat \">\n",
       "<a target=\"_blank\" href=\"https://github.com/etcbc/peshitta/blob/master/docs/transcription-0.2.md#witness\" title=\"~/text-fabric-data/etcbc/peshitta/tf/0.2/witness.tf\">witness</a>\n",
       "</div>\n",
       "<div class=\"fmono\">str</div>\n",
       "<details>\n",
       "    <summary>book witness (A or B)</summary>\n",
       "    <div class=\"fmeta\">\n",
       "\n",
       "<div class=\"fmetarow\">\n",
       "    <div class=\"fmetakey\">dataset:</div>\n",
       "    <div>peshitta</div>\n",
       "</div>\n",
       "\n",
       "<div class=\"fmetarow\">\n",
       "    <div class=\"fmetakey\">datasetName:</div>\n",
       "    <div>Peshitta</div>\n",
       "</div>\n",
       "\n",
       "<div class=\"fmetarow\">\n",
       "    <div class=\"fmetakey\">dateWritten:</div>\n",
       "    <div>2021-03-11T13:29:20Z</div>\n",
       "</div>\n",
       "\n",
       "<div class=\"fmetarow\">\n",
       "    <div class=\"fmetakey\">email1:</div>\n",
       "    <div>dirk.roorda@dans.knaw.nl</div>\n",
       "</div>\n",
       "\n",
       "<div class=\"fmetarow\">\n",
       "    <div class=\"fmetakey\">encoders:</div>\n",
       "    <div>Eep Talstra Centre for Bible and Computer. LinkSyr project (CLARIAH research pilot). Hannes Vlaardingerbroek, Constantijn Sikkel (PIL) and Dirk Roorda (TF)</div>\n",
       "</div>\n",
       "\n",
       "<div class=\"fmetarow\">\n",
       "    <div class=\"fmetakey\">source:</div>\n",
       "    <div>SEDRA</div>\n",
       "</div>\n",
       "\n",
       "<div class=\"fmetarow\">\n",
       "    <div class=\"fmetakey\">sourceUrl:</div>\n",
       "    <div>https://sedra.bethmardutho.org/about/contributors</div>\n",
       "</div>\n",
       "\n",
       "<div class=\"fmetarow\">\n",
       "    <div class=\"fmetakey\">writtenBy:</div>\n",
       "    <div>Text-Fabric</div>\n",
       "</div>\n",
       "\n",
       "        </div>\n",
       "    </details>\n",
       "</div>\n",
       "\n",
       "<div class=\"frow\">\n",
       "    <div class=\"fnamecat \">\n",
       "<a target=\"_blank\" href=\"https://github.com/etcbc/peshitta/blob/master/docs/transcription-0.2.md#word\" title=\"~/text-fabric-data/etcbc/peshitta/tf/0.2/word.tf\">word</a>\n",
       "</div>\n",
       "<div class=\"fmono\">str</div>\n",
       "<details>\n",
       "    <summary>full form of the word in syriac script</summary>\n",
       "    <div class=\"fmeta\">\n",
       "\n",
       "<div class=\"fmetarow\">\n",
       "    <div class=\"fmetakey\">dataset:</div>\n",
       "    <div>peshitta</div>\n",
       "</div>\n",
       "\n",
       "<div class=\"fmetarow\">\n",
       "    <div class=\"fmetakey\">datasetName:</div>\n",
       "    <div>Peshitta</div>\n",
       "</div>\n",
       "\n",
       "<div class=\"fmetarow\">\n",
       "    <div class=\"fmetakey\">dateWritten:</div>\n",
       "    <div>2021-03-11T13:29:20Z</div>\n",
       "</div>\n",
       "\n",
       "<div class=\"fmetarow\">\n",
       "    <div class=\"fmetakey\">email1:</div>\n",
       "    <div>dirk.roorda@dans.knaw.nl</div>\n",
       "</div>\n",
       "\n",
       "<div class=\"fmetarow\">\n",
       "    <div class=\"fmetakey\">encoders:</div>\n",
       "    <div>Eep Talstra Centre for Bible and Computer. LinkSyr project (CLARIAH research pilot). Hannes Vlaardingerbroek, Constantijn Sikkel (PIL) and Dirk Roorda (TF)</div>\n",
       "</div>\n",
       "\n",
       "<div class=\"fmetarow\">\n",
       "    <div class=\"fmetakey\">source:</div>\n",
       "    <div>SEDRA</div>\n",
       "</div>\n",
       "\n",
       "<div class=\"fmetarow\">\n",
       "    <div class=\"fmetakey\">sourceUrl:</div>\n",
       "    <div>https://sedra.bethmardutho.org/about/contributors</div>\n",
       "</div>\n",
       "\n",
       "<div class=\"fmetarow\">\n",
       "    <div class=\"fmetakey\">writtenBy:</div>\n",
       "    <div>Text-Fabric</div>\n",
       "</div>\n",
       "\n",
       "        </div>\n",
       "    </details>\n",
       "</div>\n",
       "\n",
       "<div class=\"frow\">\n",
       "    <div class=\"fnamecat \">\n",
       "<a target=\"_blank\" href=\"https://github.com/etcbc/peshitta/blob/master/docs/transcription-0.2.md#word_etcbc\" title=\"~/text-fabric-data/etcbc/peshitta/tf/0.2/word_etcbc.tf\">word_etcbc</a>\n",
       "</div>\n",
       "<div class=\"fmono\">str</div>\n",
       "<details>\n",
       "    <summary>full form of the word in ETCBC transcription</summary>\n",
       "    <div class=\"fmeta\">\n",
       "\n",
       "<div class=\"fmetarow\">\n",
       "    <div class=\"fmetakey\">dataset:</div>\n",
       "    <div>peshitta</div>\n",
       "</div>\n",
       "\n",
       "<div class=\"fmetarow\">\n",
       "    <div class=\"fmetakey\">datasetName:</div>\n",
       "    <div>Peshitta</div>\n",
       "</div>\n",
       "\n",
       "<div class=\"fmetarow\">\n",
       "    <div class=\"fmetakey\">dateWritten:</div>\n",
       "    <div>2021-03-11T13:29:21Z</div>\n",
       "</div>\n",
       "\n",
       "<div class=\"fmetarow\">\n",
       "    <div class=\"fmetakey\">email1:</div>\n",
       "    <div>dirk.roorda@dans.knaw.nl</div>\n",
       "</div>\n",
       "\n",
       "<div class=\"fmetarow\">\n",
       "    <div class=\"fmetakey\">encoders:</div>\n",
       "    <div>Eep Talstra Centre for Bible and Computer. LinkSyr project (CLARIAH research pilot). Hannes Vlaardingerbroek, Constantijn Sikkel (PIL) and Dirk Roorda (TF)</div>\n",
       "</div>\n",
       "\n",
       "<div class=\"fmetarow\">\n",
       "    <div class=\"fmetakey\">source:</div>\n",
       "    <div>SEDRA</div>\n",
       "</div>\n",
       "\n",
       "<div class=\"fmetarow\">\n",
       "    <div class=\"fmetakey\">sourceUrl:</div>\n",
       "    <div>https://sedra.bethmardutho.org/about/contributors</div>\n",
       "</div>\n",
       "\n",
       "<div class=\"fmetarow\">\n",
       "    <div class=\"fmetakey\">writtenBy:</div>\n",
       "    <div>Text-Fabric</div>\n",
       "</div>\n",
       "\n",
       "        </div>\n",
       "    </details>\n",
       "</div>\n",
       "\n",
       "<div class=\"frow\">\n",
       "    <div class=\"fnamecat edge\">\n",
       "<a target=\"_blank\" href=\"https://github.com/etcbc/peshitta/blob/master/docs/transcription-0.2.md#oslots\" title=\"~/text-fabric-data/etcbc/peshitta/tf/0.2/oslots.tf\">oslots</a>\n",
       "</div>\n",
       "<div class=\"fmono\">none</div>\n",
       "<details>\n",
       "    <summary>?</summary>\n",
       "    <div class=\"fmeta\">\n",
       "\n",
       "<div class=\"fmetarow\">\n",
       "    <div class=\"fmetakey\">dataset:</div>\n",
       "    <div>peshitta</div>\n",
       "</div>\n",
       "\n",
       "<div class=\"fmetarow\">\n",
       "    <div class=\"fmetakey\">datasetName:</div>\n",
       "    <div>Peshitta</div>\n",
       "</div>\n",
       "\n",
       "<div class=\"fmetarow\">\n",
       "    <div class=\"fmetakey\">dateWritten:</div>\n",
       "    <div>2021-03-11T13:29:21Z</div>\n",
       "</div>\n",
       "\n",
       "<div class=\"fmetarow\">\n",
       "    <div class=\"fmetakey\">email1:</div>\n",
       "    <div>dirk.roorda@dans.knaw.nl</div>\n",
       "</div>\n",
       "\n",
       "<div class=\"fmetarow\">\n",
       "    <div class=\"fmetakey\">encoders:</div>\n",
       "    <div>Eep Talstra Centre for Bible and Computer. LinkSyr project (CLARIAH research pilot). Hannes Vlaardingerbroek, Constantijn Sikkel (PIL) and Dirk Roorda (TF)</div>\n",
       "</div>\n",
       "\n",
       "<div class=\"fmetarow\">\n",
       "    <div class=\"fmetakey\">source:</div>\n",
       "    <div>SEDRA</div>\n",
       "</div>\n",
       "\n",
       "<div class=\"fmetarow\">\n",
       "    <div class=\"fmetakey\">sourceUrl:</div>\n",
       "    <div>https://sedra.bethmardutho.org/about/contributors</div>\n",
       "</div>\n",
       "\n",
       "<div class=\"fmetarow\">\n",
       "    <div class=\"fmetakey\">writtenBy:</div>\n",
       "    <div>Text-Fabric</div>\n",
       "</div>\n",
       "\n",
       "        </div>\n",
       "    </details>\n",
       "</div>\n",
       "\n",
       "    </div>\n",
       "</details>\n"
      ],
      "text/plain": [
       "<IPython.core.display.HTML object>"
      ]
     },
     "metadata": {},
     "output_type": "display_data"
    },
    {
     "data": {
      "text/html": [
       "<style>tr.tf.ltr, td.tf.ltr, th.tf.ltr { text-align: left ! important;}\n",
       "tr.tf.rtl, td.tf.rtl, th.tf.rtl { text-align: right ! important;}\n",
       "@font-face {\n",
       "  font-family: \"Gentium Plus\";\n",
       "  src: local('Gentium Plus'), local('GentiumPlus'),\n",
       "    url('/server/static/fonts/GentiumPlus-R.woff') format('woff'),\n",
       "    url('https://github.com/annotation/text-fabric/blob/master/tf/server/static/fonts/GentiumPlus-R.woff?raw=true') format('woff');\n",
       "}\n",
       "\n",
       "@font-face {\n",
       "  font-family: \"Ezra SIL\";\n",
       "  src: local('Ezra SIL'), local('EzraSIL'),\n",
       "    url('/server/static/fonts/SILEOT.woff') format('woff'),\n",
       "    url('https://github.com/annotation/text-fabric/blob/master/tf/server/static/fonts/SILEOT.woff?raw=true') format('woff');\n",
       "}\n",
       "\n",
       "@font-face {\n",
       "  font-family: \"SBL Hebrew\";\n",
       "  src: local('SBL Hebrew'), local('SBLHebrew'),\n",
       "    url('/server/static/fonts/SBL_Hbrw.woff') format('woff'),\n",
       "    url('https://github.com/annotation/text-fabric/blob/master/tf/server/static/fonts/SBL_Hbrw.woff?raw=true') format('woff');\n",
       "}\n",
       "\n",
       "@font-face {\n",
       "  font-family: \"Estrangelo Edessa\";\n",
       "  src: local('Estrangelo Edessa'), local('EstrangeloEdessa');\n",
       "    url('/server/static/fonts/SyrCOMEdessa.woff') format('woff'),\n",
       "    url('https://github.com/annotation/text-fabric/blob/master/tf/server/static/fonts/SyrCOMEdessa.woff?raw=true') format('woff');\n",
       "}\n",
       "\n",
       "@font-face {\n",
       "  font-family: AmiriQuran;\n",
       "  font-style: normal;\n",
       "  font-weight: 400;\n",
       "  src: local('Amiri Quran'), local('AmiriQuran'),\n",
       "    url('/server/static/fonts/AmiriQuran.woff') format('woff'),\n",
       "    url('https://github.com/annotation/text-fabric/blob/master/tf/server/static/fonts/AmiriQuran.woff?raw=true') format('woff');\n",
       "}\n",
       "\n",
       "@font-face {\n",
       "  font-family: AmiriQuranColored;\n",
       "  font-style: normal;\n",
       "  font-weight: 400;\n",
       "  src: local('Amiri Quran Colored'), local('AmiriQuranColored'),\n",
       "    url('/server/static/fonts/AmiriQuranColored.woff') format('woff'),\n",
       "    url('https://github.com/annotation/text-fabric/blob/master/tf/server/static/fonts/AmiriQuranColored.woff?raw=true') format('woff');\n",
       "}\n",
       "\n",
       "@font-face {\n",
       "  font-family: \"Santakku\";\n",
       "  src: local('Santakku'),\n",
       "    url('/server/static/fonts/Santakku.woff') format('woff'),\n",
       "    url('https://github.com/annotation/text-fabric/blob/master/tf/server/static/fonts/Santakku.woff?raw=true') format('woff');\n",
       "}\n",
       "\n",
       "@font-face {\n",
       "  font-family: \"SantakkuM\";\n",
       "  src: local('SantakkuM'),\n",
       "    url('/server/static/fonts/SantakkuM.woff') format('woff'),\n",
       "    url('https://github.com/annotation/text-fabric/blob/master/tf/server/static/fonts/SantakkuM.woff?raw=true') format('woff');\n",
       "}\n",
       "/* bypassing some classical notebook settings */\n",
       "div#notebook {\n",
       "  line-height: unset;\n",
       "}\n",
       "/* neutral text */\n",
       ".txtn,.txtn a:visited,.txtn a:link {\n",
       "    font-family: sans-serif;\n",
       "    font-size: medium;\n",
       "    direction: ltr;\n",
       "    unicode-bidi: embed;\n",
       "    text-decoration: none;\n",
       "    color: var(--text-color);\n",
       "}\n",
       "/* transcription text */\n",
       ".txtt,.txtt a:visited,.txtt a:link {\n",
       "    font-family: monospace;\n",
       "    font-size: medium;\n",
       "    direction: ltr;\n",
       "    unicode-bidi: embed;\n",
       "    text-decoration: none;\n",
       "    color: var(--text-color);\n",
       "}\n",
       "/* source text */\n",
       ".txto,.txto a:visited,.txto a:link {\n",
       "    font-family: serif;\n",
       "    font-size: medium;\n",
       "    direction: ltr;\n",
       "    unicode-bidi: embed;\n",
       "    text-decoration: none;\n",
       "    color: var(--text-color);\n",
       "}\n",
       "/* phonetic text */\n",
       ".txtp,.txtp a:visited,.txtp a:link {\n",
       "    font-family: Gentium, sans-serif;\n",
       "    font-size: medium;\n",
       "    direction: ltr;\n",
       "    unicode-bidi: embed;\n",
       "    text-decoration: none;\n",
       "    color: var(--text-color);\n",
       "}\n",
       "/* original script text */\n",
       ".txtu,.txtu a:visited,.txtu a:link {\n",
       "    font-family: Gentium, sans-serif;\n",
       "    font-size: medium;\n",
       "    text-decoration: none;\n",
       "    color: var(--text-color);\n",
       "}\n",
       "/* hebrew */\n",
       ".txtu.hbo,.lex.hbo {\n",
       "    font-family: \"Ezra SIL\", \"SBL Hebrew\", sans-serif;\n",
       "    font-size: large;\n",
       "    direction: rtl ! important;\n",
       "    unicode-bidi: embed;\n",
       "}\n",
       "/* syriac */\n",
       ".txtu.syc,.lex.syc {\n",
       "    font-family: \"Estrangelo Edessa\", sans-serif;\n",
       "    font-size: medium;\n",
       "    direction: rtl ! important;\n",
       "    unicode-bidi: embed;\n",
       "}\n",
       "/* neo aramaic */\n",
       ".txtu.cld,.lex.cld {\n",
       "    font-family: \"CharisSIL-R\", sans-serif;\n",
       "    font-size: medium;\n",
       "    direction: ltr ! important;\n",
       "    unicode-bidi: embed;\n",
       "}\n",
       "/* standard arabic */\n",
       ".txtu.ara,.lex.ara {\n",
       "    font-family: \"AmiriQuran\", sans-serif;\n",
       "    font-size: large;\n",
       "    direction: rtl ! important;\n",
       "    unicode-bidi: embed;\n",
       "}\n",
       "/* cuneiform */\n",
       ".txtu.akk,.lex.akk {\n",
       "    font-family: Santakku, sans-serif;\n",
       "    font-size: large;\n",
       "    direction: ltr ! important;\n",
       "    unicode-bidi: embed;\n",
       "}\n",
       "/* greek */\n",
       ".txtu.grc,.lex.grc a:link {\n",
       "    font-family: Gentium, sans-serif;\n",
       "    font-size: medium;\n",
       "    direction: ltr ! important;\n",
       "    unicode-bidi: embed;\n",
       "}\n",
       "a:hover {\n",
       "    text-decoration: underline | important;\n",
       "    color: #0000ff | important;\n",
       "}\n",
       ".ltr {\n",
       "    direction: ltr ! important;\n",
       "    unicode-bidi: embed;\n",
       "}\n",
       ".rtl {\n",
       "    direction: rtl ! important;\n",
       "    unicode-bidi: embed;\n",
       "}\n",
       ".ubd {\n",
       "    unicode-bidi: embed;\n",
       "}\n",
       ".col {\n",
       "   display: inline-block;\n",
       "}\n",
       ".features {\n",
       "    font-family: monospace;\n",
       "    font-size: medium;\n",
       "    font-weight: bold;\n",
       "    color: var(--features);\n",
       "    display: flex;\n",
       "    flex-flow: column nowrap;\n",
       "    justify-content: flex-start;\n",
       "    align-items: flex-start;\n",
       "    align-content: flex-start;\n",
       "    padding: 2px;\n",
       "    margin: 2px;\n",
       "    direction: ltr;\n",
       "    unicode-bidi: embed;\n",
       "    border: var(--meta-width) solid var(--meta-color);\n",
       "    border-radius: var(--meta-width);\n",
       "}\n",
       ".features div,.features span {\n",
       "    padding: 0;\n",
       "    margin: -2px 0;\n",
       "}\n",
       ".features .f {\n",
       "    font-family: sans-serif;\n",
       "    font-size: small;\n",
       "    font-weight: normal;\n",
       "    color: #5555bb;\n",
       "}\n",
       ".features .xft {\n",
       "  color: #000000;\n",
       "  background-color: #eeeeee;\n",
       "  font-size: medium;\n",
       "  margin: 2px 0px;\n",
       "}\n",
       ".features .xft .f {\n",
       "  color: #000000;\n",
       "  background-color: #eeeeee;\n",
       "  font-size: small;\n",
       "  font-weight: normal;\n",
       "}\n",
       ".tfsechead {\n",
       "    font-family: sans-serif;\n",
       "    font-size: small;\n",
       "    font-weight: bold;\n",
       "    color: var(--tfsechead);\n",
       "    unicode-bidi: embed;\n",
       "    text-align: start;\n",
       "}\n",
       ".structure {\n",
       "    font-family: sans-serif;\n",
       "    font-size: small;\n",
       "    font-weight: bold;\n",
       "    color: var(--structure);\n",
       "    unicode-bidi: embed;\n",
       "    text-align: start;\n",
       "}\n",
       ".comments {\n",
       "    display: flex;\n",
       "    justify-content: flex-start;\n",
       "    align-items: flex-start;\n",
       "    align-content: flex-start;\n",
       "    flex-flow: column nowrap;\n",
       "}\n",
       ".nd, a:link.nd {\n",
       "    font-family: sans-serif;\n",
       "    font-size: small;\n",
       "    color: var(--node);\n",
       "    vertical-align: super;\n",
       "    direction: ltr ! important;\n",
       "    unicode-bidi: embed;\n",
       "}\n",
       ".lex {\n",
       "  color: var(--lex-color);;\n",
       "}\n",
       ".children,.children.ltr {\n",
       "    display: flex;\n",
       "    border: 0;\n",
       "    background-color: #ffffff;\n",
       "    justify-content: flex-start;\n",
       "    align-items: flex-start;\n",
       "    align-content: flex-start;\n",
       "}\n",
       ".children.stretch {\n",
       "    align-items: stretch;\n",
       "}\n",
       ".children.hor {\n",
       "    flex-flow: row nowrap;\n",
       "}\n",
       ".children.hor.wrap {\n",
       "    flex-flow: row wrap;\n",
       "}\n",
       ".children.ver {\n",
       "    flex-flow: column nowrap;\n",
       "}\n",
       ".children.ver.wrap {\n",
       "    flex-flow: column wrap;\n",
       "}\n",
       ".contnr {\n",
       "    width: fit-content;\n",
       "    display: flex;\n",
       "    justify-content: flex-start;\n",
       "    align-items: flex-start;\n",
       "    align-content: flex-start;\n",
       "    flex-flow: column nowrap;\n",
       "    background: #ffffff none repeat scroll 0 0;\n",
       "    padding:  10px 2px 2px 2px;\n",
       "    margin: 16px 2px 2px 2px;\n",
       "    border-style: solid;\n",
       "    font-size: small;\n",
       "}\n",
       ".contnr.trm {\n",
       "    background-attachment: local;\n",
       "}\n",
       ".contnr.cnul {\n",
       "    padding:  0;\n",
       "    margin: 0;\n",
       "    border-style: solid;\n",
       "    font-size: xx-small;\n",
       "}\n",
       ".contnr.cnul,.lbl.cnul {\n",
       "    border-color: var(--border-color-nul);\n",
       "    border-width: var(--border-width-nul);\n",
       "    border-radius: var(--border-width-nul);\n",
       "}\n",
       ".contnr.c0,.lbl.c0 {\n",
       "    border-color: var(--border-color0);\n",
       "    border-width: var(--border-width0);\n",
       "    border-radius: var(--border-width0);\n",
       "}\n",
       ".contnr.c1,.lbl.c1 {\n",
       "    border-color: var(--border-color1);\n",
       "    border-width: var(--border-width1);\n",
       "    border-radius: var(--border-width1);\n",
       "}\n",
       ".contnr.c2,.lbl.c2 {\n",
       "    border-color: var(--border-color2);\n",
       "    border-width: var(--border-width2);\n",
       "    border-radius: var(--border-width2);\n",
       "}\n",
       ".contnr.c3,.lbl.c3 {\n",
       "    border-color: var(--border-color3);\n",
       "    border-width: var(--border-width3);\n",
       "    border-radius: var(--border-width3);\n",
       "}\n",
       ".contnr.c4,.lbl.c4 {\n",
       "    border-color: var(--border-color4);\n",
       "    border-width: var(--border-width4);\n",
       "    border-radius: var(--border-width4);\n",
       "}\n",
       "span.plain {\n",
       "    display: inline-block;\n",
       "    white-space: pre-wrap;\n",
       "}\n",
       ".plain {\n",
       "    background-color: #ffffff;\n",
       "}\n",
       ".plain.l,.contnr.l,.contnr.l>.lbl {\n",
       "    border-left-style: dotted\n",
       "}\n",
       ".plain.r,.contnr.r,.contnr.r>.lbl {\n",
       "    border-right-style: dotted\n",
       "}\n",
       ".plain.lno,.contnr.lno,.contnr.lno>.lbl {\n",
       "    border-left-style: none\n",
       "}\n",
       ".plain.rno,.contnr.rno,.contnr.rno>.lbl {\n",
       "    border-right-style: none\n",
       "}\n",
       ".plain.l {\n",
       "    padding-left: 4px;\n",
       "    margin-left: 2px;\n",
       "    border-width: var(--border-width-plain);\n",
       "}\n",
       ".plain.r {\n",
       "    padding-right: 4px;\n",
       "    margin-right: 2px;\n",
       "    border-width: var(--border-width-plain);\n",
       "}\n",
       ".lbl {\n",
       "    font-family: monospace;\n",
       "    margin-top: -24px;\n",
       "    margin-left: 20px;\n",
       "    background: #ffffff none repeat scroll 0 0;\n",
       "    padding: 0 6px;\n",
       "    border-style: solid;\n",
       "    display: block;\n",
       "    color: var(--label)\n",
       "}\n",
       ".lbl.trm {\n",
       "    background-attachment: local;\n",
       "    margin-top: 2px;\n",
       "    margin-left: 2px;\n",
       "    padding: 2px 2px;\n",
       "    border-style: none;\n",
       "}\n",
       ".lbl.cnul {\n",
       "    font-size: xx-small;\n",
       "}\n",
       ".lbl.c0 {\n",
       "    font-size: small;\n",
       "}\n",
       ".lbl.c1 {\n",
       "    font-size: small;\n",
       "}\n",
       ".lbl.c2 {\n",
       "    font-size: medium;\n",
       "}\n",
       ".lbl.c3 {\n",
       "    font-size: medium;\n",
       "}\n",
       ".lbl.c4 {\n",
       "    font-size: large;\n",
       "}\n",
       ".occs, a:link.occs {\n",
       "    font-size: small;\n",
       "}\n",
       "\n",
       "/* PROVENANCE */\n",
       "\n",
       "div.prov {\n",
       "\tmargin: 40px;\n",
       "\tpadding: 20px;\n",
       "\tborder: 2px solid var(--fog-rim);\n",
       "}\n",
       "div.pline {\n",
       "\tdisplay: flex;\n",
       "\tflex-flow: row nowrap;\n",
       "\tjustify-content: stretch;\n",
       "\talign-items: baseline;\n",
       "}\n",
       "div.p2line {\n",
       "\tmargin-left: 2em;\n",
       "\tdisplay: flex;\n",
       "\tflex-flow: row nowrap;\n",
       "\tjustify-content: stretch;\n",
       "\talign-items: baseline;\n",
       "}\n",
       "div.psline {\n",
       "\tdisplay: flex;\n",
       "\tflex-flow: row nowrap;\n",
       "\tjustify-content: stretch;\n",
       "\talign-items: baseline;\n",
       "\tbackground-color: var(--gold-mist-back);\n",
       "}\n",
       "div.pname {\n",
       "\tflex: 0 0 5rem;\n",
       "\tfont-weight: bold;\n",
       "}\n",
       "div.pval {\n",
       "    flex: 1 1 auto;\n",
       "}\n",
       "\n",
       "/* KEYBOARD */\n",
       ".ccoff {\n",
       "  background-color: inherit;\n",
       "}\n",
       ".ccon {\n",
       "  background-color: yellow ! important;\n",
       "}\n",
       "/* TF header */\n",
       "\n",
       "summary {\n",
       "  /* needed to override the normalize.less\n",
       "   * in the classical jupyter notebook\n",
       "   */\n",
       "  display: list-item ! important;\n",
       "}\n",
       "\n",
       ".fcorpus {\n",
       "  display: flex;\n",
       "  flex-flow: column nowrap;\n",
       "  justify-content: flex-start;\n",
       "  align-items: flex-start;\n",
       "  align-content: flex-start;\n",
       "}\n",
       ".frow {\n",
       "  display: flex;\n",
       "  flex-flow: row nowrap;\n",
       "  justify-content: flex-start;\n",
       "  align-items: flex-start;\n",
       "  align-content: flex-start;\n",
       "}\n",
       ".fmeta {\n",
       "  display: flex;\n",
       "  flex-flow: column nowrap;\n",
       "  justify-content: flex-start;\n",
       "  align-items: flex-start;\n",
       "  align-content: flex-start;\n",
       "}\n",
       ".fmetarow {\n",
       "  display: flex;\n",
       "  flex-flow: row nowrap;\n",
       "  justify-content: flex-start;\n",
       "  align-items: flex-start;\n",
       "  align-content: flex-start;\n",
       "}\n",
       ".fmetakey {\n",
       "  min-width: 10rem;\n",
       "  font-family: monospace;\n",
       "}\n",
       ".fnamecat {\n",
       "  min-width: 10rem;\n",
       "}\n",
       ".fnamecat.edge {\n",
       "  font-weight: bold;\n",
       "  font-style: italic;\n",
       "}\n",
       ".fmono {\n",
       "    font-family: monospace;\n",
       "}\n",
       "\n",
       ":root {\n",
       "\t--node:               hsla(120, 100%,  20%, 1.0  );\n",
       "\t--label:              hsla(  0, 100%,  20%, 1.0  );\n",
       "\t--tfsechead:          hsla(  0, 100%,  25%, 1.0  );\n",
       "\t--structure:          hsla(120, 100%,  25%, 1.0  );\n",
       "\t--features:           hsla(  0,   0%,  30%, 1.0  );\n",
       "  --text-color:         hsla( 60,  80%,  10%, 1.0  );\n",
       "  --lex-color:          hsla(220,  90%,  60%, 1.0  );\n",
       "  --meta-color:         hsla(  0,   0%,  90%, 0.7  );\n",
       "  --meta-width:         3px;\n",
       "  --border-color-nul:   hsla(  0,   0%,  90%, 0.5  );\n",
       "  --border-color0:      hsla(  0,   0%,  90%, 0.9  );\n",
       "  --border-color1:      hsla(  0,   0%,  80%, 0.9  );\n",
       "  --border-color2:      hsla(  0,   0%,  70%, 0.9  );\n",
       "  --border-color3:      hsla(  0,   0%,  80%, 0.8  );\n",
       "  --border-color4:      hsla(  0,   0%,  60%, 0.9  );\n",
       "  --border-width-nul:   2px;\n",
       "  --border-width0:      2px;\n",
       "  --border-width1:      3px;\n",
       "  --border-width2:      4px;\n",
       "  --border-width3:      6px;\n",
       "  --border-width4:      5px;\n",
       "  --border-width-plain: 2px;\n",
       "}\n",
       ".hl {\n",
       "  background-color: var(--hl-strong);\n",
       "}\n",
       "span.hl {\n",
       "\tbackground-color: var(--hl-strong);\n",
       "\tborder-width: 0;\n",
       "\tborder-radius: 2px;\n",
       "\tborder-style: solid;\n",
       "}\n",
       "div.contnr.hl,div.lbl.hl {\n",
       "  background-color: var(--hl-strong);\n",
       "}\n",
       "div.contnr.hl {\n",
       "  border-color: var(--hl-rim) ! important;\n",
       "\tborder-width: 4px ! important;\n",
       "}\n",
       "\n",
       "span.hlbx {\n",
       "\tborder-color: var(--hl-rim);\n",
       "\tborder-width: 4px ! important;\n",
       "\tborder-style: solid;\n",
       "\tborder-radius: 6px;\n",
       "  padding: 4px;\n",
       "  margin: 4px;\n",
       "}\n",
       "\n",
       "span.plain {\n",
       "  display: inline-block;\n",
       "  white-space: pre-wrap;\n",
       "}\n",
       "\n",
       ":root {\n",
       "\t--hl-strong:        hsla( 60, 100%,  70%, 0.9  );\n",
       "\t--hl-rim:           hsla( 55,  80%,  50%, 1.0  );\n",
       "}\n",
       "</style>"
      ],
      "text/plain": [
       "<IPython.core.display.HTML object>"
      ]
     },
     "metadata": {},
     "output_type": "display_data"
    },
    {
     "data": {
      "text/html": [
       "\n",
       "<script>\n",
       "const copyChar = (el, c) => {\n",
       "    for (const el of document.getElementsByClassName('ccon')) {\n",
       "        el.className = 'ccoff'\n",
       "    }\n",
       "    el.className = 'ccon'\n",
       "    navigator.clipboard.writeText(String.fromCharCode(c))\n",
       "}\n",
       "</script>\n"
      ],
      "text/plain": [
       "<IPython.core.display.HTML object>"
      ]
     },
     "metadata": {},
     "output_type": "display_data"
    },
    {
     "data": {
      "text/html": [
       "<div><b>Text-Fabric API:</b> names <a target=\"_blank\" href=\"https://annotation.github.io/text-fabric/tf/cheatsheet.html\" title=\"doc\">N F E L T S C TF</a> directly usable</div><hr>"
      ],
      "text/plain": [
       "<IPython.core.display.HTML object>"
      ]
     },
     "metadata": {},
     "output_type": "display_data"
    }
   ],
   "source": [
    "A = use(\"etcbc/peshitta:hot\", hoist=globals())"
   ]
  },
  {
   "cell_type": "markdown",
   "metadata": {},
   "source": [
    "The result of this all is that we have a bunch of special variables at our disposal\n",
    "that give us access to the text and data of the Hebrew Bible."
   ]
  },
  {
   "cell_type": "markdown",
   "metadata": {},
   "source": [
    "## API\n",
    "\n",
    "At this point it is helpful to throw a quick glance at the text-fabric API documentation\n",
    "(see the links under **API Members** above).\n",
    "\n",
    "The most essential thing for now is that we can use `F` to access the data in the features\n",
    "we've loaded.\n",
    "But there is more, such as `N`, which helps us to walk over the text, as we see in a minute."
   ]
  },
  {
   "cell_type": "markdown",
   "metadata": {},
   "source": [
    "# Counting\n",
    "\n",
    "In order to get acquainted with the data, we start with the simple task of counting.\n",
    "\n",
    "## Count all nodes\n",
    "We use the\n",
    "[`N.walk()` generator](https://annotation.github.io/text-fabric/tf/core/nodes.html#tf.core.nodes.Nodes.walk)\n",
    "to walk through the nodes.\n",
    "\n",
    "We compared corpus to a gigantic spreadsheet, where the rows correspond to the words.\n",
    "In Text-Fabric, we call the rows `slots`, because they are the textual positions that can be filled with words.\n",
    "\n",
    "We also mentioned that there are also more textual objects.\n",
    "They are the verses, chapters and books.\n",
    "They also correspond to rows in the big spreadsheet.\n",
    "\n",
    "In Text-Fabric we call all these rows *nodes*, and the `N()` generator\n",
    "carries us through those nodes in the textual order.\n",
    "\n",
    "Just one extra thing: the `info` statements generate timed messages.\n",
    "If you use them instead of `print` you'll get a sense of the amount of time that\n",
    "the various processing steps typically need."
   ]
  },
  {
   "cell_type": "code",
   "execution_count": 6,
   "metadata": {
    "ExecuteTime": {
     "end_time": "2018-03-08T10:13:01.501437Z",
     "start_time": "2018-03-08T10:13:01.452315Z"
    }
   },
   "outputs": [
    {
     "name": "stdout",
     "output_type": "stream",
     "text": [
      "  0.00s Counting nodes ...\n",
      "  0.08s 459510 nodes\n"
     ]
    }
   ],
   "source": [
    "A.indent(reset=True)\n",
    "A.info(\"Counting nodes ...\")\n",
    "\n",
    "i = 0\n",
    "for n in N.walk():\n",
    "    i += 1\n",
    "\n",
    "A.info(\"{} nodes\".format(i))"
   ]
  },
  {
   "cell_type": "markdown",
   "metadata": {},
   "source": [
    "## What are those nodes?\n",
    "Every node has a type, like word, or phrase, sentence.\n",
    "We know that we have approximately 100,000 words and a few other nodes.\n",
    "But what exactly are they?\n",
    "\n",
    "Text-Fabric has two special features, `otype` and `oslots`, that must occur in every Text-Fabric data set.\n",
    "`otype` tells you for each node its type, and you can ask for the number of `slot`s in the text.\n",
    "\n",
    "Here we go!"
   ]
  },
  {
   "cell_type": "code",
   "execution_count": 7,
   "metadata": {
    "ExecuteTime": {
     "end_time": "2018-03-08T10:13:05.040545Z",
     "start_time": "2018-03-08T10:13:05.019791Z"
    }
   },
   "outputs": [
    {
     "data": {
      "text/plain": [
       "'word'"
      ]
     },
     "execution_count": 7,
     "metadata": {},
     "output_type": "execute_result"
    }
   ],
   "source": [
    "F.otype.slotType"
   ]
  },
  {
   "cell_type": "code",
   "execution_count": 8,
   "metadata": {
    "ExecuteTime": {
     "end_time": "2018-03-08T10:13:05.855607Z",
     "start_time": "2018-03-08T10:13:05.849069Z"
    }
   },
   "outputs": [
    {
     "data": {
      "text/plain": [
       "426835"
      ]
     },
     "execution_count": 8,
     "metadata": {},
     "output_type": "execute_result"
    }
   ],
   "source": [
    "F.otype.maxSlot"
   ]
  },
  {
   "cell_type": "code",
   "execution_count": 9,
   "metadata": {
    "ExecuteTime": {
     "end_time": "2018-03-08T10:13:06.387787Z",
     "start_time": "2018-03-08T10:13:06.381228Z"
    }
   },
   "outputs": [
    {
     "data": {
      "text/plain": [
       "459510"
      ]
     },
     "execution_count": 9,
     "metadata": {},
     "output_type": "execute_result"
    }
   ],
   "source": [
    "F.otype.maxNode"
   ]
  },
  {
   "cell_type": "code",
   "execution_count": 10,
   "metadata": {
    "ExecuteTime": {
     "end_time": "2018-03-08T10:13:07.770989Z",
     "start_time": "2018-03-08T10:13:07.764917Z"
    }
   },
   "outputs": [
    {
     "data": {
      "text/plain": [
       "('book', 'chapter', 'verse', 'word')"
      ]
     },
     "execution_count": 10,
     "metadata": {},
     "output_type": "execute_result"
    }
   ],
   "source": [
    "F.otype.all"
   ]
  },
  {
   "cell_type": "code",
   "execution_count": 11,
   "metadata": {
    "ExecuteTime": {
     "end_time": "2018-03-08T10:13:11.588722Z",
     "start_time": "2018-03-08T10:13:11.581305Z"
    }
   },
   "outputs": [
    {
     "data": {
      "text/plain": [
       "(('book', 6566.692307692308, 426836, 426900),\n",
       " ('chapter', 336.3553979511426, 426901, 428169),\n",
       " ('verse', 13.619061293513289, 428170, 459510),\n",
       " ('word', 1, 1, 426835))"
      ]
     },
     "execution_count": 11,
     "metadata": {},
     "output_type": "execute_result"
    }
   ],
   "source": [
    "C.levels.data"
   ]
  },
  {
   "cell_type": "markdown",
   "metadata": {},
   "source": [
    "This is interesting: above you see all the textual objects, with the average size of their objects,\n",
    "the node where they start, and the node where they end."
   ]
  },
  {
   "cell_type": "markdown",
   "metadata": {},
   "source": [
    "## Count individual object types\n",
    "This is an intuitive way to count the number of nodes in each type.\n",
    "Note in passing, how we use the `indent` in conjunction with `info` to produce neat timed\n",
    "and indented progress messages."
   ]
  },
  {
   "cell_type": "code",
   "execution_count": 12,
   "metadata": {
    "ExecuteTime": {
     "end_time": "2018-03-08T10:13:21.547051Z",
     "start_time": "2018-03-08T10:13:21.498807Z"
    }
   },
   "outputs": [
    {
     "name": "stdout",
     "output_type": "stream",
     "text": [
      "  0.00s counting objects ...\n",
      "   |     0.00s      65 books\n",
      "   |     0.00s    1269 chapters\n",
      "   |     0.00s   31341 verses\n",
      "   |     0.06s  426835 words\n",
      "  0.07s Done\n"
     ]
    }
   ],
   "source": [
    "A.indent(reset=True)\n",
    "A.info(\"counting objects ...\")\n",
    "\n",
    "for otype in F.otype.all:\n",
    "    i = 0\n",
    "    A.indent(level=1, reset=True)\n",
    "\n",
    "    for n in F.otype.s(otype):\n",
    "        i += 1\n",
    "\n",
    "    A.info(\"{:>7} {}s\".format(i, otype))\n",
    "\n",
    "A.indent(level=0)\n",
    "A.info(\"Done\")"
   ]
  },
  {
   "cell_type": "markdown",
   "metadata": {},
   "source": [
    "# Viewing textual objects\n",
    "\n",
    "We use the A API (the extra power) to peek into the corpus."
   ]
  },
  {
   "cell_type": "markdown",
   "metadata": {},
   "source": [
    "Let's inspect some words."
   ]
  },
  {
   "cell_type": "code",
   "execution_count": 13,
   "metadata": {
    "ExecuteTime": {
     "end_time": "2018-05-18T09:18:02.282178Z",
     "start_time": "2018-05-18T09:18:02.274117Z"
    }
   },
   "outputs": [
    {
     "data": {
      "text/html": [
       "<div class=\"tfsechead rtl\"><a target=\"_blank\" href=\"https://github.com/etcbc/peshitta/blob/master/source/0.2/Genesis\" title=\"Show this document in the Peshitta repository\" sec=\"Genesis 3:19\">Genesis 3:19</a></div><div class=\"rtl children\"><div class=\"contnr c0 trm rtl  \" ><div class=\"lbl c0 trm \" ><span class=\"nd\">1000</span> <span class=\"txtu syc\">ܐܢܬ </span></div></div></div>"
      ],
      "text/plain": [
       "<IPython.core.display.HTML object>"
      ]
     },
     "metadata": {},
     "output_type": "display_data"
    },
    {
     "data": {
      "text/html": [
       "<div class=\"tfsechead rtl\"><a target=\"_blank\" href=\"https://github.com/etcbc/peshitta/blob/master/source/0.2/Genesis\" title=\"Show this document in the Peshitta repository\" sec=\"Genesis 28:2\">Genesis 28:2</a></div><div class=\"rtl children\"><div class=\"contnr c0 trm rtl  \" ><div class=\"lbl c0 trm \" ><span class=\"nd\">10000</span> <span class=\"txtu syc\">ܐܒܘܗ̇ </span></div></div></div>"
      ],
      "text/plain": [
       "<IPython.core.display.HTML object>"
      ]
     },
     "metadata": {},
     "output_type": "display_data"
    },
    {
     "data": {
      "text/html": [
       "<div class=\"tfsechead rtl\"><a target=\"_blank\" href=\"https://github.com/etcbc/peshitta/blob/master/source/0.2/Judges\" title=\"Show this document in the Peshitta repository\" sec=\"Judges 5:7\">Judges 5:7</a></div><div class=\"rtl children\"><div class=\"contnr c0 trm rtl  \" ><div class=\"lbl c0 trm \" ><span class=\"nd\">100000</span> <span class=\"txtu syc\">ܐܡܐ </span></div></div></div>"
      ],
      "text/plain": [
       "<IPython.core.display.HTML object>"
      ]
     },
     "metadata": {},
     "output_type": "display_data"
    }
   ],
   "source": [
    "wordShow = (1000, 10000, 100000)\n",
    "for word in wordShow:\n",
    "    A.pretty(word, withNodes=True)"
   ]
  },
  {
   "cell_type": "markdown",
   "metadata": {},
   "source": [
    "# Feature statistics\n",
    "\n",
    "`F`\n",
    "gives access to all features.\n",
    "Every feature has a method\n",
    "`freqList()`\n",
    "to generate a frequency list of its values, higher frequencies first.\n",
    "Here are the words in etcbc transliteration, only the top 10:"
   ]
  },
  {
   "cell_type": "code",
   "execution_count": 14,
   "metadata": {
    "ExecuteTime": {
     "end_time": "2018-03-08T10:13:28.926742Z",
     "start_time": "2018-03-08T10:13:28.846500Z"
    }
   },
   "outputs": [
    {
     "data": {
      "text/plain": [
       "(('MN', 8920),\n",
       " ('<L', 5323),\n",
       " ('MRJ>', 4587),\n",
       " ('L>', 4459),\n",
       " ('MVL', 3971),\n",
       " ('WL>', 3218),\n",
       " ('>JK', 3206),\n",
       " ('LH', 3127),\n",
       " ('>NWN', 2623),\n",
       " ('HW>', 2488))"
      ]
     },
     "execution_count": 14,
     "metadata": {},
     "output_type": "execute_result"
    }
   ],
   "source": [
    "F.word_etcbc.freqList()[0:10]"
   ]
  },
  {
   "cell_type": "markdown",
   "metadata": {},
   "source": [
    "# Layer API\n",
    "We travel upwards and downwards, forwards and backwards through the nodes.\n",
    "The Layer-API (`L`) provides functions: `u()` for going up, and `d()` for going down,\n",
    "`n()` for going to next nodes and `p()` for going to previous nodes.\n",
    "\n",
    "These directions are indirect notions: nodes are just numbers, but by means of the\n",
    "`oslots` feature they are linked to slots. One node *contains* an other node, if the one is linked to a set of slots that contains the set of slots that the other is linked to.\n",
    "And one if next or previous to an other, if its slots follow of precede the slots of the other one.\n",
    "\n",
    "`L.u(node)` **Up** is going to nodes that embed `node`.\n",
    "\n",
    "`L.d(node)` **Down** is the opposite direction, to those that are contained in `node`.\n",
    "\n",
    "`L.n(node)` **Next** are the next *adjacent* nodes, i.e. nodes whose first slot comes immediately after the last slot of `node`.\n",
    "\n",
    "`L.p(node)` **Previous** are the previous *adjacent* nodes, i.e. nodes whose last slot comes immediately before the first slot of `node`.\n",
    "\n",
    "All these functions yield nodes of all possible otypes.\n",
    "By passing an optional parameter, you can restrict the results to nodes of that type.\n",
    "\n",
    "The result are ordered according to the order of things in the text.\n",
    "\n",
    "The functions return always a tuple, even if there is just one node in the result.\n",
    "\n",
    "## Going up\n",
    "We go from the first word to the book it contains.\n",
    "Note the `[0]` at the end. You expect one book, yet `L` returns a tuple.\n",
    "To get the only element of that tuple, you need to do that `[0]`.\n",
    "\n",
    "If you are like me, you keep forgetting it, and that will lead to weird error messages later on."
   ]
  },
  {
   "cell_type": "code",
   "execution_count": 15,
   "metadata": {
    "ExecuteTime": {
     "end_time": "2018-03-08T10:14:15.350367Z",
     "start_time": "2018-03-08T10:14:15.343039Z"
    }
   },
   "outputs": [
    {
     "name": "stdout",
     "output_type": "stream",
     "text": [
      "426836\n"
     ]
    }
   ],
   "source": [
    "firstBook = L.u(1, otype=\"book\")[0]\n",
    "print(firstBook)"
   ]
  },
  {
   "cell_type": "markdown",
   "metadata": {},
   "source": [
    "And let's see all the containing objects of word 3:"
   ]
  },
  {
   "cell_type": "code",
   "execution_count": 16,
   "metadata": {
    "ExecuteTime": {
     "end_time": "2018-03-08T10:14:17.364197Z",
     "start_time": "2018-03-08T10:14:17.352186Z"
    }
   },
   "outputs": [
    {
     "name": "stdout",
     "output_type": "stream",
     "text": [
      "word 3 is contained in book 426836\n",
      "word 3 is contained in chapter 426901\n",
      "word 3 is contained in verse 428170\n"
     ]
    }
   ],
   "source": [
    "w = 3\n",
    "for otype in F.otype.all:\n",
    "    if otype == F.otype.slotType:\n",
    "        continue\n",
    "    up = L.u(w, otype=otype)\n",
    "    upNode = \"x\" if len(up) == 0 else up[0]\n",
    "    print(\"word {} is contained in {} {}\".format(w, otype, upNode))"
   ]
  },
  {
   "cell_type": "markdown",
   "metadata": {},
   "source": [
    "## Going next\n",
    "Let's go to the next nodes of the first book."
   ]
  },
  {
   "cell_type": "code",
   "execution_count": 17,
   "metadata": {
    "ExecuteTime": {
     "end_time": "2018-03-08T10:14:20.775341Z",
     "start_time": "2018-03-08T10:14:20.762875Z"
    }
   },
   "outputs": [
    {
     "name": "stdout",
     "output_type": "stream",
     "text": [
      "  20081: word          first slot=20081 , last slot=20081 \n",
      " 429703: verse         first slot=20081 , last slot=20091 \n",
      " 426951: chapter       first slot=20081 , last slot=20335 \n",
      " 426837: book          first slot=20081 , last slot=36417 \n"
     ]
    }
   ],
   "source": [
    "afterFirstBook = L.n(firstBook)\n",
    "for n in afterFirstBook:\n",
    "    print(\n",
    "        \"{:>7}: {:<13} first slot={:<6}, last slot={:<6}\".format(\n",
    "            n,\n",
    "            F.otype.v(n),\n",
    "            E.oslots.s(n)[0],\n",
    "            E.oslots.s(n)[-1],\n",
    "        )\n",
    "    )\n",
    "secondBook = L.n(firstBook, otype=\"book\")[0]"
   ]
  },
  {
   "cell_type": "markdown",
   "metadata": {},
   "source": [
    "## Going previous\n",
    "\n",
    "And let's see what is right before the second book."
   ]
  },
  {
   "cell_type": "code",
   "execution_count": 18,
   "metadata": {
    "ExecuteTime": {
     "end_time": "2018-03-08T10:14:23.300424Z",
     "start_time": "2018-03-08T10:14:23.292226Z"
    }
   },
   "outputs": [
    {
     "name": "stdout",
     "output_type": "stream",
     "text": [
      " 426836: book          first slot=1     , last slot=20080 \n",
      " 426950: chapter       first slot=19735 , last slot=20080 \n",
      " 429702: verse         first slot=20071 , last slot=20080 \n",
      "  20080: word          first slot=20080 , last slot=20080 \n"
     ]
    }
   ],
   "source": [
    "for n in L.p(secondBook):\n",
    "    print(\n",
    "        \"{:>7}: {:<13} first slot={:<6}, last slot={:<6}\".format(\n",
    "            n,\n",
    "            F.otype.v(n),\n",
    "            E.oslots.s(n)[0],\n",
    "            E.oslots.s(n)[-1],\n",
    "        )\n",
    "    )"
   ]
  },
  {
   "cell_type": "markdown",
   "metadata": {},
   "source": [
    "## Going down"
   ]
  },
  {
   "cell_type": "markdown",
   "metadata": {},
   "source": [
    "We go to the chapters of the second book, and just count them."
   ]
  },
  {
   "cell_type": "code",
   "execution_count": 19,
   "metadata": {
    "ExecuteTime": {
     "end_time": "2018-03-08T10:14:25.969860Z",
     "start_time": "2018-03-08T10:14:25.957084Z"
    }
   },
   "outputs": [
    {
     "name": "stdout",
     "output_type": "stream",
     "text": [
      "40\n"
     ]
    }
   ],
   "source": [
    "chapters = L.d(secondBook, otype=\"chapter\")\n",
    "print(len(chapters))"
   ]
  },
  {
   "cell_type": "markdown",
   "metadata": {},
   "source": [
    "## The first verse\n",
    "We pick the first verse and the first word, and explore what is above and below them."
   ]
  },
  {
   "cell_type": "code",
   "execution_count": 20,
   "metadata": {
    "ExecuteTime": {
     "end_time": "2018-03-08T10:14:28.468853Z",
     "start_time": "2018-03-08T10:14:28.416537Z"
    }
   },
   "outputs": [
    {
     "name": "stdout",
     "output_type": "stream",
     "text": [
      "Node 1\n",
      "   |   UP\n",
      "   |      |   428170          verse\n",
      "   |      |   426901          chapter\n",
      "   |      |   426836          book\n",
      "   |   DOWN\n",
      "   |      |   \n",
      "Node 428170\n",
      "   |   UP\n",
      "   |      |   426901          chapter\n",
      "   |      |   426836          book\n",
      "   |   DOWN\n",
      "   |      |   1               word\n",
      "   |      |   2               word\n",
      "   |      |   3               word\n",
      "   |      |   4               word\n",
      "   |      |   5               word\n",
      "   |      |   6               word\n",
      "   |      |   7               word\n",
      "Done\n"
     ]
    }
   ],
   "source": [
    "for n in [1, L.u(1, otype=\"verse\")[0]]:\n",
    "    A.indent(level=0)\n",
    "    A.info(\"Node {}\".format(n), tm=False)\n",
    "    A.indent(level=1)\n",
    "    A.info(\"UP\", tm=False)\n",
    "    A.indent(level=2)\n",
    "    A.info(\"\\n\".join([\"{:<15} {}\".format(u, F.otype.v(u)) for u in L.u(n)]), tm=False)\n",
    "    A.indent(level=1)\n",
    "    A.info(\"DOWN\", tm=False)\n",
    "    A.indent(level=2)\n",
    "    A.info(\"\\n\".join([\"{:<15} {}\".format(u, F.otype.v(u)) for u in L.d(n)]), tm=False)\n",
    "A.indent(level=0)\n",
    "A.info(\"Done\", tm=False)"
   ]
  },
  {
   "cell_type": "markdown",
   "metadata": {},
   "source": [
    "# Text API\n",
    "\n",
    "So far, we have mainly seen nodes and their numbers, and the names of node types.\n",
    "You would almost forget that we are dealing with text.\n",
    "So let's try to see some text.\n",
    "\n",
    "In the same way as `F` gives access to feature data,\n",
    "`T` gives access to the text.\n",
    "That is also feature data, but you can tell Text-Fabric which features are specifically\n",
    "carrying the text, and in return Text-Fabric offers you\n",
    "a Text API: `T`.\n",
    "\n",
    "## Formats\n",
    "Syriac text can be represented in a number of ways:\n",
    "\n",
    "* in transliteration, or in Syriac characters,\n",
    "* showing the actual text or only the lexemes,\n",
    "\n",
    "If you wonder where the information about text formats is stored:\n",
    "not in the program text-fabric, but in the data set.\n",
    "It has a feature `otext`, which specifies the formats and which features\n",
    "must be used to produce them. `otext` is the third special feature in a TF data set,\n",
    "next to `otype` and `oslots`.\n",
    "It is an optional feature.\n",
    "If it is absent, there will be no `T` API.\n",
    "\n",
    "Here is a list of all available formats in this data set."
   ]
  },
  {
   "cell_type": "code",
   "execution_count": 21,
   "metadata": {
    "ExecuteTime": {
     "end_time": "2018-03-08T10:14:31.965590Z",
     "start_time": "2018-03-08T10:14:31.955945Z"
    }
   },
   "outputs": [
    {
     "data": {
      "text/plain": [
       "['text-orig-full', 'text-trans-full']"
      ]
     },
     "execution_count": 21,
     "metadata": {},
     "output_type": "execute_result"
    }
   ],
   "source": [
    "sorted(T.formats)"
   ]
  },
  {
   "cell_type": "markdown",
   "metadata": {},
   "source": [
    "## Using the formats\n",
    "\n",
    "We can pretty display in other formats:"
   ]
  },
  {
   "cell_type": "code",
   "execution_count": 22,
   "metadata": {},
   "outputs": [
    {
     "data": {
      "text/html": [
       "<div class=\"tfsechead ltr\"><a target=\"_blank\" href=\"https://github.com/etcbc/peshitta/blob/master/source/0.2/Genesis\" title=\"Show this document in the Peshitta repository\" sec=\"Genesis 3:19\">Genesis 3:19</a></div><div class=\"ltr children\"><div class=\"contnr c0 trm ltr  \" ><div class=\"lbl c0 trm \" ><span class=\"txtt\">>NT </span></div></div></div>"
      ],
      "text/plain": [
       "<IPython.core.display.HTML object>"
      ]
     },
     "metadata": {},
     "output_type": "display_data"
    },
    {
     "data": {
      "text/html": [
       "<div class=\"tfsechead ltr\"><a target=\"_blank\" href=\"https://github.com/etcbc/peshitta/blob/master/source/0.2/Genesis\" title=\"Show this document in the Peshitta repository\" sec=\"Genesis 28:2\">Genesis 28:2</a></div><div class=\"ltr children\"><div class=\"contnr c0 trm ltr  \" ><div class=\"lbl c0 trm \" ><span class=\"txtt\">>BWH^ </span></div></div></div>"
      ],
      "text/plain": [
       "<IPython.core.display.HTML object>"
      ]
     },
     "metadata": {},
     "output_type": "display_data"
    },
    {
     "data": {
      "text/html": [
       "<div class=\"tfsechead ltr\"><a target=\"_blank\" href=\"https://github.com/etcbc/peshitta/blob/master/source/0.2/Judges\" title=\"Show this document in the Peshitta repository\" sec=\"Judges 5:7\">Judges 5:7</a></div><div class=\"ltr children\"><div class=\"contnr c0 trm ltr  \" ><div class=\"lbl c0 trm \" ><span class=\"txtt\">>M> </span></div></div></div>"
      ],
      "text/plain": [
       "<IPython.core.display.HTML object>"
      ]
     },
     "metadata": {},
     "output_type": "display_data"
    }
   ],
   "source": [
    "for word in wordShow:\n",
    "    A.pretty(word, fmt=\"text-trans-full\")"
   ]
  },
  {
   "cell_type": "markdown",
   "metadata": {},
   "source": [
    "Now let's use those formats to print out the first verse of the Hebrew Bible."
   ]
  },
  {
   "cell_type": "code",
   "execution_count": 23,
   "metadata": {
    "ExecuteTime": {
     "end_time": "2018-03-08T10:14:35.240131Z",
     "start_time": "2018-03-08T10:14:35.231752Z"
    }
   },
   "outputs": [
    {
     "name": "stdout",
     "output_type": "stream",
     "text": [
      "text-orig-full:\n",
      "\tܒܪܫܝܬ ܒܪܐ ܐܠܗܐ. ܝܬ ܫܡܝܐ ܘܝܬ ܐܪܥܐ. ܐܪܥܐ ܗܘܬ ܬܘܗ ܘܒܘܗ̇. \n",
      "text-trans-full:\n",
      "\tBRCJT BR> >LH>=. JT CMJ> WJT >R<>=. >R<> HWT TWH WBWH^=. \n"
     ]
    }
   ],
   "source": [
    "for fmt in sorted(T.formats):\n",
    "    print(\"{}:\\n\\t{}\".format(fmt, T.text(range(1, 12), fmt=fmt)))"
   ]
  },
  {
   "cell_type": "markdown",
   "metadata": {},
   "source": [
    "If we do not specify a format, the **default** format is used (`text-orig-full`)."
   ]
  },
  {
   "cell_type": "code",
   "execution_count": 24,
   "metadata": {
    "ExecuteTime": {
     "end_time": "2018-03-08T10:14:37.681491Z",
     "start_time": "2018-03-08T10:14:37.674538Z"
    }
   },
   "outputs": [
    {
     "name": "stdout",
     "output_type": "stream",
     "text": [
      "ܒܪܫܝܬ ܒܪܐ ܐܠܗܐ. ܝܬ ܫܡܝܐ ܘܝܬ ܐܪܥܐ. ܐܪܥܐ ܗܘܬ ܬܘܗ ܘܒܘܗ̇. \n"
     ]
    }
   ],
   "source": [
    "print(T.text(range(1, 12)))"
   ]
  },
  {
   "cell_type": "markdown",
   "metadata": {},
   "source": [
    "## Whole text in all formats in less than two seconds\n",
    "Part of the pleasure of working with computers is that they can crunch massive amounts of data.\n",
    "The text of the Hebrew Bible is a piece of cake.\n",
    "\n",
    "It takes just ten seconds to have that cake and eat it.\n",
    "In nearly a dozen formats."
   ]
  },
  {
   "cell_type": "code",
   "execution_count": 25,
   "metadata": {
    "ExecuteTime": {
     "end_time": "2018-03-08T10:14:40.870244Z",
     "start_time": "2018-03-08T10:14:39.998071Z"
    }
   },
   "outputs": [
    {
     "name": "stdout",
     "output_type": "stream",
     "text": [
      "  0.00s writing plain text of whole Peshitta in all formats\n",
      "  2.01s done 2 formats\n",
      "text-orig-full\n",
      "ܒܪܫܝܬ ܒܪܐ ܐܠܗܐ. ܝܬ ܫܡܝܐ ܘܝܬ ܐܪܥܐ. \n",
      "ܐܪܥܐ ܗܘܬ ܬܘܗ ܘܒܘܗ̇. ܘܚܫܘܟܐ ܥܠ ܐ̈ܦܝ ܬܗܘܡܐ. ܘܪܘܚܗ ܕܐܠܗܐ ܡܪܚܦܐ ܥܠ ܐ̈ܦܝ ܡ̈ܝܐ. \n",
      "ܘܐܡ̣ܪ ܐܠܗܐ ܢܗܘܐ ܢܘܗܪܐ. ܘܗܘ̣ܐ ܢܘܗܪܐ. \n",
      "ܘܚ̣ܙܐ ܐܠܗܐ ܠܢܘܗܪܐ ܕܫܦܝܪ. ܘܦ̣ܪܫ ܐܠܗܐ ܒܝܬ ܢܘܗܪܐ ܠܚܫܘܟܐ. \n",
      "ܘܩ̣ܪܐ ܐܠܗܐ ܠܢܘܗܪܐ ܐܝܡܡܐ. ܘܠܚܫܘܟܐ ܩ̣ܪܐ ܠܠܝܐ. ܘܗܘ̣ܐ ܪܡܫܐ ܘܗܘܐ ܨܦܪܐ ܝܘܡܐ ܚܕ. \n",
      "\n",
      "text-trans-full\n",
      "BRCJT BR> >LH>=. JT CMJ> WJT >R<>=. \n",
      ">R<> HWT TWH WBWH^=. WXCWK> <L >\"PJ THWM>=. WRWXH D>LH> MRXP> <L >\"PJ M\"J>=. \n",
      "W>M#R >LH> NHW> NWHR>=. WHW#> NWHR>=. \n",
      "WX#Z> >LH> LNWHR> DCPJR=. WP#RC >LH> BJT NWHR> LXCWK>=. \n",
      "WQ#R> >LH> LNWHR> >JMM>=. WLXCWK> Q#R> LLJ>=. WHW#> RMC> WHW> YPR> JWM> XD=. \n",
      "\n"
     ]
    }
   ],
   "source": [
    "A.indent(reset=True)\n",
    "A.info(\"writing plain text of whole Peshitta in all formats\")\n",
    "\n",
    "text = collections.defaultdict(list)\n",
    "\n",
    "for v in F.otype.s(\"verse\"):\n",
    "    words = L.d(v, \"word\")\n",
    "    for fmt in sorted(T.formats):\n",
    "        text[fmt].append(T.text(words, fmt=fmt))\n",
    "\n",
    "A.info(\"done {} formats\".format(len(text)))\n",
    "\n",
    "for fmt in sorted(text):\n",
    "    print(\"{}\\n{}\\n\".format(fmt, \"\\n\".join(text[fmt][0:5])))"
   ]
  },
  {
   "cell_type": "markdown",
   "metadata": {},
   "source": [
    "### The full plain text\n",
    "We write a few formats to file, in your `Downloads` folder.\n",
    "\n",
    "There is one subtlety: some books come in two versions, A and B, which are based on different sets of manuscripts (witnesses).\n",
    "We will export two Peshitta's: one where for each book the A version is chosen, and one where for each book the B version is chosen.\n",
    "\n",
    "We also write out book names, chapter and verse numbers."
   ]
  },
  {
   "cell_type": "code",
   "execution_count": 26,
   "metadata": {
    "ExecuteTime": {
     "end_time": "2018-03-08T10:14:43.743463Z",
     "start_time": "2018-03-08T10:14:43.726787Z"
    }
   },
   "outputs": [],
   "source": [
    "orig = \"text-orig-full\"\n",
    "trans = \"text-trans-full\"\n",
    "for fmt in (orig, trans):\n",
    "    for witness in (\"A\", \"B\"):\n",
    "        with open(\n",
    "            os.path.expanduser(f\"~/Downloads/Peshitta-{witness}-{fmt}.txt\"), \"w\"\n",
    "        ) as f:\n",
    "            for b in F.otype.s(\"book\"):\n",
    "                thisWitness = F.witness.v(b)\n",
    "                if thisWitness and thisWitness != witness:\n",
    "                    continue\n",
    "                book = T.sectionFromNode(b)[0]\n",
    "                acro = F.book.v(b)\n",
    "                f.write(f\"{book} ({acro})\\n\\n\")\n",
    "                for c in L.d(b, otype=\"chapter\"):\n",
    "                    f.write(f\"{acro} {F.chapter.v(c)}\\n\\n\")\n",
    "                    for v in L.d(c, otype=\"verse\"):\n",
    "                        f.write(f\"{F.verse.v(v)} {T.text(v, fmt=fmt, descend=True)}\\n\")\n",
    "                f.write(\"\\n\")\n",
    "            f.write(\"\\n\")"
   ]
  },
  {
   "cell_type": "code",
   "execution_count": 27,
   "metadata": {
    "ExecuteTime": {
     "end_time": "2018-03-08T10:14:44.766248Z",
     "start_time": "2018-03-08T10:14:44.618476Z"
    }
   },
   "outputs": [
    {
     "name": "stdout",
     "output_type": "stream",
     "text": [
      "Genesis (Gn)\n",
      "\n",
      "Gn 1\n",
      "\n",
      "1 ܒܪܫܝܬ ܒܪܐ ܐܠܗܐ. ܝܬ ܫܡܝܐ ܘܝܬ ܐܪܥܐ. \n",
      "2 ܐܪܥܐ ܗܘܬ ܬܘܗ ܘܒܘܗ̇. ܘܚܫܘܟܐ ܥܠ ܐ̈ܦܝ ܬܗܘܡܐ. ܘܪܘܚܗ ܕܐܠܗܐ ܡܪܚܦܐ ܥܠ ܐ̈ܦܝ ܡ̈ܝܐ. \n",
      "3 ܘܐܡ̣ܪ ܐܠܗܐ ܢܗܘܐ ܢܘܗܪܐ. ܘܗܘ̣ܐ ܢܘܗܪܐ. \n",
      "4 ܘܚ̣ܙܐ ܐܠܗܐ ܠܢܘܗܪܐ ܕܫܦܝܪ. ܘܦ̣ܪܫ ܐܠܗܐ ܒܝܬ ܢܘܗܪܐ ܠܚܫܘܟܐ. \n",
      "5 ܘܩ̣ܪܐ ܐܠܗܐ ܠܢܘܗܪܐ ܐܝܡܡܐ. ܘܠܚܫܘܟܐ ܩ̣ܪܐ ܠܠܝܐ. ܘܗܘ̣ܐ ܪܡܫܐ ܘܗܘܐ ܨܦܪܐ ܝܘܡܐ ܚܕ. \n",
      "6 ܘܐܡ̣ܪ ܐܠܗܐ ܢܗܘܐ ܐܪܩܝܥܐ ܒܡܨܥܬ ܡ̈ܝܐ. ܘܢܗܘܐ ܦܪܫ̇ ܒܝܬ ܡ̈ܝܐ ܠܡ̈ܝܐ. \n",
      "7 ܘܥܒ̣ܕ ܐܠܗܐ ܐܪܩܝܥܐ. ܘܦ̣ܪܫ ܒܝܬ ܡ̈ܝܐ ܕܠܬܚܬ ܡܢ ܐܪܩܝܥܐ. ܘܒܝܬ ܡ̈ܝܐ ܕܠܥܠ ܡܢ ܐܪܩܝܥܐ. ܘܗܘ̣ܐ ܗܟܢܐ. \n",
      "8 ܘܩ̣ܪܐ ܐܠܗܐ ܠܐܪܩܝܥܐ ܫܡܝܐ. ܘܗܘ̣ܐ ܪܡܫܐ ܘܗܘܐ ܨܦܪܐ ܝܘܡܐ ܕܬܪ̈ܝܢ. \n",
      "9 ܘܐܡ̣ܪ ܐܠܗܐ ܢܬܟܢܫܘܢ ܡ̈ܝܐ ܕܠܬܚܬ ܡܢ ܫܡܝܐ ܠܐܬܪܐ ܚܕ ܘܬܬܚܙܐ ܝܒܝܫܬܐ. ܘܗܘ̣ܐ ܗܟܢܐ. \n",
      "10 ܘܩ̣ܪܐ ܐܠܗܐ ܠܝܒܝܫܬܐ ܐܪܥܐ. ܘܠܟܢܫܐ ܕܡ̈ܝܐ ܩ̣ܪܐ ܝܡ̈ܡܐ. ܘܚ̣ܙܐ ܐܠܗܐ ܕܫܦܝܪ. \n",
      "11 ܘܐܡ̣ܪ ܐܠܗܐ ܬܦܩ ܐܪܥܐ ܬܕܐܐ ܥܣܒܐ ܕܡܙܕܪܥ ܙܪܥܐ ܠܓܢܣܗ. ܘܐܝܠܢܐ ܕܦܐܪ̈ܐ ܕܥܒ̇ܕ ܦܐܪ̈ܐ ܠܓܢܣܗ ܕܢܨܒܬܗ ܒܗ ܥܠ ܐܪܥܐ. ܘܗ̣ܘܐ ܗܟܢܐ. \n",
      "12 ܘܐܦ̣ܩܬ ܐܪܥܐ ܬܕܐܐ. ܥܣܒܐ ܕܡܙܕܪܥ ܙܪܥܐ ܠܓܢܣܗ. ܘܐܝܠܢܐ ܕܥܒ̇ܕ ܦܐܪ̈ܐ ܕܢܨܒܬܗ ܒܗ ܠܓܢܣܗ. ܘܚ̣ܙܐ ܐܠܗܐ ܕܫܦܝܪ. \n",
      "13 ܘܗܘ̣ܐ ܪܡܫܐ ܘܗܘ̣ܐ ܨܦܪܐ. ܝܘܡܐ ܕܬܠܬܐ. \n",
      "14 ܘܐܡ̣ܪ ܐܠܗܐ. ܢܗܘܘܢ ܢܗܝܪ̈ܐ ܒܐܪܩܝܥܐ ܕܫܡܝܐ. ܠܡܦܪܫ ܒܝܬ ܐܝܡܡܐ ܠܠܠܝܐ  . ܘܢܗܘܘܢ ܠܐܬ̈ܘܬܐ ܘܠܙܒ̈ܢܐ. ܘܠܝ̈ܘܡܬܐ ܘܠܫ̈ܢܝܐ. \n",
      "15 ܘܢܗܘܘܢ ܡܢܗܪ̈ܝܢ ܒܐܪܩܝܥܐ ܕܫܡܝܐ ܠܡܢܗܪܘ ܥܠ ܐܪܥܐ. ܘܗܘ̣ܐ ܗܟܢܐ. \n",
      "16 ܘܥܒ̣ܕ ܐܠܗܐ ܬܪ̈ܝܢ ܢܗܝܪ̈ܐ ܪ̈ܘܪܒܐ. ܢܗܝܪܐ ܪܒܐ ܠܫܘܠܛܢܐ ܕܐܝܡܡܐ. ܘܢܗܝܪܐ ܙܥܘܪܐ ܠܫܘܠܛܢܐ ܕܠܠܝܐ ܘܟܘܟ̈ܒܐ. \n"
     ]
    }
   ],
   "source": [
    "!head -n 20 ~/Downloads/Peshitta-A-{orig}.txt"
   ]
  },
  {
   "cell_type": "code",
   "execution_count": 28,
   "metadata": {},
   "outputs": [
    {
     "name": "stdout",
     "output_type": "stream",
     "text": [
      "Genesis (Gn)\n",
      "\n",
      "Gn 1\n",
      "\n",
      "1 BRCJT BR> >LH>=. JT CMJ> WJT >R<>=. \n",
      "2 >R<> HWT TWH WBWH^=. WXCWK> <L >\"PJ THWM>=. WRWXH D>LH> MRXP> <L >\"PJ M\"J>=. \n",
      "3 W>M#R >LH> NHW> NWHR>=. WHW#> NWHR>=. \n",
      "4 WX#Z> >LH> LNWHR> DCPJR=. WP#RC >LH> BJT NWHR> LXCWK>=. \n",
      "5 WQ#R> >LH> LNWHR> >JMM>=. WLXCWK> Q#R> LLJ>=. WHW#> RMC> WHW> YPR> JWM> XD=. \n",
      "6 W>M#R >LH> NHW> >RQJ<> BMY<T M\"J>=. WNHW> PRC^ BJT M\"J> LM\"J>=. \n",
      "7 W<B#D >LH> >RQJ<>=. WP#RC BJT M\"J> DLTXT MN >RQJ<>=. WBJT M\"J> DL<L MN >RQJ<>=. WHW#> HKN>=. \n",
      "8 WQ#R> >LH> L>RQJ<> CMJ>=. WHW#> RMC> WHW> YPR> JWM> DTR\"JN=. \n",
      "9 W>M#R >LH> NTKNCWN M\"J> DLTXT MN CMJ> L>TR> XD WTTXZ> JBJCT>=. WHW#> HKN>=. \n",
      "10 WQ#R> >LH> LJBJCT> >R<>=. WLKNC> DM\"J> Q#R> JM\"M>=. WX#Z> >LH> DCPJR=. \n",
      "11 W>M#R >LH> TPQ >R<> TD>> <SB> DMZDR< ZR<> LGNSH=. W>JLN> DP>R\"> D<B^D P>R\"> LGNSH DNYBTH BH <L >R<>=. WH#W> HKN>=. \n",
      "12 W>P#QT >R<> TD>>=. <SB> DMZDR< ZR<> LGNSH=. W>JLN> D<B^D P>R\"> DNYBTH BH LGNSH=. WX#Z> >LH> DCPJR=. \n",
      "13 WHW#> RMC> WHW#> YPR>=. JWM> DTLT>=. \n",
      "14 W>M#R >LH>=. NHWWN NHJR\"> B>RQJ<> DCMJ>=. LMPRC BJT >JMM> LLLJ>  =. WNHWWN L>T\"WT> WLZB\"N>=. WLJ\"WMT> WLC\"NJ>=. \n",
      "15 WNHWWN MNHR\"JN B>RQJ<> DCMJ> LMNHRW <L >R<>=. WHW#> HKN>=. \n",
      "16 W<B#D >LH> TR\"JN NHJR\"> R\"WRB>=. NHJR> RB> LCWLVN> D>JMM>=. WNHJR> Z<WR> LCWLVN> DLLJ> WKWK\"B>=. \n"
     ]
    }
   ],
   "source": [
    "!head -n 20 ~/Downloads/Peshitta-B-{trans}.txt"
   ]
  },
  {
   "cell_type": "code",
   "execution_count": 29,
   "metadata": {},
   "outputs": [
    {
     "name": "stdout",
     "output_type": "stream",
     "text": [
      "43 ܘܕܒ̇ܚܘ ܒܝܘܡܐ ܗ̇ܘ ܕܒ̈ܚܐ ܪ̈ܘܪܒܐ ܘܚܕܝܘ ܡܛܠ ܕܡܪܝܐ ܚ̇ܕܝ ܐܢܘܢ ܚܕܘܬܐ ܪܒܬܐ ܘܐܦ ܢܫ̈ܐ ܘܛܠܝ̈ܐ ܚܕܝܘ ܘܐܫܬܡܥܬ ܚܕܘܬܐ ܕܐܘܪܫܠܡ ܠܪܘܚܩܐ \n",
      "44 ܘܐܫܠܛܘ ܒܝܘܡܐ ܗ̇ܘ ܓܒܪ̈ܐ ܐܝܠܝܢ ܕܝܗܒܝܢ ܗܘܘ ܡܢ ܐܘܨܪ̈ܐ ܠܡܠܟܐ ܒ̈ܬܐ ܠܡܩܦܣܘ ܒܗܘܢ ܪ̈ܫܝܬܐ ܘܡܥܣܪ̈ܐ ܕܪ̈ܫܐ ܕܩܘܪ̈ܝܐ ܐܝܟ ܕܟܬܝܒ ܒܟܬܒܐ ܕܢܡܘܣܐ ܠܟܘܡܪ̈ܐ ܘܠܠܘܝ̈ܐ ܡܛܠ ܕܚܕܘܬܐ ܕܝܗ̈ܘܕܝܐ ܥܠ ܟܘܡܪ̈ܐ ܘܠܘܝ̈ܐ ܐܝܠܝܢ ܕܩܝܡܝܢ \n",
      "45 ܘܢܛܪܝܢ ܡܛܪܬܐ ܒܒܝܬܐ ܕܐܠܗܗܘܢ ܘܢܛܪ̈ܝ ܢܛܘܪ̈ܬܐ ܕܟܝܐܝܬ ܘܡܫܡ̈ܫܢܐ ܘܬ̇ܪ̈ܥܐ ܐܝܟ ܦܘܩܕܢܐ ܕܕܘܝܕ ܘܕܫܠܝܡܘܢ ܒܪܗ \n",
      "46 ܡܛܠ ܕܒܝܘܡ̈ܬܗ ܕܕܘܝܕ ܗ̣ܘܐ ܐܣܦ ܘܩܡ ܒܪܫܐ ܕܡܫܡ̈ܫܢܐ ܘܡܫܒܚ ܗܘܐ ܘܡܘܕܐ ܩܕܡ ܡܪܝܐ ܐܠܗܐ \n",
      "47 ܘܟܘܠܗ ܐܝܣܪܐܝܠ ܒܝܘܡ̈ܘܗܝ ܕܙܘܪܒܒܠ ܘܒܝܘܡ̈ܬܗ ܕܢܚܡܝܐ ܝܗܒܝܢ ܡܘܗܒ̈ܬܐ ܠܡܫܡ̈ܫܢܐ ܘܬ̇ܪ̈ܥܐ ܡܦܩܝܢ ܘܝܗܒܝܢ ܝܘܡ ܒܝܘܡܗ ܘܡܩܕܫܝܢ ܠܠܘܝ̈ܐ ܘܠܘܝ̈ܐ ܡܩܕܫܝܢ ܠܒܢ̈ܝ ܐܗܪܘܢ \n",
      "Neh 13\n",
      "\n",
      "1 ܒܗ ܒܝܘܡܐ ܗ̇ܘ ܐܬܩܪܝ ܟܬܒܐ ܕܢܡܘܣܐ ܕܡܘܫܐ ܒܐܕܢܝ̈ ܥܡܐ ܘܐܫܬܟܚ ܕܟܬܝܒ ܒܗ ܕܠܐ ܢܥܠܘܢ ܥܡܘܢܝ̈ܐ ܘܡܘܐܒܝ̈ܐ ܠܟܢܘܫܬܗ ܕܡܪܝܐ ܥܕܡܐ ܠܥܠܡ \n",
      "2 ܡܛܠ ܕܠܐ ܐܪܥܘ ܠܒܢ̈ܝ ܐܝܣܪܝܠ ܒܠܚܡܐ ܘܒܡܝ̈ܐ ܘܐܓܪܘ ܠܗܘܢ ܠܒܠܥܡ ܠܡܠܛ ܐܢܘܢ ܘܐܗܦܟ ܐܠܗܢ ܠܘ̈ܛܬܗ ܠܒܘܪ̈ܟܬܐ \n",
      "3 ܗܝܕܝܢ ܟܕ ܫܡܥܘ ܡ̈ܠܐ ܕܢܡܘܣܐ ܐܬܦܪܫܘ ܟܠܗܘܢ ܥܪ̈ܘܒܐ ܡܢ ܐܝܣܪܐܝܠ \n",
      "4 ܘܐ̣ܬܐ ܐܠܝܫܒ ܟܘܡܪܐ \n",
      "5 ܘܒ̣ܢܐ ܠܗ ܬܡܢ ܕܪܬܐ ܚܕܐ ܪܒܬܐ ܘܬܡܢ ܡܢ ܠܩܘܕܡܝܢ ܣܝܡܝܢ ܗܘܘ ܩܘܪ̈ܒܢܐ ܘܠܒܘܢܬܐ ܘܡܐܢ̈ܐ ܕܡܥܣܪ̈ܐ ܕܥܒܘܪܐ ܘܕܚܡ̣ܪܐ ܘܕܡܫܚܐ ܘܒܩܘܪ̈ܝܐ ܕܠܘܝ̈ܐ ܘܕܡܫܡ̈ܫܢܐ ܘܕܬ̇ܪ̈ܥܐ ܘܪ̈ܝܫܝܬܐ ܕܟܗ̈ܢܐ \n",
      "6 ܘܒܟܠܗܝܢ ܗܠܝܢ ܠܐ ܗܘܝ̇ܬ ܒܐܘܪܫܠܡ ܡܛܠ ܕܒܫܢܬ ܬܠܬܝܢ ܘܬܪ̈ܬܝܢ ܠܐܪܛܚܫܫܬ ܡܠܟܐ ܕܒܒܠ ܐܬܝ̇ܬ ܠܘܬ ܡܠܟܐ ܘܒܚܪܬܐ ܕܝܘܡ̈ܬܐ ܐܫܬܐܠܬ̇ ܡܢ ܡܠܟܐ \n",
      "7 ܘܐܬܝ̇ܬ ܠܐܘܪܫܠܡ ܘܐܣ̇ܬܟܠܬ ܒܝܫܬܐ ܕܥ̣ܒܕ ܐܠܝܫܒ ܠܛܘܒܝܐ ܕܥ̣ܒܕ ܠܗ ܒܝܬܐ ܒܕܪܬܐ ܕܡܪܝܐ \n",
      "8 ܘܐܬܐܒܫ ܠܝ ܛܒ ܘܫ̇ܕܝܬ ܟܠܗܘܢ ܡܐܢ̈ܐ ܕܒܝܬܗ ܕܛܘܒܝܐ ܒܫܘܩܐ ܠܒܪ ܡܢ ܕܪܬܐ \n",
      "9 ܘܐܡܪܬ̇ ܘܕܟܝܘ ܕܪܬܐ ܘܐܗܦܟܬ̇ ܠܬܡܢ ܡܐܢ̈ܝ ܒܝܬܗ ܕܡܪܝܐ ܘܩܘܪ̈ܒܢܐ ܘܠܒܘܢܬܐ \n",
      "10 ܘܝܕܥܬ̇ ܕܡܢܬܐ ܕܠܘܝ̈ܐ ܠܐ ܡܬܝܗܒܐ ܘܥܪܩܘ ܓܒܪ ܠܚܩܠܗ ܠܘܝ̈ܐ ܘܡܫܡ̈ܫܢܐ ܘܥܒ̈ܕܝ ܥܒܝ̈ܕܬܐ \n",
      "11 ܘܐܢܐ ܕܢܬ̇ ܥܡ ܪ̈ܫܐ ܘܐܡܪܬ̇ ܠܗܘܢ ܡܛܠ ܡܢܐ ܫܒܝܩ ܒܝܬܗ ܕܡܪܝܐ ܘܟܢܫ̇ܬ ܐܢܘܢ ܘܐܩܝܡ̇ܬ ܐܢܘܢ ܥܠ ܩܝܡܗܘܢ \n",
      "12 ܘܟܠܗܘܢ ܝܗܘ̈ܕܝܐ ܐܝܬܝܘ ܡܥܣܪ̈ܐ ܕܥܒܘܪܐ ܘܕܚܡ̣ܪܐ ܘܕܡܫܚܐ ܠܐܘܨܪ̈ܐ \n",
      "13 ܘܐܫܠܛܬ̇ ܥܠ ܐܘܨܪ̈ܐ ܠܫܠܡܝܐ ܟܘܡܪܐ ܘܠܨܕܘܩ ܣ̇ܦܪܐ ܘܠܦܪܝܐ ܒܪ ܠܘܝ̈ܐ ܘܥܡܗܘܢ ܚܢܢ ܒܪ ܙܟܘܪ ܒܪ ܡܬܢܝܐ ܡܛܠ ܕܫܪ̈ܝܪܐ ܐܬܚܫܒܘ ܘܦܨܬܗܘܢ ܣܠܩܬ ܠܡܗܘܐ ܪܝܫܐ ܠܐܚܝ̈ܗܘܢ \n",
      "14 ܐܬܕܟܪ ܠܝ ܐܠܗܝ ܡܛܠ ܗܕܐ ܘܠܐ ܬܥܒܪ ܛܝܒܘܬܝ ܕܥܒܕܬ ܒܒܝܬ ܐܠܗܝ ܘܒܢܛܘܪ̈ܬܗ \n"
     ]
    }
   ],
   "source": [
    "!sed -n '29196,29216p' ~/Downloads/Peshitta-A-{orig}.txt"
   ]
  },
  {
   "cell_type": "code",
   "execution_count": 30,
   "metadata": {},
   "outputs": [
    {
     "name": "stdout",
     "output_type": "stream",
     "text": [
      "40 ܘܥܠ ܬܪ̈ܬܝܢ ܟܢ̈ܘܫܢ ܠܒܝܬܗ ܕܡܪܝܐ ܘܐܢܐ ܘܦܠܓܗܘܢ ܕܪ̈ܫܢܐ ܕܐܝܬ ܗܘܘ ܥܡܝ \n",
      "41 ܘܟܘܡܪ̈ܐ ܐܠܝܩܝܡ ܘܡܥܣܝܐ ܡܚܠܝܢ ܡܝܟܐ ܐܠܝܗܘ ܥܢܢܝ ܙܟܪܝܐ ܚܢܢܝܐ ܒܩܪ̈ܢܬܐ \n",
      "42 ܡܥܣܝܐ ܘܫܡܥܝܐ ܘܠܥܙܪ ܘܥܙܝ ܘܝܘܚܢܢ ܘܡܠܟܝܐ ܘܥܠܡ ܘܥܙܘܪ ܘܫܡܘܥ ܡܫܡ̈ܫܢܐ ܘܙܪܚܝܐ ܪܫܐ \n",
      "43 ܘܕܒ̇ܚܘ ܒܝܘܡܐ ܗ̇ܘ ܕܒ̈ܚܐ ܪ̈ܘܪܒܐ ܘܚܕܝܘ ܡܛܠ ܕܡܪܝܐ ܚ̇ܕܝ ܐܢܘܢ ܚܕܘܬܐ ܪܒܬܐ ܘܐܦ ܢܫ̈ܐ ܘܛܠܝ̈ܐ ܚܕܝܘ ܘܐܫܬܡܥܬ ܚܕܘܬܐ ܕܐܘܪܫܠܡ ܠܪܘܚܩܐ \n",
      "44 ܘܐܫܠܛܘ ܒܝܘܡܐ ܗ̇ܘ ܓܒܪ̈ܐ ܐܝܠܝܢ ܕܝܗܒܝܢ ܗܘܘ ܡܢ ܐܘܨܪ̈ܐ ܠܡܠܟܐ ܒ̈ܬܐ ܠܡܩܦܣܘ ܒܗܘܢ ܪ̈ܫܝܬܐ ܘܡܥܣܪ̈ܐ ܕܪ̈ܫܐ ܕܩܘܪ̈ܝܐ ܐܝܟ ܕܟܬܝܒ ܒܟܬܒܐ ܕܢܡܘܣܐ ܠܟܘܡܪ̈ܐ ܘܠܠܘܝ̈ܐ ܡܛܠ ܕܚܕܘܬܐ ܕܝܗ̈ܘܕܝܐ ܥܠ ܟܘܡܪ̈ܐ ܘܠܘܝ̈ܐ ܐܝܠܝܢ ܕܩܝܡܝܢ \n",
      "45 ܘܢܛܪܝܢ ܡܛܪܬܐ ܒܒܝܬܐ ܕܐܠܗܗܘܢ ܘܢܛܪ̈ܝ ܢܛܘܪ̈ܬܐ ܕܟܝܐܝܬ ܘܡܫܡ̈ܫܢܐ ܘܬ̇ܪ̈ܥܐ ܐܝܟ ܦܘܩܕܢܐ ܕܕܘܝܕ ܘܕܫܠܝܡܘܢ ܒܪܗ \n",
      "46 ܡܛܠ ܕܒܝܘܡ̈ܬܗ ܕܕܘܝܕ ܗ̣ܘܐ ܐܣܦ ܘܩܡ ܒܪܫܐ ܕܡܫܡ̈ܫܢܐ ܘܡܫܒܚ ܗܘܐ ܘܡܘܕܐ ܩܕܡ ܡܪܝܐ ܐܠܗܐ \n",
      "47 ܘܟܘܠܗ ܐܝܣܪܐܝܠ ܒܝܘܡ̈ܘܗܝ ܕܙܘܪܒܒܠ ܘܒܝܘܡ̈ܬܗ ܕܢܚܡܝܐ ܝܗܒܝܢ ܡܘܗܒ̈ܬܐ ܠܡܫܡ̈ܫܢܐ ܘܬ̇ܪ̈ܥܐ ܡܦܩܝܢ ܘܝܗܒܝܢ ܝܘܡ ܒܝܘܡܗ ܘܡܩܕܫܝܢ ܠܠܘܝ̈ܐ ܘܠܘܝ̈ܐ ܡܩܕܫܝܢ ܠܒܢ̈ܝ ܐܗܪܘܢ \n",
      "Neh 13\n",
      "\n",
      "1 ܒܗ ܒܝܘܡܐ ܗ̇ܘ ܐܬܩܪܝ ܟܬܒܐ ܕܢܡܘܣܐ ܕܡܘܫܐ ܒܐܕܢܝ̈ ܥܡܐ ܘܐܫܬܟܚ ܕܟܬܝܒ ܒܗ ܕܠܐ ܢܥܠܘܢ ܥܡܘܢܝ̈ܐ ܘܡܘܐܒܝ̈ܐ ܠܟܢܘܫܬܗ ܕܡܪܝܐ ܥܕܡܐ ܠܥܠܡ \n",
      "2 ܡܛܠ ܕܠܐ ܐܪܥܘ ܠܒܢ̈ܝ ܐܝܣܪܝܠ ܒܠܚܡܐ ܘܒܡܝ̈ܐ ܘܐܓܪܘ ܠܗܘܢ ܠܒܠܥܡ ܠܡܠܛ ܐܢܘܢ ܘܐܗܦܟ ܐܠܗܢ ܠܘ̈ܛܬܗ ܠܒܘܪ̈ܟܬܐ \n",
      "3 ܗܝܕܝܢ ܟܕ ܫܡܥܘ ܡ̈ܠܐ ܕܢܡܘܣܐ ܐܬܦܪܫܘ ܟܠܗܘܢ ܥܪ̈ܘܒܐ ܡܢ ܐܝܣܪܐܝܠ \n",
      "4 ܘܐ̣ܬܐ ܐܠܝܫܒ ܟܘܡܪܐ \n",
      "5 ܘܒ̣ܢܐ ܠܗ ܬܡܢ ܕܪܬܐ ܚܕܐ ܪܒܬܐ ܘܬܡܢ ܡܢ ܠܩܘܕܡܝܢ ܣܝܡܝܢ ܗܘܘ ܩܘܪ̈ܒܢܐ ܘܠܒܘܢܬܐ ܘܡܐܢ̈ܐ ܕܡܥܣܪ̈ܐ ܕܥܒܘܪܐ ܘܕܚܡ̣ܪܐ ܘܕܡܫܚܐ ܘܒܩܘܪ̈ܝܐ ܕܠܘܝ̈ܐ ܘܕܡܫܡ̈ܫܢܐ ܘܕܬ̇ܪ̈ܥܐ ܘܪ̈ܝܫܝܬܐ ܕܟܗ̈ܢܐ \n",
      "6 ܘܒܟܠܗܝܢ ܗܠܝܢ ܠܐ ܗܘܝ̇ܬ ܒܐܘܪܫܠܡ ܡܛܠ ܕܒܫܢܬ ܬܠܬܝܢ ܘܬܪ̈ܬܝܢ ܠܐܪܛܚܫܫܬ ܡܠܟܐ ܕܒܒܠ ܐܬܝ̇ܬ ܠܘܬ ܡܠܟܐ ܘܒܚܪܬܐ ܕܝܘܡ̈ܬܐ ܐܫܬܐܠܬ̇ ܡܢ ܡܠܟܐ \n",
      "7 ܘܐܬܝ̇ܬ ܠܐܘܪܫܠܡ ܘܐܣ̇ܬܟܠܬ ܒܝܫܬܐ ܕܥ̣ܒܕ ܐܠܝܫܒ ܠܛܘܒܝܐ ܕܥ̣ܒܕ ܠܗ ܒܝܬܐ ܒܕܪܬܐ ܕܡܪܝܐ \n",
      "8 ܘܐܬܐܒܫ ܠܝ ܛܒ ܘܫ̇ܕܝܬ ܟܠܗܘܢ ܡܐܢ̈ܐ ܕܒܝܬܗ ܕܛܘܒܝܐ ܒܫܘܩܐ ܠܒܪ ܡܢ ܕܪܬܐ \n",
      "9 ܘܐܡܪܬ̇ ܘܕܟܝܘ ܕܪܬܐ ܘܐܗܦܟܬ̇ ܠܬܡܢ ܡܐܢ̈ܝ ܒܝܬܗ ܕܡܪܝܐ ܘܩܘܪ̈ܒܢܐ ܘܠܒܘܢܬܐ \n",
      "10 ܘܝܕܥܬ̇ ܕܡܢܬܐ ܕܠܘܝ̈ܐ ܠܐ ܡܬܝܗܒܐ ܘܥܪܩܘ ܓܒܪ ܠܚܩܠܗ ܠܘܝ̈ܐ ܘܡܫܡ̈ܫܢܐ ܘܥܒ̈ܕܝ ܥܒܝ̈ܕܬܐ \n",
      "11 ܘܐܢܐ ܕܢܬ̇ ܥܡ ܪ̈ܫܐ ܘܐܡܪܬ̇ ܠܗܘܢ ܡܛܠ ܡܢܐ ܫܒܝܩ ܒܝܬܗ ܕܡܪܝܐ ܘܟܢܫ̇ܬ ܐܢܘܢ ܘܐܩܝܡ̇ܬ ܐܢܘܢ ܥܠ ܩܝܡܗܘܢ \n"
     ]
    }
   ],
   "source": [
    "!sed -n '29196,29216p' ~/Downloads/Peshitta-B-{orig}.txt"
   ]
  },
  {
   "cell_type": "markdown",
   "metadata": {},
   "source": [
    "## Book names\n",
    "\n",
    "For Bible book names, we can use several languages.\n",
    "Well, in this case we have just English.\n",
    "\n",
    "### Languages\n",
    "Here are the languages that we can use for book names.\n",
    "These languages come from the features `book@ll`, where `ll` is a two letter\n",
    "ISO language code. Have a look in your data directory, you can't miss them."
   ]
  },
  {
   "cell_type": "code",
   "execution_count": 31,
   "metadata": {
    "ExecuteTime": {
     "end_time": "2018-03-08T10:14:47.152762Z",
     "start_time": "2018-03-08T10:14:47.145420Z"
    }
   },
   "outputs": [
    {
     "data": {
      "text/plain": [
       "{'': {'language': 'default', 'languageEnglish': 'default'},\n",
       " 'en': {'language': 'English', 'languageEnglish': 'English'}}"
      ]
     },
     "execution_count": 31,
     "metadata": {},
     "output_type": "execute_result"
    }
   ],
   "source": [
    "T.languages"
   ]
  },
  {
   "cell_type": "markdown",
   "metadata": {},
   "source": [
    "## Sections\n",
    "\n",
    "A section is a book, a chapter or a verse.\n",
    "Knowledge of sections is not baked into Text-Fabric.\n",
    "The config feature `otext.tf` may specify three section levels, and tell\n",
    "what the corresponding node types and features are.\n",
    "\n",
    "From that knowledge it can construct mappings from nodes to sections, e.g. from verse\n",
    "nodes to tuples of the form:\n",
    "\n",
    "    (bookName, chapterNumber, verseNumber)\n",
    "\n",
    "Here are examples of getting the section that corresponds to a node and vice versa.\n",
    "\n",
    "**NB:** `sectionFromNode` always delivers a verse specification, either from the\n",
    "first slot belonging to that node, or, if `lastSlot`, from the last slot\n",
    "belonging to that node."
   ]
  },
  {
   "cell_type": "code",
   "execution_count": 32,
   "metadata": {
    "ExecuteTime": {
     "end_time": "2018-03-08T10:14:49.175819Z",
     "start_time": "2018-03-08T10:14:49.151007Z"
    }
   },
   "outputs": [
    {
     "name": "stdout",
     "output_type": "stream",
     "text": [
      "section of first word          ('Genesis', 1, 1)\n",
      "node of Genesis 1:1            428170\n",
      "node of book Genesis           426836\n",
      "node of chapter Genesis 1      426901\n",
      "section of book node           ('Samuel_1', 4, 20)\n",
      "idem, now last word            ('Samuel_1', 4, 20)\n",
      "section of chapter node        ('Samuel_1', 4, 21)\n",
      "idem, now last word            ('Samuel_1', 4, 21)\n"
     ]
    }
   ],
   "source": [
    "for x in (\n",
    "    (\"section of first word\", T.sectionFromNode(1)),\n",
    "    (\"node of Genesis 1:1\", T.nodeFromSection((\"Genesis\", 1, 1))),\n",
    "    (\"node of book Genesis\", T.nodeFromSection((\"Genesis\",))),\n",
    "    (\"node of chapter Genesis 1\", T.nodeFromSection((\"Genesis\", 1))),\n",
    "    (\"section of book node\", T.sectionFromNode(109641)),\n",
    "    (\"idem, now last word\", T.sectionFromNode(109641, lastSlot=True)),\n",
    "    (\"section of chapter node\", T.sectionFromNode(109668)),\n",
    "    (\"idem, now last word\", T.sectionFromNode(109668, lastSlot=True)),\n",
    "):\n",
    "    print(\"{:<30} {}\".format(*x))"
   ]
  },
  {
   "cell_type": "markdown",
   "metadata": {},
   "source": [
    "# Next steps\n",
    "\n",
    "By now you have an impression how to compute around in the text.\n",
    "While this is still the beginning, I hope you already sense the power of unlimited programmatic access\n",
    "to all the bits and bytes in the data set.\n",
    "\n",
    "Here are a few directions for unleashing that power.\n",
    "\n",
    "## Search\n",
    "Text-Fabric contains a flexible search engine, that does not only work for this data,\n",
    "but also for data that you add to it.\n",
    "There is a tutorial dedicated to [search](search.ipynb).\n",
    "\n",
    "## Add your own data\n",
    "If you study the additional data, you can observe how that data is created and also\n",
    "how it is turned into a text-fabric data module.\n",
    "The last step is incredibly easy. You can write out every Python dictionary where the keys are numbers\n",
    "and the values string or numbers as a Text-Fabric feature.\n",
    "When you are creating data, you have already constructed those dictionaries, so writing\n",
    "them out is just one method call.\n",
    "\n",
    "You can then easily share your new features on GitHub, so that your colleagues everywhere\n",
    "can try it out for themselves."
   ]
  },
  {
   "cell_type": "markdown",
   "metadata": {},
   "source": [
    "## Export to Emdros MQL\n",
    "\n",
    "[EMDROS](http://emdros.org), written by Ulrik Petersen,\n",
    "is a text database system with the powerful *topographic* query language MQL.\n",
    "The ideas are based on a model devised by Christ-Jan Doedens in\n",
    "[Text Databases: One Database Model and Several Retrieval Languages](https://books.google.nl/books?id=9ggOBRz1dO4C).\n",
    "\n",
    "Text-Fabric's model of slots, nodes and edges is a fairly straightforward translation of the models of Christ-Jan Doedens and Ulrik Petersen.\n",
    "\n",
    "[SHEBANQ](https://shebanq.ancient-data.org) uses EMDROS to offer users to execute and save MQL queries against the Hebrew Text Database of the ETCBC.\n",
    "\n",
    "So it is kind of logical and convenient to be able to work with a Text-Fabric resource through MQL.\n",
    "\n",
    "If you have obtained an MQL dataset somehow, you can turn it into a text-fabric data set by `importMQL()`,\n",
    "which we will not show here.\n",
    "\n",
    "And if you want to export a Text-Fabric data set to MQL, that is also possible.\n",
    "\n",
    "After the `Fabric(modules=...)` call, you can call `exportMQL()` in order to save all features of the\n",
    "indicated modules into a big MQL dump, which can be imported by an EMDROS database."
   ]
  },
  {
   "cell_type": "code",
   "execution_count": 32,
   "metadata": {
    "ExecuteTime": {
     "end_time": "2018-03-08T10:15:03.472718Z",
     "start_time": "2018-03-08T10:14:55.847533Z"
    }
   },
   "outputs": [
    {
     "name": "stdout",
     "output_type": "stream",
     "text": [
      "  0.00s Checking features of dataset peshitta\n"
     ]
    },
    {
     "name": "stderr",
     "output_type": "stream",
     "text": [
      "   |     0.00s feature \"book@en\" => \"book_en\"\n"
     ]
    },
    {
     "name": "stdout",
     "output_type": "stream",
     "text": [
      "  0.00s 9 features to export to MQL ...\n",
      "  0.00s Loading 9 features\n",
      "  0.01s Writing enumerations\n",
      "\ttrailer        :   14 values, 14 not a name, e.g. « »\n",
      "\ttrailer_etcbc  :   14 values, 14 not a name, e.g. « »\n",
      "   |     0.14s Writing an all-in-one enum with  132 values\n",
      "  0.14s Mapping 9 features onto 4 object types\n",
      "  0.43s Writing 9 features as data in 4 object types\n",
      "   |     0.00s word data ...\n",
      "   |      |     0.35s batch of size                6.3MB with   50000 of   50000 words\n",
      "   |      |     0.65s batch of size                6.3MB with   50000 of  100000 words\n",
      "   |      |     0.98s batch of size                6.4MB with   50000 of  150000 words\n",
      "   |      |     1.29s batch of size                6.4MB with   50000 of  200000 words\n",
      "   |      |     1.59s batch of size                6.4MB with   50000 of  250000 words\n",
      "   |      |     1.90s batch of size                6.4MB with   50000 of  300000 words\n",
      "   |      |     2.24s batch of size                6.4MB with   50000 of  350000 words\n",
      "   |      |     2.56s batch of size                6.4MB with   50000 of  400000 words\n",
      "   |      |     2.73s batch of size                3.5MB with   27227 of  427227 words\n",
      "   |     2.73s word data: 427227 objects\n",
      "   |     0.00s verse data ...\n",
      "   |      |     0.22s batch of size                3.1MB with   31376 of   31376 verses\n",
      "   |     0.22s verse data: 31376 objects\n",
      "   |     0.00s chapter data ...\n",
      "   |      |     0.05s batch of size              113.7KB with    1269 of    1269 chapters\n",
      "   |     0.05s chapter data: 1269 objects\n",
      "   |     0.00s book data ...\n",
      "   |      |     0.04s batch of size                6.4KB with      65 of      65 books\n",
      "   |     0.04s book data: 65 objects\n",
      "  3.47s Done\n"
     ]
    }
   ],
   "source": [
    "TF.exportMQL(\"peshitta\", \"~/Downloads\")"
   ]
  },
  {
   "cell_type": "markdown",
   "metadata": {},
   "source": [
    "Now you have a file `~/Downloads/peshitta.mql` of 61 MB.\n",
    "You can import it into an Emdros database by saying:\n",
    "\n",
    "    cd ~/Downloads\n",
    "    rm peshitta\n",
    "    mql -b 3 < peshitta.mql\n",
    "\n",
    "The result is an SQLite3 database `peshitta` in the same directory (24 MB).\n",
    "You can run a query against it by creating a text file test.mql with this contents:\n",
    "\n",
    "    select all objects where\n",
    "    [book book=Gn\n",
    "      [chapter chapter=1\n",
    "        [verse verse=1\n",
    "          [word]\n",
    "        ]\n",
    "      ]\n",
    "    ]\n",
    "\n",
    "And then say\n",
    "\n",
    "    mql -b 3 -d peshitta test.mql\n",
    "\n",
    "You will see raw query results: all words in Genesis 1:1.\n",
    "\n",
    "It is not very pretty, and probably you should use a more visual Emdros tool to run those queries.\n",
    "You see a lot of node numbers, but the good thing is, you can look those node numbers up in Text-Fabric."
   ]
  },
  {
   "cell_type": "markdown",
   "metadata": {},
   "source": [
    "---\n",
    "\n",
    "CC-BY Dirk Roorda"
   ]
  }
 ],
 "metadata": {
  "kernelspec": {
   "display_name": "Python 3 (ipykernel)",
   "language": "python",
   "name": "python3"
  },
  "language_info": {
   "codemirror_mode": {
    "name": "ipython",
    "version": 3
   },
   "file_extension": ".py",
   "mimetype": "text/x-python",
   "name": "python",
   "nbconvert_exporter": "python",
   "pygments_lexer": "ipython3",
   "version": "3.10.0"
  },
  "toc": {
   "nav_menu": {},
   "number_sections": true,
   "sideBar": true,
   "skip_h1_title": false,
   "toc_cell": false,
   "toc_position": {},
   "toc_section_display": "block",
   "toc_window_display": false
  },
  "widgets": {
   "application/vnd.jupyter.widget-state+json": {
    "state": {},
    "version_major": 2,
    "version_minor": 0
   }
  }
 },
 "nbformat": 4,
 "nbformat_minor": 4
}
